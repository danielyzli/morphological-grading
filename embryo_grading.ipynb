{
  "nbformat": 4,
  "nbformat_minor": 0,
  "metadata": {
    "accelerator": "GPU",
    "colab": {
      "name": "embryo-grading.ipynb",
      "provenance": [],
      "collapsed_sections": [
        "X1gN_XDMLzVL"
      ],
      "toc_visible": true,
      "machine_shape": "hm",
      "mount_file_id": "1XtKPu0njR4qQ_8FD0WsqcjyciFMjk_eE",
      "authorship_tag": "ABX9TyNoThrVMQXxO2HKkAS/lV+h",
      "include_colab_link": true
    },
    "kernelspec": {
      "display_name": "Python 3",
      "name": "python3"
    },
    "language_info": {
      "name": "python"
    }
  },
  "cells": [
    {
      "cell_type": "markdown",
      "metadata": {
        "id": "view-in-github",
        "colab_type": "text"
      },
      "source": [
        "<a href=\"https://colab.research.google.com/github/danielyzli/morphological-grading/blob/main/embryo_grading.ipynb\" target=\"_parent\"><img src=\"https://colab.research.google.com/assets/colab-badge.svg\" alt=\"Open In Colab\"/></a>"
      ]
    },
    {
      "cell_type": "markdown",
      "metadata": {
        "id": "IzQ37HjdKgEX"
      },
      "source": [
        "# Dataset Exploration\n",
        "\n",
        "* ```data[index]```\n",
        "  * ```data[index]['index']``` - (type: int) true index (since there is index skipping)\n",
        "  * ```data[index]['img']```\n",
        "    * ```data[index]['img']['0']``` - (type: numpy array) focal 0 image\n",
        "    * ```data[index]['img']['-15']``` - (type: numpy array) focal -15 image\n",
        "    * ...and so on\n",
        "  * ```data[index]['label']```\n",
        "    * ```data[index]['label'][0]``` - (type: list of ints) labels based on multiple focal\n",
        "    * ```data[index]['label'][1]``` - (type: list of ints) labels based on single focal\n",
        "\n",
        "\n"
      ]
    },
    {
      "cell_type": "markdown",
      "metadata": {
        "id": "-6afx0mlAi53"
      },
      "source": [
        "## Open dataset"
      ]
    },
    {
      "cell_type": "code",
      "metadata": {
        "id": "WZV_HzE9aqCK"
      },
      "source": [
        "import numpy as np\n",
        "import matplotlib.pyplot as plt\n",
        "import pickle\n",
        "\n",
        "with open('/content/drive/MyDrive/embryo-grading/multi-focal-project/morphology_grading_dataset_0606.pickle', 'rb') as handle:\n",
        "  data = pickle.load(handle)"
      ],
      "execution_count": null,
      "outputs": []
    },
    {
      "cell_type": "markdown",
      "metadata": {
        "id": "2jiN8ol5AtNq"
      },
      "source": [
        "## Plot label distributions"
      ]
    },
    {
      "cell_type": "code",
      "metadata": {
        "colab": {
          "base_uri": "https://localhost:8080/",
          "height": 265
        },
        "id": "RlVA5J2o62dI",
        "outputId": "165c58f5-a41a-4286-eba2-ab9e668de016"
      },
      "source": [
        "labellist1, labellist2, labellist3 = [], [], []\n",
        "for i in range(len(data)):\n",
        "  labellist1.append(data[i]['label'][1][0])\n",
        "  labellist2.append(data[i]['label'][1][1])\n",
        "  labellist3.append(data[i]['label'][1][2])\n",
        "plt.figure()\n",
        "bins = [-1.5, -0.5, 0.5, 1.5, 2.5, 3.5, 4.5]\n",
        "plt.hist([labellist1, labellist2, labellist3], bins=bins, label=['label1', 'label2', 'label3'])\n",
        "plt.legend()\n",
        "plt.show()"
      ],
      "execution_count": null,
      "outputs": [
        {
          "data": {
            "image/png": "[encoded data removed]",
            "text/plain": [
              "<Figure size 432x288 with 1 Axes>"
            ]
          },
          "metadata": {
            "tags": []
          },
          "output_type": "display_data"
        }
      ]
    },
    {
      "cell_type": "markdown",
      "metadata": {
        "id": "O_8KOfV0A2Of"
      },
      "source": [
        "## Plot # images per key"
      ]
    },
    {
      "cell_type": "code",
      "metadata": {
        "colab": {
          "base_uri": "https://localhost:8080/",
          "height": 269
        },
        "id": "t_JIEKFzU2d_",
        "outputId": "864a21bc-6060-4c1b-b3f1-8aca431f12a8"
      },
      "source": [
        "lengthlist = []\n",
        "for i in range(len(data)):\n",
        "  lengthlist.append(len(data[i]['img'].keys()))\n",
        "plt.figure()\n",
        "plt.hist(lengthlist)\n",
        "plt.show()"
      ],
      "execution_count": null,
      "outputs": [
        {
          "data": {
            "image/png": "[encoded data removed]",
            "text/plain": [
              "<Figure size 432x288 with 1 Axes>"
            ]
          },
          "metadata": {
            "tags": []
          },
          "output_type": "display_data"
        }
      ]
    },
    {
      "cell_type": "markdown",
      "metadata": {
        "id": "s91b3uw1P-N0"
      },
      "source": [
        "# Dummy Run Script"
      ]
    },
    {
      "cell_type": "markdown",
      "metadata": {
        "id": "WK_ZOXBg-Hq3"
      },
      "source": [
        "## Modules"
      ]
    },
    {
      "cell_type": "code",
      "metadata": {
        "id": "6hhPt_2R-hXH"
      },
      "source": [
        "import torch\n",
        "import torch.nn as nn\n",
        "import torch.optim as optim\n",
        "import numpy as np\n",
        "import torchvision\n",
        "from torchvision import datasets, models, transforms, utils\n",
        "from torch.utils.data import Dataset, DataLoader\n",
        "from torch.utils.data.sampler import SubsetRandomSampler\n",
        "import torch.nn.functional as F\n",
        "import matplotlib.pyplot as plt\n",
        "import pickle\n",
        "import copy\n",
        "import time"
      ],
      "execution_count": null,
      "outputs": []
    },
    {
      "cell_type": "markdown",
      "metadata": {
        "id": "fB3UaqjO-z9g"
      },
      "source": [
        "## class single_focal_net\n",
        "\n",
        "Resnet18 with three FCN outputs"
      ]
    },
    {
      "cell_type": "code",
      "metadata": {
        "id": "9dOo1OfVBgyh"
      },
      "source": [
        "class single_focal_net(nn.Module):\n",
        "\n",
        "    def __init__(self):\n",
        "        super(single_focal_net, self).__init__()\n",
        "        self.backbone_model = models.resnet18(pretrained=True)\n",
        "        self.backbone_model.fc = nn.Identity()\n",
        "        self.fc1 = nn.Linear(512, 4)\n",
        "        self.fc2 = nn.Linear(512, 3)\n",
        "        self.fc3 = nn.Linear(512, 3)\n",
        "\n",
        "    def forward(self, x):\n",
        "        x = self.backbone_model(x)\n",
        "        out1 = self.fc1(x)\n",
        "        out2 = self.fc2(x)\n",
        "        out3 = self.fc3(x)\n",
        "        return {'out1': out1, 'out2': out2, 'out3': out3}"
      ],
      "execution_count": null,
      "outputs": []
    },
    {
      "cell_type": "markdown",
      "metadata": {
        "id": "2PT4OpbhBlPf"
      },
      "source": [
        "## class mydata"
      ]
    },
    {
      "cell_type": "code",
      "metadata": {
        "id": "-A72fWWPBiH4"
      },
      "source": [
        "class mydata(Dataset):\n",
        "\n",
        "    def __init__(self, datafn, multi_image=False, transform=None):\n",
        "        # Load .mat data file\n",
        "        with open(datafn, 'rb') as handle:\n",
        "            self.data = pickle.load(handle)\n",
        "        self.multi_image_flag = multi_image\n",
        "        self.transform = transform\n",
        "\n",
        "    def __len__(self):\n",
        "        return len(self.data)\n",
        "\n",
        "    def __getitem__(self, idx):\n",
        "        if torch.is_tensor(idx):\n",
        "            idx = idx.tolist()\n",
        "\n",
        "        if not self.multi_image_flag:\n",
        "            image = self.data[idx]['img']['0']\n",
        "            labels = self.data[idx]['label'][1]\n",
        "        else:\n",
        "            # TODO\n",
        "            image = self.data[idx]['img']['0']\n",
        "            labels = self.data[idx]['label'][0]\n",
        "        if self.transform:\n",
        "            image = self.transform(image)\n",
        "        image = image.repeat(3, 1, 1) # turn into RGB because pretrained network expects RGB\n",
        "\n",
        "        return image, labels"
      ],
      "execution_count": null,
      "outputs": []
    },
    {
      "cell_type": "markdown",
      "metadata": {
        "id": "GckHiIVFIIBW"
      },
      "source": [
        "## function focal_loss"
      ]
    },
    {
      "cell_type": "code",
      "metadata": {
        "id": "f3beCQIlIg9H"
      },
      "source": [
        "def focal_loss(labels, logits, alpha, gamma):\n",
        "    bcloss = F.binary_cross_entropy_with_logits(input=logits, target=labels, reduction='none')\n",
        "    if gamma == 0.0:\n",
        "        modulator = 1.0\n",
        "    else:\n",
        "        modulator = torch.exp(-gamma * labels * logits - gamma * torch.log(1 + torch.exp(-1.0 * logits)))\n",
        "\n",
        "    loss = modulator * bcloss\n",
        "    weighted_loss = alpha * loss\n",
        "\n",
        "    return torch.sum(weighted_loss) / torch.sum(labels)"
      ],
      "execution_count": null,
      "outputs": []
    },
    {
      "cell_type": "markdown",
      "metadata": {
        "id": "qPFYByrIIaV4"
      },
      "source": [
        "## function cb_loss\n",
        "\n",
        "Class balanced loss function wrapper."
      ]
    },
    {
      "cell_type": "code",
      "metadata": {
        "id": "RN9-Pvs0IWDo"
      },
      "source": [
        "def cb_loss(labels, logits, samples_per_class, loss_type, beta, gamma, device):\n",
        "    num_class = len(samples_per_class)\n",
        "    labels_oh = F.one_hot(labels, num_class).float()\n",
        "    weights = (1.0 - beta) / (np.array(1.0 - np.power(beta, samples_per_class)))\n",
        "    weights = weights / np.sum(weights) * num_class\n",
        "    weights = torch.tensor(weights).float()\n",
        "    weights = weights.to(device)\n",
        "    weights = weights.unsqueeze(0)\n",
        "    weights = weights.repeat(labels_oh.shape[0], 1) * labels_oh\n",
        "    weights = weights.sum(1)\n",
        "    weights = weights.unsqueeze(1)\n",
        "    weights = weights.repeat(1, num_class)\n",
        "\n",
        "    if loss_type == 'focal':\n",
        "        cb_loss = focal_loss(labels_oh, logits, weights, gamma)\n",
        "    elif loss_type == 'sigmoid':\n",
        "        cb_loss = F.binary_cross_entropy_with_logits(input=logits, target=labels_oh, weights=weights)\n",
        "    elif loss_type == 'softmax':\n",
        "        pred = logits.softmax(dim = 1)\n",
        "        cb_loss = F.binary_cross_entropy(input=pred, target=labels_oh, weight=weights)\n",
        "\n",
        "    return cb_loss"
      ],
      "execution_count": null,
      "outputs": []
    },
    {
      "cell_type": "markdown",
      "metadata": {
        "id": "ac-V7oXaB4hu"
      },
      "source": [
        "## function train_model"
      ]
    },
    {
      "cell_type": "code",
      "metadata": {
        "id": "w2Jmffh8CIBi"
      },
      "source": [
        "def train_model(model, dataloaders, optimizer, criterion, lr_scheduler, num_epochs, samples_per_class, loss_type, loss_beta, loss_gamma, device):\n",
        "  since = time.time()\n",
        "\n",
        "  train_loss1_vec, train_loss2_vec, train_loss3_vec = [], [], []\n",
        "  val_loss1_vec, val_loss2_vec, val_loss3_vec = [], [], []\n",
        "  train_acc1_vec, train_acc2_vec, train_acc3_vec = [], [], []\n",
        "  val_acc1_vec, val_acc2_vec, val_acc3_vec = [], [], []\n",
        "\n",
        "  best_model_wts = copy.deepcopy(model.state_dict())\n",
        "  best_acc = 0.0\n",
        "\n",
        "  for epoch in range(num_epochs):\n",
        "    print('Epoch {}/{}'.format(epoch, num_epochs - 1))\n",
        "    print('-' * 10)\n",
        "\n",
        "    print('lr: {}'.format(optimizer.param_groups[0]['lr']))\n",
        "\n",
        "    # Each epoch has a training and validation phase\n",
        "    for phase in ['train', 'val']:\n",
        "      if phase == 'train':\n",
        "        model.train()  # Set model to training mode\n",
        "      else:\n",
        "        model.eval()   # Set model to evaluate mode\n",
        "\n",
        "      running_loss1, running_loss2, running_loss3 = 0, 0, 0\n",
        "      running_corrects1, running_corrects2, running_corrects3 = 0, 0, 0\n",
        "\n",
        "      # Iterate over data.\n",
        "      for inputs, labels in dataloaders[phase]:\n",
        "        inputs = inputs.to(device)\n",
        "        label1 = torch.from_numpy(np.asarray(labels[0]).astype('long')).to(device)\n",
        "        label2 = torch.from_numpy(np.asarray(labels[1]).astype('long')).to(device)\n",
        "        label3 = torch.from_numpy(np.asarray(labels[2]).astype('long')).to(device)\n",
        "\n",
        "        # zero the parameter gradients\n",
        "        optimizer.zero_grad()\n",
        "\n",
        "        # forward\n",
        "        # track history if only in train\n",
        "        with torch.set_grad_enabled(phase == 'train'):\n",
        "          outputs = model(inputs)\n",
        "          # loss1 = criterion(outputs['out1'], label1)\n",
        "          # loss2 = criterion(outputs['out2'], label2)\n",
        "          # loss3 = criterion(outputs['out3'], label3)\n",
        "          loss1 = cb_loss(label1, outputs['out1'], samples_per_class[0], loss_type, loss_beta, loss_gamma, device)\n",
        "          loss2 = cb_loss(label2, outputs['out2'], samples_per_class[1], loss_type, loss_beta, loss_gamma, device)\n",
        "          loss3 = cb_loss(label3, outputs['out3'], samples_per_class[2], loss_type, loss_beta, loss_gamma, device)\n",
        "          loss = (loss1 + loss2 + loss3)/3\n",
        "\n",
        "          _, preds1 = torch.max(outputs['out1'], 1)\n",
        "          _, preds2 = torch.max(outputs['out2'], 1)\n",
        "          _, preds3 = torch.max(outputs['out3'], 1)\n",
        "\n",
        "          # backward + optimize only if in training phase\n",
        "          if phase == 'train':\n",
        "            loss.backward()\n",
        "            optimizer.step()\n",
        "\n",
        "        # statistics\n",
        "        running_loss1 += loss1.item() * inputs.size(0)\n",
        "        running_loss2 += loss2.item() * inputs.size(0)\n",
        "        running_loss3 += loss3.item() * inputs.size(0)\n",
        "        running_corrects1 += torch.sum(preds1 == label1).cpu().numpy()\n",
        "        running_corrects2 += torch.sum(preds2 == label2).cpu().numpy()\n",
        "        running_corrects3 += torch.sum(preds3 == label3).cpu().numpy()\n",
        "\n",
        "      if phase == 'train':\n",
        "        lr_scheduler.step()\n",
        "\n",
        "      epoch_loss1 = running_loss1 / len(dataloaders[phase].sampler)\n",
        "      epoch_loss2 = running_loss2 / len(dataloaders[phase].sampler)\n",
        "      epoch_loss3 = running_loss3 / len(dataloaders[phase].sampler)\n",
        "      epoch_acc1 = running_corrects1 / len(dataloaders[phase].sampler)\n",
        "      epoch_acc2 = running_corrects2 / len(dataloaders[phase].sampler)\n",
        "      epoch_acc3 = running_corrects3 / len(dataloaders[phase].sampler)\n",
        "      print('({})\\nLoss1: {:.4f}   Loss2: {:.4f}   Loss3: {:.4f}\\nAcc1: {:.4f}   Acc2: {:.4f}   Acc3: {:.4f}'.format(phase, epoch_loss1, epoch_loss2, epoch_loss3, epoch_acc1, epoch_acc2, epoch_acc3))\n",
        "\n",
        "      # deep copy the model\n",
        "      if phase == 'val' and (epoch_acc1 + epoch_acc2 + epoch_acc3)/3 > best_acc:\n",
        "        best_acc = (epoch_acc1 + epoch_acc2 + epoch_acc3)/3\n",
        "        best_model_wts = copy.deepcopy(model.state_dict())\n",
        "      # record history\n",
        "      if phase == 'train':\n",
        "        train_loss1_vec.append(epoch_loss1)\n",
        "        train_loss2_vec.append(epoch_loss2)\n",
        "        train_loss3_vec.append(epoch_loss3)\n",
        "        train_acc1_vec.append(epoch_acc1)\n",
        "        train_acc2_vec.append(epoch_acc2)\n",
        "        train_acc3_vec.append(epoch_acc3)\n",
        "      else:\n",
        "        val_loss1_vec.append(epoch_loss1)\n",
        "        val_loss2_vec.append(epoch_loss2)\n",
        "        val_loss3_vec.append(epoch_loss3)\n",
        "        val_acc1_vec.append(epoch_acc1)\n",
        "        val_acc2_vec.append(epoch_acc2)\n",
        "        val_acc3_vec.append(epoch_acc3)\n",
        "\n",
        "    print()\n",
        "\n",
        "  time_elapsed = time.time() - since\n",
        "  print('Training complete in {:.0f}m {:.0f}s'.format(time_elapsed // 60, time_elapsed % 60))\n",
        "  print('Best val Acc: {:4f}'.format(best_acc))\n",
        "\n",
        "  # load best model weights\n",
        "  model.load_state_dict(best_model_wts)\n",
        "  return model, {'train_loss': [train_loss1_vec, train_loss2_vec, train_loss3_vec], 'train_acc': [train_acc1_vec, train_acc2_vec, train_acc3_vec], 'val_loss': [val_loss1_vec, val_loss2_vec, val_loss3_vec], 'val_acc': [val_acc1_vec, val_acc2_vec, val_acc3_vec]}"
      ],
      "execution_count": null,
      "outputs": []
    },
    {
      "cell_type": "markdown",
      "metadata": {
        "id": "twJRCU1jDF7Y"
      },
      "source": [
        "## function plot_training_curve"
      ]
    },
    {
      "cell_type": "code",
      "metadata": {
        "id": "3cVfinamDV2Q"
      },
      "source": [
        "def plot_training_curve(history_dict, num_epochs):\n",
        "  titles = ['Label 1 (dev. stage)', 'Label 2 (inner cell mass)', 'Label 3 (trophectoderm)']\n",
        "  epochs = range(num_epochs)\n",
        "  for i in range(3):\n",
        "    plt.figure()\n",
        "    plt.plot(epochs, history_dict['train_loss'][i], label='train loss')\n",
        "    plt.plot(epochs, history_dict['train_acc'][i], label='train acc')\n",
        "    plt.plot(epochs, history_dict['val_loss'][i], label='val loss')\n",
        "    plt.plot(epochs, history_dict['val_acc'][i], label='val acc')\n",
        "    plt.title(titles[i])\n",
        "    plt.legend()\n",
        "    plt.xlabel('Epochs')\n",
        "  plt.show()"
      ],
      "execution_count": null,
      "outputs": []
    },
    {
      "cell_type": "markdown",
      "metadata": {
        "id": "_YtFW4QgDqUO"
      },
      "source": [
        "## Parameters"
      ]
    },
    {
      "cell_type": "code",
      "metadata": {
        "id": "H1pg64NfD4tT"
      },
      "source": [
        "np_random_seed = 64\n",
        "datafn = '/content/drive/MyDrive/embryo-grading/multi-focal-project/morphology_grading_dataset_0606.pickle'\n",
        "batch_size = 32\n",
        "learning_rate = 0.1\n",
        "momentum = 0.9\n",
        "lr_step = 10\n",
        "lr_gamma = 0.5\n",
        "shuffle_dataset = True\n",
        "validation_split = 0.2\n",
        "trans = transforms.Compose([transforms.ToTensor(),\n",
        "                            transforms.Normalize([0.3927], [0.2723])])\n",
        "num_epochs = 100\n",
        "loss_type = 'focal'\n",
        "loss_beta = 0.001\n",
        "loss_gamma = 0.001"
      ],
      "execution_count": null,
      "outputs": []
    },
    {
      "cell_type": "markdown",
      "metadata": {
        "id": "mT1jEmgvEB5q"
      },
      "source": [
        "## Training script\n",
        "\n",
        "Dataloader structure\n",
        "* Each index of ```loader[0-(#batches-1)]``` contains:\n",
        "  * ```images[0-(batch_size-1)]``` \n",
        "  * ```labels[0,1,2]``` which contains ```label1[0-(batch_size-1)]```, ```label2[0-(batch_size-1)]```, and ```label3[0-(batch_size-1)]``` (one-hot)\n",
        "  * The last batch may not be complete i.e. have length shorter than ```batch_size```"
      ]
    },
    {
      "cell_type": "code",
      "metadata": {
        "id": "rjVSGqJtKkHW"
      },
      "source": [
        "# Dataset\n",
        "dataset = mydata(datafn, multi_image=False, transform=trans)"
      ],
      "execution_count": null,
      "outputs": []
    },
    {
      "cell_type": "code",
      "metadata": {
        "colab": {
          "base_uri": "https://localhost:8080/",
          "height": 1000
        },
        "id": "kPZGWmz_Lx8O",
        "outputId": "93334977-2e97-450a-a069-6ca5f0684e12"
      },
      "source": [
        "# Split into train and test\n",
        "dataset_size = len(dataset)\n",
        "indices = list(range(dataset_size))\n",
        "split = int(np.floor(validation_split * dataset_size))\n",
        "if shuffle_dataset:\n",
        "  np.random.seed(np_random_seed)\n",
        "  np.random.shuffle(indices)\n",
        "train_indices = indices[split:]\n",
        "val_indices = indices[:split]\n",
        "train_sampler = SubsetRandomSampler(train_indices)\n",
        "val_sampler = SubsetRandomSampler(val_indices)\n",
        "\n",
        "# Load data\n",
        "train_loader = DataLoader(dataset, batch_size=batch_size, sampler=train_sampler)\n",
        "val_loader = DataLoader(dataset, batch_size=batch_size, sampler=val_sampler)\n",
        "# fortesting_loader = DataLoader(dataset, batch_size=batch_size)\n",
        "\n",
        "samples_per_class = [[0, 0, 0, 0], [0, 0, 0], [0, 0, 0]]\n",
        "for _, labels in train_loader:\n",
        "  for i in range(3):\n",
        "    for j in range(len(samples_per_class[i])):\n",
        "      num_mask = np.asarray(labels[i]) == j\n",
        "      samples_per_class[i][j] += len(labels[i][num_mask])\n",
        "\n",
        "# Instantiate network\n",
        "model = single_focal_net()\n",
        "\n",
        "# Use CUDA\n",
        "device = torch.device('cuda:0' if torch.cuda.is_available() else 'cpu')\n",
        "# device = torch.device('cpu')\n",
        "model = model.to(device)\n",
        "\n",
        "# Training setup\n",
        "optimizer = optim.SGD(model.parameters(), lr=0.001, momentum=0.9)\n",
        "lr_scheduler = optim.lr_scheduler.StepLR(optimizer, step_size=lr_step, gamma=lr_gamma)\n",
        "criterion = nn.CrossEntropyLoss()\n",
        "\n",
        "# Run training\n",
        "model, history_dict = train_model(model, {'train': train_loader, 'val': val_loader}, optimizer, criterion, lr_scheduler, num_epochs, samples_per_class, loss_type, loss_beta, loss_gamma, device)\n",
        "\n",
        "# Visualize the training\n",
        "plot_training_curve(history_dict, num_epochs)"
      ],
      "execution_count": null,
      "outputs": [
        {
          "name": "stdout",
          "output_type": "stream",
          "text": [
            "Epoch 0/99\n",
            "----------\n",
            "lr: 0.001\n",
            "(train)\n",
            "Loss1: 1.2880   Loss2: 1.0902   Loss3: 0.8931\n",
            "Acc1: 0.7222   Acc2: 0.7296   Acc3: 0.7992\n",
            "(val)\n",
            "Loss1: 0.9149   Loss2: 0.9227   Loss3: 0.7547\n",
            "Acc1: 0.8050   Acc2: 0.7326   Acc3: 0.8161\n",
            "\n",
            "Epoch 1/99\n",
            "----------\n",
            "lr: 0.001\n",
            "(train)\n",
            "Loss1: 0.8567   Loss2: 0.8659   Loss3: 0.7095\n",
            "Acc1: 0.8171   Acc2: 0.7575   Acc3: 0.8252\n",
            "(val)\n",
            "Loss1: 0.8093   Loss2: 0.8934   Loss3: 0.7145\n",
            "Acc1: 0.8139   Acc2: 0.7437   Acc3: 0.8235\n",
            "\n",
            "Epoch 2/99\n",
            "----------\n",
            "lr: 0.001\n",
            "(train)\n",
            "Loss1: 0.7622   Loss2: 0.8242   Loss3: 0.6598\n",
            "Acc1: 0.8379   Acc2: 0.7724   Acc3: 0.8389\n",
            "(val)\n",
            "Loss1: 0.7418   Loss2: 0.8455   Loss3: 0.6745\n",
            "Acc1: 0.8353   Acc2: 0.7511   Acc3: 0.8486\n",
            "\n",
            "Epoch 3/99\n",
            "----------\n",
            "lr: 0.001\n",
            "(train)\n",
            "Loss1: 0.7183   Loss2: 0.7961   Loss3: 0.6250\n",
            "Acc1: 0.8523   Acc2: 0.7781   Acc3: 0.8474\n",
            "(val)\n",
            "Loss1: 0.7210   Loss2: 0.8439   Loss3: 0.6546\n",
            "Acc1: 0.8412   Acc2: 0.7555   Acc3: 0.8545\n",
            "\n",
            "Epoch 4/99\n",
            "----------\n",
            "lr: 0.001\n",
            "(train)\n",
            "Loss1: 0.6816   Loss2: 0.7691   Loss3: 0.5872\n",
            "Acc1: 0.8619   Acc2: 0.7914   Acc3: 0.8621\n",
            "(val)\n",
            "Loss1: 0.6727   Loss2: 0.8382   Loss3: 0.6341\n",
            "Acc1: 0.8479   Acc2: 0.7541   Acc3: 0.8641\n",
            "\n",
            "Epoch 5/99\n",
            "----------\n",
            "lr: 0.001\n",
            "(train)\n",
            "Loss1: 0.6432   Loss2: 0.7542   Loss3: 0.5599\n",
            "Acc1: 0.8714   Acc2: 0.7966   Acc3: 0.8664\n",
            "(val)\n",
            "Loss1: 0.6505   Loss2: 0.8558   Loss3: 0.6419\n",
            "Acc1: 0.8575   Acc2: 0.7600   Acc3: 0.8464\n",
            "\n",
            "Epoch 6/99\n",
            "----------\n",
            "lr: 0.001\n",
            "(train)\n",
            "Loss1: 0.5987   Loss2: 0.7289   Loss3: 0.5198\n",
            "Acc1: 0.8793   Acc2: 0.8023   Acc3: 0.8782\n",
            "(val)\n",
            "Loss1: 0.6304   Loss2: 0.8601   Loss3: 0.6081\n",
            "Acc1: 0.8663   Acc2: 0.7592   Acc3: 0.8582\n",
            "\n",
            "Epoch 7/99\n",
            "----------\n",
            "lr: 0.001\n",
            "(train)\n",
            "Loss1: 0.5719   Loss2: 0.7128   Loss3: 0.4897\n",
            "Acc1: 0.8852   Acc2: 0.8058   Acc3: 0.8854\n",
            "(val)\n",
            "Loss1: 0.6306   Loss2: 0.8713   Loss3: 0.6431\n",
            "Acc1: 0.8612   Acc2: 0.7651   Acc3: 0.8530\n",
            "\n",
            "Epoch 8/99\n",
            "----------\n",
            "lr: 0.001\n",
            "(train)\n",
            "Loss1: 0.5553   Loss2: 0.6946   Loss3: 0.4624\n",
            "Acc1: 0.8874   Acc2: 0.8138   Acc3: 0.8977\n",
            "(val)\n",
            "Loss1: 0.6266   Loss2: 0.8566   Loss3: 0.6551\n",
            "Acc1: 0.8575   Acc2: 0.7651   Acc3: 0.8508\n",
            "\n",
            "Epoch 9/99\n",
            "----------\n",
            "lr: 0.001\n",
            "(train)\n",
            "Loss1: 0.5285   Loss2: 0.6634   Loss3: 0.4432\n",
            "Acc1: 0.8942   Acc2: 0.8298   Acc3: 0.8992\n",
            "(val)\n",
            "Loss1: 0.6025   Loss2: 0.8506   Loss3: 0.6148\n",
            "Acc1: 0.8671   Acc2: 0.7688   Acc3: 0.8604\n",
            "\n",
            "Epoch 10/99\n",
            "----------\n",
            "lr: 0.0005\n",
            "(train)\n",
            "Loss1: 0.4937   Loss2: 0.6390   Loss3: 0.3998\n",
            "Acc1: 0.9013   Acc2: 0.8359   Acc3: 0.9155\n",
            "(val)\n",
            "Loss1: 0.5876   Loss2: 0.8175   Loss3: 0.5730\n",
            "Acc1: 0.8737   Acc2: 0.7703   Acc3: 0.8759\n",
            "\n",
            "Epoch 11/99\n",
            "----------\n",
            "lr: 0.0005\n",
            "(train)\n",
            "Loss1: 0.4834   Loss2: 0.6215   Loss3: 0.3808\n",
            "Acc1: 0.9014   Acc2: 0.8424   Acc3: 0.9203\n",
            "(val)\n",
            "Loss1: 0.5978   Loss2: 0.8162   Loss3: 0.5880\n",
            "Acc1: 0.8678   Acc2: 0.7792   Acc3: 0.8744\n",
            "\n",
            "Epoch 12/99\n",
            "----------\n",
            "lr: 0.0005\n",
            "(train)\n",
            "Loss1: 0.4718   Loss2: 0.6041   Loss3: 0.3638\n",
            "Acc1: 0.9053   Acc2: 0.8459   Acc3: 0.9256\n",
            "(val)\n",
            "Loss1: 0.5819   Loss2: 0.8249   Loss3: 0.5848\n",
            "Acc1: 0.8722   Acc2: 0.7718   Acc3: 0.8730\n",
            "\n",
            "Epoch 13/99\n",
            "----------\n",
            "lr: 0.0005\n",
            "(train)\n",
            "Loss1: 0.4529   Loss2: 0.5877   Loss3: 0.3481\n",
            "Acc1: 0.9094   Acc2: 0.8544   Acc3: 0.9276\n",
            "(val)\n",
            "Loss1: 0.5922   Loss2: 0.8222   Loss3: 0.6005\n",
            "Acc1: 0.8700   Acc2: 0.7725   Acc3: 0.8715\n",
            "\n",
            "Epoch 14/99\n",
            "----------\n",
            "lr: 0.0005\n",
            "(train)\n",
            "Loss1: 0.4435   Loss2: 0.5725   Loss3: 0.3313\n",
            "Acc1: 0.9092   Acc2: 0.8601   Acc3: 0.9348\n",
            "(val)\n",
            "Loss1: 0.5842   Loss2: 0.8403   Loss3: 0.5855\n",
            "Acc1: 0.8708   Acc2: 0.7806   Acc3: 0.8774\n",
            "\n",
            "Epoch 15/99\n",
            "----------\n",
            "lr: 0.0005\n",
            "(train)\n",
            "Loss1: 0.4187   Loss2: 0.5636   Loss3: 0.3103\n",
            "Acc1: 0.9166   Acc2: 0.8619   Acc3: 0.9422\n",
            "(val)\n",
            "Loss1: 0.5754   Loss2: 0.8259   Loss3: 0.5881\n",
            "Acc1: 0.8708   Acc2: 0.7777   Acc3: 0.8752\n",
            "\n",
            "Epoch 16/99\n",
            "----------\n",
            "lr: 0.0005\n",
            "(train)\n",
            "Loss1: 0.4040   Loss2: 0.5426   Loss3: 0.3012\n",
            "Acc1: 0.9234   Acc2: 0.8762   Acc3: 0.9450\n",
            "(val)\n",
            "Loss1: 0.5891   Loss2: 0.8442   Loss3: 0.6017\n",
            "Acc1: 0.8708   Acc2: 0.7836   Acc3: 0.8730\n",
            "\n",
            "Epoch 17/99\n",
            "----------\n",
            "lr: 0.0005\n",
            "(train)\n",
            "Loss1: 0.3919   Loss2: 0.5307   Loss3: 0.2928\n",
            "Acc1: 0.9240   Acc2: 0.8793   Acc3: 0.9452\n",
            "(val)\n",
            "Loss1: 0.5938   Loss2: 0.8559   Loss3: 0.6290\n",
            "Acc1: 0.8693   Acc2: 0.7806   Acc3: 0.8663\n",
            "\n",
            "Epoch 18/99\n",
            "----------\n",
            "lr: 0.0005\n",
            "(train)\n",
            "Loss1: 0.3740   Loss2: 0.5063   Loss3: 0.2736\n",
            "Acc1: 0.9302   Acc2: 0.8904   Acc3: 0.9511\n",
            "(val)\n",
            "Loss1: 0.5920   Loss2: 0.8613   Loss3: 0.6265\n",
            "Acc1: 0.8671   Acc2: 0.7814   Acc3: 0.8715\n",
            "\n",
            "Epoch 19/99\n",
            "----------\n",
            "lr: 0.0005\n",
            "(train)\n",
            "Loss1: 0.3516   Loss2: 0.4932   Loss3: 0.2570\n",
            "Acc1: 0.9380   Acc2: 0.8944   Acc3: 0.9559\n",
            "(val)\n",
            "Loss1: 0.6007   Loss2: 0.8749   Loss3: 0.6261\n",
            "Acc1: 0.8604   Acc2: 0.7799   Acc3: 0.8663\n",
            "\n",
            "Epoch 20/99\n",
            "----------\n",
            "lr: 0.00025\n",
            "(train)\n",
            "Loss1: 0.3238   Loss2: 0.4704   Loss3: 0.2388\n",
            "Acc1: 0.9457   Acc2: 0.9057   Acc3: 0.9609\n",
            "(val)\n",
            "Loss1: 0.5846   Loss2: 0.8835   Loss3: 0.6372\n",
            "Acc1: 0.8730   Acc2: 0.7777   Acc3: 0.8656\n",
            "\n",
            "Epoch 21/99\n",
            "----------\n",
            "lr: 0.00025\n",
            "(train)\n",
            "Loss1: 0.3165   Loss2: 0.4640   Loss3: 0.2294\n",
            "Acc1: 0.9452   Acc2: 0.9061   Acc3: 0.9647\n",
            "(val)\n",
            "Loss1: 0.5740   Loss2: 0.8773   Loss3: 0.6264\n",
            "Acc1: 0.8722   Acc2: 0.7725   Acc3: 0.8685\n",
            "\n",
            "Epoch 22/99\n",
            "----------\n",
            "lr: 0.00025\n",
            "(train)\n",
            "Loss1: 0.3067   Loss2: 0.4528   Loss3: 0.2314\n",
            "Acc1: 0.9505   Acc2: 0.9105   Acc3: 0.9633\n",
            "(val)\n",
            "Loss1: 0.5802   Loss2: 0.8690   Loss3: 0.6205\n",
            "Acc1: 0.8722   Acc2: 0.7777   Acc3: 0.8708\n",
            "\n",
            "Epoch 23/99\n",
            "----------\n",
            "lr: 0.00025\n",
            "(train)\n",
            "Loss1: 0.2930   Loss2: 0.4510   Loss3: 0.2202\n",
            "Acc1: 0.9574   Acc2: 0.9081   Acc3: 0.9670\n",
            "(val)\n",
            "Loss1: 0.5930   Loss2: 0.8744   Loss3: 0.6311\n",
            "Acc1: 0.8685   Acc2: 0.7806   Acc3: 0.8663\n",
            "\n",
            "Epoch 24/99\n",
            "----------\n",
            "lr: 0.00025\n",
            "(train)\n",
            "Loss1: 0.2794   Loss2: 0.4361   Loss3: 0.2124\n",
            "Acc1: 0.9583   Acc2: 0.9175   Acc3: 0.9666\n",
            "(val)\n",
            "Loss1: 0.6008   Loss2: 0.9644   Loss3: 0.6688\n",
            "Acc1: 0.8678   Acc2: 0.7725   Acc3: 0.8619\n",
            "\n",
            "Epoch 25/99\n",
            "----------\n",
            "lr: 0.00025\n",
            "(train)\n",
            "Loss1: 0.2638   Loss2: 0.4332   Loss3: 0.2119\n",
            "Acc1: 0.9607   Acc2: 0.9217   Acc3: 0.9699\n",
            "(val)\n",
            "Loss1: 0.5794   Loss2: 0.8854   Loss3: 0.6340\n",
            "Acc1: 0.8700   Acc2: 0.7799   Acc3: 0.8715\n",
            "\n",
            "Epoch 26/99\n",
            "----------\n",
            "lr: 0.00025\n",
            "(train)\n",
            "Loss1: 0.2522   Loss2: 0.4223   Loss3: 0.2074\n",
            "Acc1: 0.9675   Acc2: 0.9223   Acc3: 0.9675\n",
            "(val)\n",
            "Loss1: 0.5916   Loss2: 0.9070   Loss3: 0.6408\n",
            "Acc1: 0.8700   Acc2: 0.7799   Acc3: 0.8648\n",
            "\n",
            "Epoch 27/99\n",
            "----------\n",
            "lr: 0.00025\n",
            "(train)\n",
            "Loss1: 0.2440   Loss2: 0.4107   Loss3: 0.1973\n",
            "Acc1: 0.9695   Acc2: 0.9302   Acc3: 0.9725\n",
            "(val)\n",
            "Loss1: 0.5961   Loss2: 0.9088   Loss3: 0.6883\n",
            "Acc1: 0.8715   Acc2: 0.7784   Acc3: 0.8663\n",
            "\n",
            "Epoch 28/99\n",
            "----------\n",
            "lr: 0.00025\n",
            "(train)\n",
            "Loss1: 0.2300   Loss2: 0.4052   Loss3: 0.1856\n",
            "Acc1: 0.9686   Acc2: 0.9302   Acc3: 0.9738\n",
            "(val)\n",
            "Loss1: 0.5823   Loss2: 0.8848   Loss3: 0.6667\n",
            "Acc1: 0.8722   Acc2: 0.7733   Acc3: 0.8634\n",
            "\n",
            "Epoch 29/99\n",
            "----------\n",
            "lr: 0.00025\n",
            "(train)\n",
            "Loss1: 0.2246   Loss2: 0.3924   Loss3: 0.1834\n",
            "Acc1: 0.9725   Acc2: 0.9360   Acc3: 0.9753\n",
            "(val)\n",
            "Loss1: 0.5946   Loss2: 0.9082   Loss3: 0.6605\n",
            "Acc1: 0.8700   Acc2: 0.7777   Acc3: 0.8634\n",
            "\n",
            "Epoch 30/99\n",
            "----------\n",
            "lr: 0.000125\n",
            "(train)\n",
            "Loss1: 0.2096   Loss2: 0.3848   Loss3: 0.1695\n",
            "Acc1: 0.9788   Acc2: 0.9400   Acc3: 0.9790\n",
            "(val)\n",
            "Loss1: 0.5882   Loss2: 0.9070   Loss3: 0.6686\n",
            "Acc1: 0.8722   Acc2: 0.7762   Acc3: 0.8634\n",
            "\n",
            "Epoch 31/99\n",
            "----------\n",
            "lr: 0.000125\n",
            "(train)\n",
            "Loss1: 0.2076   Loss2: 0.3754   Loss3: 0.1664\n",
            "Acc1: 0.9775   Acc2: 0.9433   Acc3: 0.9795\n",
            "(val)\n",
            "Loss1: 0.6050   Loss2: 0.9137   Loss3: 0.6527\n",
            "Acc1: 0.8722   Acc2: 0.7762   Acc3: 0.8693\n",
            "\n",
            "Epoch 32/99\n",
            "----------\n",
            "lr: 0.000125\n",
            "(train)\n",
            "Loss1: 0.2000   Loss2: 0.3730   Loss3: 0.1672\n",
            "Acc1: 0.9797   Acc2: 0.9419   Acc3: 0.9793\n",
            "(val)\n",
            "Loss1: 0.5995   Loss2: 0.9431   Loss3: 0.6946\n",
            "Acc1: 0.8744   Acc2: 0.7784   Acc3: 0.8619\n",
            "\n",
            "Epoch 33/99\n",
            "----------\n",
            "lr: 0.000125\n",
            "(train)\n",
            "Loss1: 0.1916   Loss2: 0.3658   Loss3: 0.1607\n",
            "Acc1: 0.9806   Acc2: 0.9485   Acc3: 0.9801\n",
            "(val)\n",
            "Loss1: 0.5978   Loss2: 0.9187   Loss3: 0.6592\n",
            "Acc1: 0.8752   Acc2: 0.7755   Acc3: 0.8634\n",
            "\n",
            "Epoch 34/99\n",
            "----------\n",
            "lr: 0.000125\n",
            "(train)\n",
            "Loss1: 0.1818   Loss2: 0.3629   Loss3: 0.1567\n",
            "Acc1: 0.9836   Acc2: 0.9461   Acc3: 0.9827\n",
            "(val)\n",
            "Loss1: 0.6089   Loss2: 0.9484   Loss3: 0.6834\n",
            "Acc1: 0.8715   Acc2: 0.7747   Acc3: 0.8626\n",
            "\n",
            "Epoch 35/99\n",
            "----------\n",
            "lr: 0.000125\n",
            "(train)\n",
            "Loss1: 0.1733   Loss2: 0.3587   Loss3: 0.1588\n",
            "Acc1: 0.9858   Acc2: 0.9483   Acc3: 0.9825\n",
            "(val)\n",
            "Loss1: 0.6052   Loss2: 0.9364   Loss3: 0.6896\n",
            "Acc1: 0.8730   Acc2: 0.7762   Acc3: 0.8626\n",
            "\n",
            "Epoch 36/99\n",
            "----------\n",
            "lr: 0.000125\n",
            "(train)\n",
            "Loss1: 0.1801   Loss2: 0.3521   Loss3: 0.1525\n",
            "Acc1: 0.9841   Acc2: 0.9518   Acc3: 0.9858\n",
            "(val)\n",
            "Loss1: 0.6093   Loss2: 0.9366   Loss3: 0.6715\n",
            "Acc1: 0.8752   Acc2: 0.7770   Acc3: 0.8671\n",
            "\n",
            "Epoch 37/99\n",
            "----------\n",
            "lr: 0.000125\n",
            "(train)\n",
            "Loss1: 0.1764   Loss2: 0.3443   Loss3: 0.1474\n",
            "Acc1: 0.9839   Acc2: 0.9498   Acc3: 0.9832\n",
            "(val)\n",
            "Loss1: 0.6077   Loss2: 0.9341   Loss3: 0.6742\n",
            "Acc1: 0.8722   Acc2: 0.7784   Acc3: 0.8656\n",
            "\n",
            "Epoch 38/99\n",
            "----------\n",
            "lr: 0.000125\n",
            "(train)\n",
            "Loss1: 0.1664   Loss2: 0.3397   Loss3: 0.1439\n",
            "Acc1: 0.9858   Acc2: 0.9544   Acc3: 0.9860\n",
            "(val)\n",
            "Loss1: 0.6097   Loss2: 0.9423   Loss3: 0.6871\n",
            "Acc1: 0.8774   Acc2: 0.7784   Acc3: 0.8626\n",
            "\n",
            "Epoch 39/99\n",
            "----------\n",
            "lr: 0.000125\n",
            "(train)\n",
            "Loss1: 0.1628   Loss2: 0.3370   Loss3: 0.1421\n",
            "Acc1: 0.9876   Acc2: 0.9561   Acc3: 0.9871\n",
            "(val)\n",
            "Loss1: 0.6229   Loss2: 0.9512   Loss3: 0.6976\n",
            "Acc1: 0.8715   Acc2: 0.7792   Acc3: 0.8619\n",
            "\n",
            "Epoch 40/99\n",
            "----------\n",
            "lr: 6.25e-05\n",
            "(train)\n",
            "Loss1: 0.1583   Loss2: 0.3329   Loss3: 0.1388\n",
            "Acc1: 0.9874   Acc2: 0.9563   Acc3: 0.9871\n",
            "(val)\n",
            "Loss1: 0.6091   Loss2: 0.9622   Loss3: 0.6997\n",
            "Acc1: 0.8744   Acc2: 0.7806   Acc3: 0.8619\n",
            "\n",
            "Epoch 41/99\n",
            "----------\n",
            "lr: 6.25e-05\n",
            "(train)\n",
            "Loss1: 0.1562   Loss2: 0.3250   Loss3: 0.1381\n",
            "Acc1: 0.9891   Acc2: 0.9598   Acc3: 0.9865\n",
            "(val)\n",
            "Loss1: 0.6097   Loss2: 0.9515   Loss3: 0.6928\n",
            "Acc1: 0.8722   Acc2: 0.7799   Acc3: 0.8604\n",
            "\n",
            "Epoch 42/99\n",
            "----------\n",
            "lr: 6.25e-05\n",
            "(train)\n",
            "Loss1: 0.1526   Loss2: 0.3269   Loss3: 0.1335\n",
            "Acc1: 0.9908   Acc2: 0.9572   Acc3: 0.9882\n",
            "(val)\n",
            "Loss1: 0.6255   Loss2: 0.9468   Loss3: 0.6839\n",
            "Acc1: 0.8737   Acc2: 0.7770   Acc3: 0.8648\n",
            "\n",
            "Epoch 43/99\n",
            "----------\n",
            "lr: 6.25e-05\n",
            "(train)\n",
            "Loss1: 0.1527   Loss2: 0.3224   Loss3: 0.1331\n",
            "Acc1: 0.9884   Acc2: 0.9572   Acc3: 0.9874\n",
            "(val)\n",
            "Loss1: 0.6058   Loss2: 0.9516   Loss3: 0.6811\n",
            "Acc1: 0.8730   Acc2: 0.7799   Acc3: 0.8678\n",
            "\n",
            "Epoch 44/99\n",
            "----------\n",
            "lr: 6.25e-05\n",
            "(train)\n",
            "Loss1: 0.1527   Loss2: 0.3209   Loss3: 0.1267\n",
            "Acc1: 0.9891   Acc2: 0.9601   Acc3: 0.9897\n",
            "(val)\n",
            "Loss1: 0.6216   Loss2: 0.9394   Loss3: 0.6815\n",
            "Acc1: 0.8759   Acc2: 0.7806   Acc3: 0.8663\n",
            "\n",
            "Epoch 45/99\n",
            "----------\n",
            "lr: 6.25e-05\n",
            "(train)\n",
            "Loss1: 0.1537   Loss2: 0.3155   Loss3: 0.1321\n",
            "Acc1: 0.9898   Acc2: 0.9607   Acc3: 0.9895\n",
            "(val)\n",
            "Loss1: 0.6143   Loss2: 0.9473   Loss3: 0.6880\n",
            "Acc1: 0.8774   Acc2: 0.7814   Acc3: 0.8663\n",
            "\n",
            "Epoch 46/99\n",
            "----------\n",
            "lr: 6.25e-05\n",
            "(train)\n",
            "Loss1: 0.1441   Loss2: 0.3128   Loss3: 0.1306\n",
            "Acc1: 0.9908   Acc2: 0.9623   Acc3: 0.9882\n",
            "(val)\n",
            "Loss1: 0.6117   Loss2: 0.9446   Loss3: 0.6889\n",
            "Acc1: 0.8774   Acc2: 0.7784   Acc3: 0.8612\n",
            "\n",
            "Epoch 47/99\n",
            "----------\n",
            "lr: 6.25e-05\n",
            "(train)\n",
            "Loss1: 0.1468   Loss2: 0.3117   Loss3: 0.1261\n",
            "Acc1: 0.9897   Acc2: 0.9599   Acc3: 0.9900\n",
            "(val)\n",
            "Loss1: 0.6087   Loss2: 0.9620   Loss3: 0.6948\n",
            "Acc1: 0.8730   Acc2: 0.7792   Acc3: 0.8634\n",
            "\n",
            "Epoch 48/99\n",
            "----------\n",
            "lr: 6.25e-05\n",
            "(train)\n",
            "Loss1: 0.1451   Loss2: 0.3076   Loss3: 0.1249\n",
            "Acc1: 0.9915   Acc2: 0.9653   Acc3: 0.9889\n",
            "(val)\n",
            "Loss1: 0.6262   Loss2: 0.9480   Loss3: 0.6916\n",
            "Acc1: 0.8737   Acc2: 0.7792   Acc3: 0.8648\n",
            "\n",
            "Epoch 49/99\n",
            "----------\n",
            "lr: 6.25e-05\n",
            "(train)\n",
            "Loss1: 0.1413   Loss2: 0.3052   Loss3: 0.1227\n",
            "Acc1: 0.9917   Acc2: 0.9657   Acc3: 0.9898\n",
            "(val)\n",
            "Loss1: 0.6250   Loss2: 0.9432   Loss3: 0.6904\n",
            "Acc1: 0.8744   Acc2: 0.7792   Acc3: 0.8693\n",
            "\n",
            "Epoch 50/99\n",
            "----------\n",
            "lr: 3.125e-05\n",
            "(train)\n",
            "Loss1: 0.1388   Loss2: 0.3047   Loss3: 0.1151\n",
            "Acc1: 0.9910   Acc2: 0.9618   Acc3: 0.9915\n",
            "(val)\n",
            "Loss1: 0.6169   Loss2: 0.9395   Loss3: 0.6874\n",
            "Acc1: 0.8804   Acc2: 0.7814   Acc3: 0.8656\n",
            "\n",
            "Epoch 51/99\n",
            "----------\n",
            "lr: 3.125e-05\n",
            "(train)\n",
            "Loss1: 0.1402   Loss2: 0.2966   Loss3: 0.1170\n",
            "Acc1: 0.9908   Acc2: 0.9671   Acc3: 0.9917\n",
            "(val)\n",
            "Loss1: 0.6228   Loss2: 0.9595   Loss3: 0.7072\n",
            "Acc1: 0.8715   Acc2: 0.7792   Acc3: 0.8582\n",
            "\n",
            "Epoch 52/99\n",
            "----------\n",
            "lr: 3.125e-05\n",
            "(train)\n",
            "Loss1: 0.1384   Loss2: 0.2970   Loss3: 0.1187\n",
            "Acc1: 0.9922   Acc2: 0.9694   Acc3: 0.9926\n",
            "(val)\n",
            "Loss1: 0.6370   Loss2: 0.9635   Loss3: 0.6980\n",
            "Acc1: 0.8752   Acc2: 0.7792   Acc3: 0.8663\n",
            "\n",
            "Epoch 53/99\n",
            "----------\n",
            "lr: 3.125e-05\n",
            "(train)\n",
            "Loss1: 0.1326   Loss2: 0.2958   Loss3: 0.1197\n",
            "Acc1: 0.9919   Acc2: 0.9671   Acc3: 0.9910\n",
            "(val)\n",
            "Loss1: 0.6310   Loss2: 0.9490   Loss3: 0.6963\n",
            "Acc1: 0.8715   Acc2: 0.7806   Acc3: 0.8619\n",
            "\n",
            "Epoch 54/99\n",
            "----------\n",
            "lr: 3.125e-05\n",
            "(train)\n",
            "Loss1: 0.1376   Loss2: 0.2909   Loss3: 0.1110\n",
            "Acc1: 0.9904   Acc2: 0.9664   Acc3: 0.9926\n",
            "(val)\n",
            "Loss1: 0.6288   Loss2: 0.9585   Loss3: 0.6926\n",
            "Acc1: 0.8730   Acc2: 0.7792   Acc3: 0.8619\n",
            "\n",
            "Epoch 55/99\n",
            "----------\n",
            "lr: 3.125e-05\n",
            "(train)\n",
            "Loss1: 0.1373   Loss2: 0.2928   Loss3: 0.1186\n",
            "Acc1: 0.9902   Acc2: 0.9703   Acc3: 0.9906\n",
            "(val)\n",
            "Loss1: 0.6298   Loss2: 0.9610   Loss3: 0.7018\n",
            "Acc1: 0.8737   Acc2: 0.7814   Acc3: 0.8612\n",
            "\n",
            "Epoch 56/99\n",
            "----------\n",
            "lr: 3.125e-05\n",
            "(train)\n",
            "Loss1: 0.1330   Loss2: 0.2913   Loss3: 0.1163\n",
            "Acc1: 0.9930   Acc2: 0.9688   Acc3: 0.9908\n",
            "(val)\n",
            "Loss1: 0.6437   Loss2: 0.9618   Loss3: 0.6993\n",
            "Acc1: 0.8759   Acc2: 0.7821   Acc3: 0.8656\n",
            "\n",
            "Epoch 57/99\n",
            "----------\n",
            "lr: 3.125e-05\n",
            "(train)\n",
            "Loss1: 0.1263   Loss2: 0.2884   Loss3: 0.1132\n",
            "Acc1: 0.9946   Acc2: 0.9708   Acc3: 0.9934\n",
            "(val)\n",
            "Loss1: 0.6333   Loss2: 0.9686   Loss3: 0.7062\n",
            "Acc1: 0.8737   Acc2: 0.7821   Acc3: 0.8634\n",
            "\n",
            "Epoch 58/99\n",
            "----------\n",
            "lr: 3.125e-05\n",
            "(train)\n",
            "Loss1: 0.1345   Loss2: 0.2897   Loss3: 0.1119\n",
            "Acc1: 0.9919   Acc2: 0.9701   Acc3: 0.9926\n",
            "(val)\n",
            "Loss1: 0.6303   Loss2: 0.9579   Loss3: 0.7005\n",
            "Acc1: 0.8744   Acc2: 0.7821   Acc3: 0.8619\n",
            "\n",
            "Epoch 59/99\n",
            "----------\n",
            "lr: 3.125e-05\n",
            "(train)\n",
            "Loss1: 0.1267   Loss2: 0.2833   Loss3: 0.1137\n",
            "Acc1: 0.9932   Acc2: 0.9690   Acc3: 0.9908\n",
            "(val)\n",
            "Loss1: 0.6240   Loss2: 0.9710   Loss3: 0.6928\n",
            "Acc1: 0.8722   Acc2: 0.7814   Acc3: 0.8641\n",
            "\n",
            "Epoch 60/99\n",
            "----------\n",
            "lr: 1.5625e-05\n",
            "(train)\n",
            "Loss1: 0.1281   Loss2: 0.2872   Loss3: 0.1094\n",
            "Acc1: 0.9922   Acc2: 0.9695   Acc3: 0.9932\n",
            "(val)\n",
            "Loss1: 0.6281   Loss2: 0.9580   Loss3: 0.6975\n",
            "Acc1: 0.8730   Acc2: 0.7799   Acc3: 0.8641\n",
            "\n",
            "Epoch 61/99\n",
            "----------\n",
            "lr: 1.5625e-05\n",
            "(train)\n",
            "Loss1: 0.1329   Loss2: 0.2835   Loss3: 0.1132\n",
            "Acc1: 0.9913   Acc2: 0.9705   Acc3: 0.9921\n",
            "(val)\n",
            "Loss1: 0.6316   Loss2: 0.9737   Loss3: 0.7131\n",
            "Acc1: 0.8715   Acc2: 0.7851   Acc3: 0.8567\n",
            "\n",
            "Epoch 62/99\n",
            "----------\n",
            "lr: 1.5625e-05\n",
            "(train)\n",
            "Loss1: 0.1263   Loss2: 0.2822   Loss3: 0.1136\n",
            "Acc1: 0.9948   Acc2: 0.9719   Acc3: 0.9911\n",
            "(val)\n",
            "Loss1: 0.6409   Loss2: 0.9643   Loss3: 0.7013\n",
            "Acc1: 0.8767   Acc2: 0.7799   Acc3: 0.8671\n",
            "\n",
            "Epoch 63/99\n",
            "----------\n",
            "lr: 1.5625e-05\n",
            "(train)\n",
            "Loss1: 0.1228   Loss2: 0.2879   Loss3: 0.1162\n",
            "Acc1: 0.9946   Acc2: 0.9694   Acc3: 0.9917\n",
            "(val)\n",
            "Loss1: 0.6186   Loss2: 0.9678   Loss3: 0.6999\n",
            "Acc1: 0.8722   Acc2: 0.7806   Acc3: 0.8619\n",
            "\n",
            "Epoch 64/99\n",
            "----------\n",
            "lr: 1.5625e-05\n",
            "(train)\n",
            "Loss1: 0.1276   Loss2: 0.2797   Loss3: 0.1146\n",
            "Acc1: 0.9928   Acc2: 0.9721   Acc3: 0.9911\n",
            "(val)\n",
            "Loss1: 0.6274   Loss2: 0.9654   Loss3: 0.7038\n",
            "Acc1: 0.8722   Acc2: 0.7806   Acc3: 0.8619\n",
            "\n",
            "Epoch 65/99\n",
            "----------\n",
            "lr: 1.5625e-05\n",
            "(train)\n",
            "Loss1: 0.1282   Loss2: 0.2830   Loss3: 0.1138\n",
            "Acc1: 0.9926   Acc2: 0.9721   Acc3: 0.9921\n",
            "(val)\n",
            "Loss1: 0.6339   Loss2: 0.9614   Loss3: 0.6980\n",
            "Acc1: 0.8722   Acc2: 0.7821   Acc3: 0.8626\n",
            "\n",
            "Epoch 66/99\n",
            "----------\n",
            "lr: 1.5625e-05\n",
            "(train)\n",
            "Loss1: 0.1261   Loss2: 0.2809   Loss3: 0.1109\n",
            "Acc1: 0.9937   Acc2: 0.9710   Acc3: 0.9930\n",
            "(val)\n",
            "Loss1: 0.6270   Loss2: 0.9875   Loss3: 0.7036\n",
            "Acc1: 0.8730   Acc2: 0.7784   Acc3: 0.8626\n",
            "\n",
            "Epoch 67/99\n",
            "----------\n",
            "lr: 1.5625e-05\n",
            "(train)\n",
            "Loss1: 0.1214   Loss2: 0.2769   Loss3: 0.1108\n",
            "Acc1: 0.9948   Acc2: 0.9723   Acc3: 0.9934\n",
            "(val)\n",
            "Loss1: 0.6317   Loss2: 0.9750   Loss3: 0.7007\n",
            "Acc1: 0.8737   Acc2: 0.7792   Acc3: 0.8663\n",
            "\n",
            "Epoch 68/99\n",
            "----------\n",
            "lr: 1.5625e-05\n",
            "(train)\n",
            "Loss1: 0.1242   Loss2: 0.2759   Loss3: 0.1108\n",
            "Acc1: 0.9939   Acc2: 0.9690   Acc3: 0.9924\n",
            "(val)\n",
            "Loss1: 0.6355   Loss2: 0.9612   Loss3: 0.7020\n",
            "Acc1: 0.8767   Acc2: 0.7792   Acc3: 0.8641\n",
            "\n",
            "Epoch 69/99\n",
            "----------\n",
            "lr: 1.5625e-05\n",
            "(train)\n",
            "Loss1: 0.1233   Loss2: 0.2752   Loss3: 0.1126\n",
            "Acc1: 0.9922   Acc2: 0.9738   Acc3: 0.9922\n",
            "(val)\n",
            "Loss1: 0.6283   Loss2: 0.9696   Loss3: 0.7096\n",
            "Acc1: 0.8737   Acc2: 0.7814   Acc3: 0.8641\n",
            "\n",
            "Epoch 70/99\n",
            "----------\n",
            "lr: 7.8125e-06\n",
            "(train)\n",
            "Loss1: 0.1341   Loss2: 0.2779   Loss3: 0.1070\n",
            "Acc1: 0.9921   Acc2: 0.9716   Acc3: 0.9941\n",
            "(val)\n",
            "Loss1: 0.6272   Loss2: 0.9945   Loss3: 0.6964\n",
            "Acc1: 0.8737   Acc2: 0.7814   Acc3: 0.8641\n",
            "\n",
            "Epoch 71/99\n",
            "----------\n",
            "lr: 7.8125e-06\n",
            "(train)\n",
            "Loss1: 0.1248   Loss2: 0.2788   Loss3: 0.1105\n",
            "Acc1: 0.9937   Acc2: 0.9699   Acc3: 0.9924\n",
            "(val)\n",
            "Loss1: 0.6251   Loss2: 0.9841   Loss3: 0.7238\n",
            "Acc1: 0.8730   Acc2: 0.7799   Acc3: 0.8582\n",
            "\n",
            "Epoch 72/99\n",
            "----------\n",
            "lr: 7.8125e-06\n",
            "(train)\n",
            "Loss1: 0.1240   Loss2: 0.2733   Loss3: 0.1109\n",
            "Acc1: 0.9926   Acc2: 0.9747   Acc3: 0.9915\n",
            "(val)\n",
            "Loss1: 0.6209   Loss2: 0.9531   Loss3: 0.6948\n",
            "Acc1: 0.8708   Acc2: 0.7799   Acc3: 0.8663\n",
            "\n",
            "Epoch 73/99\n",
            "----------\n",
            "lr: 7.8125e-06\n",
            "(train)\n",
            "Loss1: 0.1288   Loss2: 0.2745   Loss3: 0.1058\n",
            "Acc1: 0.9922   Acc2: 0.9729   Acc3: 0.9948\n",
            "(val)\n",
            "Loss1: 0.6330   Loss2: 0.9699   Loss3: 0.6990\n",
            "Acc1: 0.8737   Acc2: 0.7814   Acc3: 0.8641\n",
            "\n",
            "Epoch 74/99\n",
            "----------\n",
            "lr: 7.8125e-06\n",
            "(train)\n",
            "Loss1: 0.1237   Loss2: 0.2793   Loss3: 0.1113\n",
            "Acc1: 0.9932   Acc2: 0.9705   Acc3: 0.9924\n",
            "(val)\n",
            "Loss1: 0.6271   Loss2: 0.9592   Loss3: 0.7063\n",
            "Acc1: 0.8759   Acc2: 0.7799   Acc3: 0.8604\n",
            "\n",
            "Epoch 75/99\n",
            "----------\n",
            "lr: 7.8125e-06\n",
            "(train)\n",
            "Loss1: 0.1282   Loss2: 0.2736   Loss3: 0.1105\n",
            "Acc1: 0.9943   Acc2: 0.9732   Acc3: 0.9921\n",
            "(val)\n",
            "Loss1: 0.6208   Loss2: 0.9572   Loss3: 0.7038\n",
            "Acc1: 0.8752   Acc2: 0.7806   Acc3: 0.8589\n",
            "\n",
            "Epoch 76/99\n",
            "----------\n",
            "lr: 7.8125e-06\n",
            "(train)\n",
            "Loss1: 0.1305   Loss2: 0.2782   Loss3: 0.1108\n",
            "Acc1: 0.9932   Acc2: 0.9688   Acc3: 0.9932\n",
            "(val)\n",
            "Loss1: 0.6432   Loss2: 0.9814   Loss3: 0.7105\n",
            "Acc1: 0.8744   Acc2: 0.7799   Acc3: 0.8626\n",
            "\n",
            "Epoch 77/99\n",
            "----------\n",
            "lr: 7.8125e-06\n",
            "(train)\n",
            "Loss1: 0.1213   Loss2: 0.2742   Loss3: 0.1065\n",
            "Acc1: 0.9943   Acc2: 0.9732   Acc3: 0.9941\n",
            "(val)\n",
            "Loss1: 0.6570   Loss2: 0.9785   Loss3: 0.7050\n",
            "Acc1: 0.8722   Acc2: 0.7836   Acc3: 0.8663\n",
            "\n",
            "Epoch 78/99\n",
            "----------\n",
            "lr: 7.8125e-06\n",
            "(train)\n",
            "Loss1: 0.1225   Loss2: 0.2739   Loss3: 0.1143\n",
            "Acc1: 0.9943   Acc2: 0.9714   Acc3: 0.9911\n",
            "(val)\n",
            "Loss1: 0.6511   Loss2: 0.9785   Loss3: 0.7209\n",
            "Acc1: 0.8715   Acc2: 0.7792   Acc3: 0.8656\n",
            "\n",
            "Epoch 79/99\n",
            "----------\n",
            "lr: 7.8125e-06\n",
            "(train)\n",
            "Loss1: 0.1270   Loss2: 0.2774   Loss3: 0.1094\n",
            "Acc1: 0.9926   Acc2: 0.9721   Acc3: 0.9934\n",
            "(val)\n",
            "Loss1: 0.6311   Loss2: 0.9837   Loss3: 0.7157\n",
            "Acc1: 0.8752   Acc2: 0.7806   Acc3: 0.8575\n",
            "\n",
            "Epoch 80/99\n",
            "----------\n",
            "lr: 3.90625e-06\n",
            "(train)\n",
            "Loss1: 0.1215   Loss2: 0.2718   Loss3: 0.1078\n",
            "Acc1: 0.9941   Acc2: 0.9747   Acc3: 0.9945\n",
            "(val)\n",
            "Loss1: 0.6440   Loss2: 0.9757   Loss3: 0.7097\n",
            "Acc1: 0.8730   Acc2: 0.7806   Acc3: 0.8656\n",
            "\n",
            "Epoch 81/99\n",
            "----------\n",
            "lr: 3.90625e-06\n",
            "(train)\n",
            "Loss1: 0.1257   Loss2: 0.2760   Loss3: 0.1099\n",
            "Acc1: 0.9924   Acc2: 0.9736   Acc3: 0.9930\n",
            "(val)\n",
            "Loss1: 0.6266   Loss2: 0.9625   Loss3: 0.7035\n",
            "Acc1: 0.8722   Acc2: 0.7806   Acc3: 0.8604\n",
            "\n",
            "Epoch 82/99\n",
            "----------\n",
            "lr: 3.90625e-06\n",
            "(train)\n",
            "Loss1: 0.1215   Loss2: 0.2743   Loss3: 0.1031\n",
            "Acc1: 0.9941   Acc2: 0.9753   Acc3: 0.9945\n",
            "(val)\n",
            "Loss1: 0.6306   Loss2: 0.9870   Loss3: 0.6997\n",
            "Acc1: 0.8759   Acc2: 0.7814   Acc3: 0.8671\n",
            "\n",
            "Epoch 83/99\n",
            "----------\n",
            "lr: 3.90625e-06\n",
            "(train)\n",
            "Loss1: 0.1250   Loss2: 0.2713   Loss3: 0.1100\n",
            "Acc1: 0.9922   Acc2: 0.9749   Acc3: 0.9937\n",
            "(val)\n",
            "Loss1: 0.6251   Loss2: 0.9782   Loss3: 0.7069\n",
            "Acc1: 0.8737   Acc2: 0.7806   Acc3: 0.8656\n",
            "\n",
            "Epoch 84/99\n",
            "----------\n",
            "lr: 3.90625e-06\n",
            "(train)\n",
            "Loss1: 0.1223   Loss2: 0.2720   Loss3: 0.1026\n",
            "Acc1: 0.9935   Acc2: 0.9723   Acc3: 0.9945\n",
            "(val)\n",
            "Loss1: 0.6275   Loss2: 0.9837   Loss3: 0.6995\n",
            "Acc1: 0.8730   Acc2: 0.7799   Acc3: 0.8641\n",
            "\n",
            "Epoch 85/99\n",
            "----------\n",
            "lr: 3.90625e-06\n",
            "(train)\n",
            "Loss1: 0.1219   Loss2: 0.2690   Loss3: 0.1074\n",
            "Acc1: 0.9930   Acc2: 0.9747   Acc3: 0.9937\n",
            "(val)\n",
            "Loss1: 0.6281   Loss2: 0.9708   Loss3: 0.7215\n",
            "Acc1: 0.8715   Acc2: 0.7799   Acc3: 0.8575\n",
            "\n",
            "Epoch 86/99\n",
            "----------\n",
            "lr: 3.90625e-06\n",
            "(train)\n",
            "Loss1: 0.1224   Loss2: 0.2719   Loss3: 0.1065\n",
            "Acc1: 0.9932   Acc2: 0.9747   Acc3: 0.9930\n",
            "(val)\n",
            "Loss1: 0.6293   Loss2: 0.9688   Loss3: 0.7007\n",
            "Acc1: 0.8722   Acc2: 0.7799   Acc3: 0.8656\n",
            "\n",
            "Epoch 87/99\n",
            "----------\n",
            "lr: 3.90625e-06\n",
            "(train)\n",
            "Loss1: 0.1180   Loss2: 0.2731   Loss3: 0.1112\n",
            "Acc1: 0.9954   Acc2: 0.9731   Acc3: 0.9928\n",
            "(val)\n",
            "Loss1: 0.6281   Loss2: 0.9960   Loss3: 0.7194\n",
            "Acc1: 0.8730   Acc2: 0.7799   Acc3: 0.8582\n",
            "\n",
            "Epoch 88/99\n",
            "----------\n",
            "lr: 3.90625e-06\n",
            "(train)\n",
            "Loss1: 0.1241   Loss2: 0.2727   Loss3: 0.1083\n",
            "Acc1: 0.9934   Acc2: 0.9734   Acc3: 0.9930\n",
            "(val)\n",
            "Loss1: 0.6385   Loss2: 0.9577   Loss3: 0.7004\n",
            "Acc1: 0.8737   Acc2: 0.7762   Acc3: 0.8671\n",
            "\n",
            "Epoch 89/99\n",
            "----------\n",
            "lr: 3.90625e-06\n",
            "(train)\n",
            "Loss1: 0.1261   Loss2: 0.2727   Loss3: 0.1012\n",
            "Acc1: 0.9932   Acc2: 0.9742   Acc3: 0.9950\n",
            "(val)\n",
            "Loss1: 0.6843   Loss2: 0.9715   Loss3: 0.7142\n",
            "Acc1: 0.8715   Acc2: 0.7799   Acc3: 0.8641\n",
            "\n",
            "Epoch 90/99\n",
            "----------\n",
            "lr: 1.953125e-06\n",
            "(train)\n",
            "Loss1: 0.1225   Loss2: 0.2702   Loss3: 0.1069\n",
            "Acc1: 0.9928   Acc2: 0.9731   Acc3: 0.9939\n",
            "(val)\n",
            "Loss1: 0.6601   Loss2: 0.9662   Loss3: 0.7067\n",
            "Acc1: 0.8744   Acc2: 0.7799   Acc3: 0.8656\n",
            "\n",
            "Epoch 91/99\n",
            "----------\n",
            "lr: 1.953125e-06\n",
            "(train)\n",
            "Loss1: 0.1226   Loss2: 0.2705   Loss3: 0.1038\n",
            "Acc1: 0.9941   Acc2: 0.9723   Acc3: 0.9945\n",
            "(val)\n",
            "Loss1: 0.6195   Loss2: 0.9675   Loss3: 0.7019\n",
            "Acc1: 0.8752   Acc2: 0.7806   Acc3: 0.8641\n",
            "\n",
            "Epoch 92/99\n",
            "----------\n",
            "lr: 1.953125e-06\n",
            "(train)\n",
            "Loss1: 0.1260   Loss2: 0.2735   Loss3: 0.1101\n",
            "Acc1: 0.9932   Acc2: 0.9723   Acc3: 0.9915\n",
            "(val)\n",
            "Loss1: 0.6321   Loss2: 0.9955   Loss3: 0.7071\n",
            "Acc1: 0.8744   Acc2: 0.7821   Acc3: 0.8634\n",
            "\n",
            "Epoch 93/99\n",
            "----------\n",
            "lr: 1.953125e-06\n",
            "(train)\n",
            "Loss1: 0.1251   Loss2: 0.2671   Loss3: 0.1030\n",
            "Acc1: 0.9926   Acc2: 0.9732   Acc3: 0.9961\n",
            "(val)\n",
            "Loss1: 0.6283   Loss2: 0.9608   Loss3: 0.7021\n",
            "Acc1: 0.8715   Acc2: 0.7806   Acc3: 0.8626\n",
            "\n",
            "Epoch 94/99\n",
            "----------\n",
            "lr: 1.953125e-06\n",
            "(train)\n",
            "Loss1: 0.1210   Loss2: 0.2702   Loss3: 0.1082\n",
            "Acc1: 0.9937   Acc2: 0.9753   Acc3: 0.9943\n",
            "(val)\n",
            "Loss1: 0.6532   Loss2: 0.9666   Loss3: 0.7103\n",
            "Acc1: 0.8722   Acc2: 0.7784   Acc3: 0.8634\n",
            "\n",
            "Epoch 95/99\n",
            "----------\n",
            "lr: 1.953125e-06\n",
            "(train)\n",
            "Loss1: 0.1223   Loss2: 0.2672   Loss3: 0.1030\n",
            "Acc1: 0.9948   Acc2: 0.9731   Acc3: 0.9946\n",
            "(val)\n",
            "Loss1: 0.6467   Loss2: 0.9646   Loss3: 0.7031\n",
            "Acc1: 0.8752   Acc2: 0.7799   Acc3: 0.8612\n",
            "\n",
            "Epoch 96/99\n",
            "----------\n",
            "lr: 1.953125e-06\n",
            "(train)\n",
            "Loss1: 0.1212   Loss2: 0.2719   Loss3: 0.1099\n",
            "Acc1: 0.9945   Acc2: 0.9721   Acc3: 0.9939\n",
            "(val)\n",
            "Loss1: 0.6387   Loss2: 0.9700   Loss3: 0.7181\n",
            "Acc1: 0.8789   Acc2: 0.7806   Acc3: 0.8575\n",
            "\n",
            "Epoch 97/99\n",
            "----------\n",
            "lr: 1.953125e-06\n",
            "(train)\n",
            "Loss1: 0.1265   Loss2: 0.2741   Loss3: 0.1069\n",
            "Acc1: 0.9939   Acc2: 0.9714   Acc3: 0.9935\n",
            "(val)\n",
            "Loss1: 0.6376   Loss2: 0.9684   Loss3: 0.7115\n",
            "Acc1: 0.8759   Acc2: 0.7814   Acc3: 0.8597\n",
            "\n",
            "Epoch 98/99\n",
            "----------\n",
            "lr: 1.953125e-06\n",
            "(train)\n",
            "Loss1: 0.1246   Loss2: 0.2651   Loss3: 0.1022\n",
            "Acc1: 0.9934   Acc2: 0.9727   Acc3: 0.9950\n",
            "(val)\n",
            "Loss1: 0.6337   Loss2: 0.9609   Loss3: 0.6985\n",
            "Acc1: 0.8737   Acc2: 0.7792   Acc3: 0.8626\n",
            "\n",
            "Epoch 99/99\n",
            "----------\n",
            "lr: 1.953125e-06\n",
            "(train)\n",
            "Loss1: 0.1248   Loss2: 0.2700   Loss3: 0.1053\n",
            "Acc1: 0.9946   Acc2: 0.9727   Acc3: 0.9943\n",
            "(val)\n",
            "Loss1: 0.6236   Loss2: 0.9620   Loss3: 0.7153\n",
            "Acc1: 0.8737   Acc2: 0.7814   Acc3: 0.8626\n",
            "\n",
            "Training complete in 68m 45s\n",
            "Best val Acc: 0.842935\n"
          ]
        },
        {
          "data": {
            "image/png": "[encoded data removed]",
            "text/plain": [
              "<Figure size 432x288 with 1 Axes>"
            ]
          },
          "metadata": {
            "tags": []
          },
          "output_type": "display_data"
        },
        {
          "data": {
            "image/png": "[encoded data removed]",
            "text/plain": [
              "<Figure size 432x288 with 1 Axes>"
            ]
          },
          "metadata": {
            "tags": []
          },
          "output_type": "display_data"
        },
        {
          "data": {
            "image/png": "[encoded data removed]",
            "text/plain": [
              "<Figure size 432x288 with 1 Axes>"
            ]
          },
          "metadata": {
            "tags": []
          },
          "output_type": "display_data"
        }
      ]
    },
    {
      "cell_type": "markdown",
      "metadata": {
        "id": "X1gN_XDMLzVL"
      },
      "source": [
        "## Utility functions"
      ]
    },
    {
      "cell_type": "markdown",
      "metadata": {
        "id": "MRFZlK37L5at"
      },
      "source": [
        "### function get_mean_std\n",
        "\n",
        "Used for normalization.\n",
        "\n",
        "For ```np_random_seed = 64``` and ```validation_split = 0.2```:\n",
        "\n",
        "* All data - mean = 0.3933, std = 0.2727\n",
        "* Train - mean = 0.3927, std = 0.2723\n",
        "* Val - mean = 0.3961, std = 0.2743\n",
        "\n",
        "Normalization and denormalization operations should all use training set values."
      ]
    },
    {
      "cell_type": "code",
      "metadata": {
        "id": "vkfzrg_6Nb_3"
      },
      "source": [
        "def get_mean_std(loader):\n",
        "  #VAR[X] = E[X**2] - E[X]**2\n",
        "  channels_sum, channels_squared_sum, num_batches = 0, 0, 0\n",
        "  for image, labels in loader:\n",
        "    channels_sum += torch.mean(image, dim=[0,2,3])\n",
        "    channels_squared_sum += torch.mean(image**2, dim=[0,2,3])\n",
        "    num_batches = num_batches + 1\n",
        "    print('num_batches: {}'.format(num_batches))\n",
        "  mean = channels_sum / num_batches\n",
        "  std = (channels_squared_sum/num_batches - mean**2)**0.5\n",
        "  return mean, std"
      ],
      "execution_count": null,
      "outputs": []
    },
    {
      "cell_type": "markdown",
      "metadata": {
        "id": "mGP_OO2pNe45"
      },
      "source": [
        "### function unnormalize\n",
        "\n",
        "Used for visualization."
      ]
    },
    {
      "cell_type": "code",
      "metadata": {
        "id": "CYLa-ch5NpvE"
      },
      "source": [
        "def unnormalize(img, mean=[0.3927, 0.3927, 0.3927], std=[0.2723, 0.2723, 0.2723]):\n",
        "  for t, m, s in zip(img, mean, std):\n",
        "    t.mul_(s).add_(m)\n",
        "  return img"
      ],
      "execution_count": null,
      "outputs": []
    },
    {
      "cell_type": "markdown",
      "metadata": {
        "id": "w0m5VUeQNr-o"
      },
      "source": [
        "### function show_batch\n",
        "\n",
        "Visualizes batch of images in grid."
      ]
    },
    {
      "cell_type": "code",
      "metadata": {
        "id": "EO1oThUjYzHm"
      },
      "source": [
        "def show_data(loader, batch_to_visualize):\n",
        "  for i, [images, labels] in enumerate(loader):\n",
        "    if (i == batch_to_visualize):\n",
        "      # lbl = [labels[0][index_to_visualize], labels[1][index_to_visualize], labels[2][index_to_visualize]]\n",
        "      for img in images:\n",
        "        img = unnormalize(img)\n",
        "      grid = utils.make_grid(images)\n",
        "      plt.figure()\n",
        "      plt.imshow(grid.numpy().transpose((1, 2, 0)))\n",
        "      plt.axis('off')\n",
        "      plt.ioff()\n",
        "      plt.show()\n",
        "      break"
      ],
      "execution_count": null,
      "outputs": []
    },
    {
      "cell_type": "markdown",
      "metadata": {
        "id": "Cu5E0efwDOk3"
      },
      "source": [
        "# Ax-platform"
      ]
    },
    {
      "cell_type": "markdown",
      "metadata": {
        "id": "kJAWFk2NDfjo"
      },
      "source": [
        "## Modules"
      ]
    },
    {
      "cell_type": "code",
      "metadata": {
        "id": "pF6rGyHeDd6j"
      },
      "source": [
        "import torch\n",
        "import torch.nn as nn\n",
        "import torch.optim as optim\n",
        "import numpy as np\n",
        "import torchvision\n",
        "from torchvision import datasets, models, transforms, utils\n",
        "from torch.utils.data import Dataset, DataLoader\n",
        "from torch.utils.data.sampler import SubsetRandomSampler\n",
        "import torch.nn.functional as F\n",
        "import matplotlib.pyplot as plt\n",
        "from sklearn.model_selection import StratifiedKFold\n",
        "import pickle\n",
        "import copy\n",
        "import csv"
      ],
      "execution_count": null,
      "outputs": []
    },
    {
      "cell_type": "code",
      "metadata": {
        "colab": {
          "base_uri": "https://localhost:8080/"
        },
        "id": "-IEr9BOFD3x3",
        "outputId": "b7591fd8-bb2d-422c-9a23-34d1c76d8fec"
      },
      "source": [
        "! pip install ax-platform"
      ],
      "execution_count": null,
      "outputs": [
        {
          "name": "stdout",
          "output_type": "stream",
          "text": [
            "Collecting ax-platform\n",
            "  Downloading ax_platform-0.2.1-py3-none-any.whl (844 kB)\n",
            "\u001b[?25l\r\u001b[K     |▍                               | 10 kB 39.1 MB/s eta 0:00:01\r\u001b[K     |▊                               | 20 kB 40.7 MB/s eta 0:00:01\r\u001b[K     |█▏                              | 30 kB 42.5 MB/s eta 0:00:01\r\u001b[K     |█▌                              | 40 kB 26.0 MB/s eta 0:00:01\r\u001b[K     |██                              | 51 kB 17.0 MB/s eta 0:00:01\r\u001b[K     |██▎                             | 61 kB 14.8 MB/s eta 0:00:01\r\u001b[K     |██▊                             | 71 kB 13.9 MB/s eta 0:00:01\r\u001b[K     |███                             | 81 kB 15.4 MB/s eta 0:00:01\r\u001b[K     |███▌                            | 92 kB 13.7 MB/s eta 0:00:01\r\u001b[K     |███▉                            | 102 kB 13.0 MB/s eta 0:00:01\r\u001b[K     |████▎                           | 112 kB 13.0 MB/s eta 0:00:01\r\u001b[K     |████▋                           | 122 kB 13.0 MB/s eta 0:00:01\r\u001b[K     |█████                           | 133 kB 13.0 MB/s eta 0:00:01\r\u001b[K     |█████▍                          | 143 kB 13.0 MB/s eta 0:00:01\r\u001b[K     |█████▉                          | 153 kB 13.0 MB/s eta 0:00:01\r\u001b[K     |██████▏                         | 163 kB 13.0 MB/s eta 0:00:01\r\u001b[K     |██████▋                         | 174 kB 13.0 MB/s eta 0:00:01\r\u001b[K     |███████                         | 184 kB 13.0 MB/s eta 0:00:01\r\u001b[K     |███████▍                        | 194 kB 13.0 MB/s eta 0:00:01\r\u001b[K     |███████▊                        | 204 kB 13.0 MB/s eta 0:00:01\r\u001b[K     |████████▏                       | 215 kB 13.0 MB/s eta 0:00:01\r\u001b[K     |████████▌                       | 225 kB 13.0 MB/s eta 0:00:01\r\u001b[K     |█████████                       | 235 kB 13.0 MB/s eta 0:00:01\r\u001b[K     |█████████▎                      | 245 kB 13.0 MB/s eta 0:00:01\r\u001b[K     |█████████▊                      | 256 kB 13.0 MB/s eta 0:00:01\r\u001b[K     |██████████                      | 266 kB 13.0 MB/s eta 0:00:01\r\u001b[K     |██████████▌                     | 276 kB 13.0 MB/s eta 0:00:01\r\u001b[K     |██████████▉                     | 286 kB 13.0 MB/s eta 0:00:01\r\u001b[K     |███████████▎                    | 296 kB 13.0 MB/s eta 0:00:01\r\u001b[K     |███████████▋                    | 307 kB 13.0 MB/s eta 0:00:01\r\u001b[K     |████████████                    | 317 kB 13.0 MB/s eta 0:00:01\r\u001b[K     |████████████▍                   | 327 kB 13.0 MB/s eta 0:00:01\r\u001b[K     |████████████▉                   | 337 kB 13.0 MB/s eta 0:00:01\r\u001b[K     |█████████████▏                  | 348 kB 13.0 MB/s eta 0:00:01\r\u001b[K     |█████████████▋                  | 358 kB 13.0 MB/s eta 0:00:01\r\u001b[K     |██████████████                  | 368 kB 13.0 MB/s eta 0:00:01\r\u001b[K     |██████████████▍                 | 378 kB 13.0 MB/s eta 0:00:01\r\u001b[K     |██████████████▊                 | 389 kB 13.0 MB/s eta 0:00:01\r\u001b[K     |███████████████▏                | 399 kB 13.0 MB/s eta 0:00:01\r\u001b[K     |███████████████▌                | 409 kB 13.0 MB/s eta 0:00:01\r\u001b[K     |████████████████                | 419 kB 13.0 MB/s eta 0:00:01\r\u001b[K     |████████████████▎               | 430 kB 13.0 MB/s eta 0:00:01\r\u001b[K     |████████████████▊               | 440 kB 13.0 MB/s eta 0:00:01\r\u001b[K     |█████████████████               | 450 kB 13.0 MB/s eta 0:00:01\r\u001b[K     |█████████████████▌              | 460 kB 13.0 MB/s eta 0:00:01\r\u001b[K     |█████████████████▉              | 471 kB 13.0 MB/s eta 0:00:01\r\u001b[K     |██████████████████▎             | 481 kB 13.0 MB/s eta 0:00:01\r\u001b[K     |██████████████████▋             | 491 kB 13.0 MB/s eta 0:00:01\r\u001b[K     |███████████████████             | 501 kB 13.0 MB/s eta 0:00:01\r\u001b[K     |███████████████████▍            | 512 kB 13.0 MB/s eta 0:00:01\r\u001b[K     |███████████████████▉            | 522 kB 13.0 MB/s eta 0:00:01\r\u001b[K     |████████████████████▏           | 532 kB 13.0 MB/s eta 0:00:01\r\u001b[K     |████████████████████▋           | 542 kB 13.0 MB/s eta 0:00:01\r\u001b[K     |█████████████████████           | 552 kB 13.0 MB/s eta 0:00:01\r\u001b[K     |█████████████████████▎          | 563 kB 13.0 MB/s eta 0:00:01\r\u001b[K     |█████████████████████▊          | 573 kB 13.0 MB/s eta 0:00:01\r\u001b[K     |██████████████████████          | 583 kB 13.0 MB/s eta 0:00:01\r\u001b[K     |██████████████████████▌         | 593 kB 13.0 MB/s eta 0:00:01\r\u001b[K     |██████████████████████▉         | 604 kB 13.0 MB/s eta 0:00:01\r\u001b[K     |███████████████████████▎        | 614 kB 13.0 MB/s eta 0:00:01\r\u001b[K     |███████████████████████▋        | 624 kB 13.0 MB/s eta 0:00:01\r\u001b[K     |████████████████████████        | 634 kB 13.0 MB/s eta 0:00:01\r\u001b[K     |████████████████████████▍       | 645 kB 13.0 MB/s eta 0:00:01\r\u001b[K     |████████████████████████▉       | 655 kB 13.0 MB/s eta 0:00:01\r\u001b[K     |█████████████████████████▏      | 665 kB 13.0 MB/s eta 0:00:01\r\u001b[K     |█████████████████████████▋      | 675 kB 13.0 MB/s eta 0:00:01\r\u001b[K     |██████████████████████████      | 686 kB 13.0 MB/s eta 0:00:01\r\u001b[K     |██████████████████████████▍     | 696 kB 13.0 MB/s eta 0:00:01\r\u001b[K     |██████████████████████████▊     | 706 kB 13.0 MB/s eta 0:00:01\r\u001b[K     |███████████████████████████▏    | 716 kB 13.0 MB/s eta 0:00:01\r\u001b[K     |███████████████████████████▌    | 727 kB 13.0 MB/s eta 0:00:01\r\u001b[K     |████████████████████████████    | 737 kB 13.0 MB/s eta 0:00:01\r\u001b[K     |████████████████████████████▎   | 747 kB 13.0 MB/s eta 0:00:01\r\u001b[K     |████████████████████████████▊   | 757 kB 13.0 MB/s eta 0:00:01\r\u001b[K     |█████████████████████████████   | 768 kB 13.0 MB/s eta 0:00:01\r\u001b[K     |█████████████████████████████▌  | 778 kB 13.0 MB/s eta 0:00:01\r\u001b[K     |█████████████████████████████▉  | 788 kB 13.0 MB/s eta 0:00:01\r\u001b[K     |██████████████████████████████▎ | 798 kB 13.0 MB/s eta 0:00:01\r\u001b[K     |██████████████████████████████▋ | 808 kB 13.0 MB/s eta 0:00:01\r\u001b[K     |███████████████████████████████ | 819 kB 13.0 MB/s eta 0:00:01\r\u001b[K     |███████████████████████████████▍| 829 kB 13.0 MB/s eta 0:00:01\r\u001b[K     |███████████████████████████████▉| 839 kB 13.0 MB/s eta 0:00:01\r\u001b[K     |████████████████████████████████| 844 kB 13.0 MB/s \n",
            "\u001b[?25hRequirement already satisfied: scipy in /usr/local/lib/python3.7/dist-packages (from ax-platform) (1.4.1)\n",
            "Collecting botorch==0.5.0\n",
            "  Downloading botorch-0.5.0-py3-none-any.whl (475 kB)\n",
            "\u001b[K     |████████████████████████████████| 475 kB 62.4 MB/s \n",
            "\u001b[?25hRequirement already satisfied: typeguard in /usr/local/lib/python3.7/dist-packages (from ax-platform) (2.7.1)\n",
            "Requirement already satisfied: pandas in /usr/local/lib/python3.7/dist-packages (from ax-platform) (1.1.5)\n",
            "Requirement already satisfied: jinja2 in /usr/local/lib/python3.7/dist-packages (from ax-platform) (2.11.3)\n",
            "Requirement already satisfied: plotly in /usr/local/lib/python3.7/dist-packages (from ax-platform) (4.4.1)\n",
            "Requirement already satisfied: scikit-learn in /usr/local/lib/python3.7/dist-packages (from ax-platform) (0.22.2.post1)\n",
            "Collecting gpytorch>=1.5\n",
            "  Downloading gpytorch-1.5.1-py2.py3-none-any.whl (503 kB)\n",
            "\u001b[K     |████████████████████████████████| 503 kB 61.4 MB/s \n",
            "\u001b[?25hRequirement already satisfied: torch>=1.8.1 in /usr/local/lib/python3.7/dist-packages (from botorch==0.5.0->ax-platform) (1.9.0+cu102)\n",
            "Requirement already satisfied: typing-extensions in /usr/local/lib/python3.7/dist-packages (from torch>=1.8.1->botorch==0.5.0->ax-platform) (3.7.4.3)\n",
            "Requirement already satisfied: MarkupSafe>=0.23 in /usr/local/lib/python3.7/dist-packages (from jinja2->ax-platform) (2.0.1)\n",
            "Requirement already satisfied: python-dateutil>=2.7.3 in /usr/local/lib/python3.7/dist-packages (from pandas->ax-platform) (2.8.2)\n",
            "Requirement already satisfied: numpy>=1.15.4 in /usr/local/lib/python3.7/dist-packages (from pandas->ax-platform) (1.19.5)\n",
            "Requirement already satisfied: pytz>=2017.2 in /usr/local/lib/python3.7/dist-packages (from pandas->ax-platform) (2018.9)\n",
            "Requirement already satisfied: six>=1.5 in /usr/local/lib/python3.7/dist-packages (from python-dateutil>=2.7.3->pandas->ax-platform) (1.15.0)\n",
            "Requirement already satisfied: retrying>=1.3.3 in /usr/local/lib/python3.7/dist-packages (from plotly->ax-platform) (1.3.3)\n",
            "Requirement already satisfied: joblib>=0.11 in /usr/local/lib/python3.7/dist-packages (from scikit-learn->ax-platform) (1.0.1)\n",
            "Installing collected packages: gpytorch, botorch, ax-platform\n",
            "Successfully installed ax-platform-0.2.1 botorch-0.5.0 gpytorch-1.5.1\n"
          ]
        }
      ]
    },
    {
      "cell_type": "code",
      "metadata": {
        "id": "SWWycbXiEHlO"
      },
      "source": [
        "from ax.plot.contour import plot_contour\n",
        "from ax.plot.trace import optimization_trace_single_method\n",
        "from ax.service.managed_loop import optimize\n",
        "from ax.utils.notebook.plotting import render\n",
        "from ax.utils.tutorials.cnn_utils import train, evaluate"
      ],
      "execution_count": null,
      "outputs": []
    },
    {
      "cell_type": "code",
      "metadata": {
        "id": "MPzfUPXkSUU1"
      },
      "source": [
        "import tqdm\n",
        "from tqdm import trange\n",
        "from tqdm import tqdm\n",
        "import time\n",
        "\n",
        "from functools import partial\n",
        "tqdm = partial(tqdm, position=0, leave=True)"
      ],
      "execution_count": null,
      "outputs": []
    },
    {
      "cell_type": "markdown",
      "metadata": {
        "id": "P92aLsjiBX3r"
      },
      "source": [
        "## Parameters"
      ]
    },
    {
      "cell_type": "code",
      "metadata": {
        "id": "VarHV-SmBf5S"
      },
      "source": [
        "train_test_split = 0.85\n",
        "datafn = '/content/drive/MyDrive/embryo-grading/multi-focal-project/morphology_grading_dataset_0606.pickle'\n",
        "trans = transforms.Compose([transforms.ToTensor(),\n",
        "                            transforms.Normalize([0.3927], [0.2723])])\n",
        "ax_total_trials = 25"
      ],
      "execution_count": null,
      "outputs": []
    },
    {
      "cell_type": "markdown",
      "metadata": {
        "id": "DB8FgfelFUfV"
      },
      "source": [
        "## class single_focal_net"
      ]
    },
    {
      "cell_type": "code",
      "metadata": {
        "id": "k-Q61wmtFsFG"
      },
      "source": [
        "class single_focal_net(nn.Module):\n",
        "\n",
        "  def __init__(self):\n",
        "    super(single_focal_net, self).__init__()\n",
        "    self.backbone_model = models.resnet18(pretrained=True)\n",
        "    self.backbone_model.fc = nn.Identity()\n",
        "    self.fc1 = nn.Linear(512, 4)\n",
        "    self.fc2 = nn.Linear(512, 3)\n",
        "    self.fc3 = nn.Linear(512, 3)\n",
        "\n",
        "  def forward(self, x):\n",
        "    x = self.backbone_model(x)\n",
        "    out1 = self.fc1(x)\n",
        "    out2 = self.fc2(x)\n",
        "    out3 = self.fc3(x)\n",
        "    return {'out1': out1, 'out2': out2, 'out3': out3}"
      ],
      "execution_count": null,
      "outputs": []
    },
    {
      "cell_type": "markdown",
      "metadata": {
        "id": "YaeU8fCwFX8R"
      },
      "source": [
        "## class mydata"
      ]
    },
    {
      "cell_type": "code",
      "metadata": {
        "id": "8jR7YVHnFwTw"
      },
      "source": [
        "class mydata(Dataset):\n",
        "\n",
        "  def __init__(self, datafn, multi_image=False, transform=None):\n",
        "    # Load .mat data file\n",
        "    with open(datafn, 'rb') as handle:\n",
        "      self.data = pickle.load(handle)\n",
        "    self.multi_image_flag = multi_image\n",
        "    self.transform = transform\n",
        "\n",
        "  def __len__(self):\n",
        "    return len(self.data)\n",
        "\n",
        "  def __getitem__(self, idx):\n",
        "    if torch.is_tensor(idx):\n",
        "      idx = idx.tolist()\n",
        "\n",
        "    if not self.multi_image_flag:\n",
        "      image = self.data[idx]['img']['0']\n",
        "      labels = self.data[idx]['label'][1]\n",
        "    else:\n",
        "      # TODO multi image not implemented yet\n",
        "      image = self.data[idx]['img']['0']\n",
        "      labels = self.data[idx]['label'][0]\n",
        "    if self.transform:\n",
        "      image = self.transform(image)\n",
        "    image = image.repeat(3, 1, 1) # turn into RGB because pretrained network expects RGB\n",
        "\n",
        "    return image, labels"
      ],
      "execution_count": null,
      "outputs": []
    },
    {
      "cell_type": "markdown",
      "metadata": {
        "id": "1KdRhXj6A8Q0"
      },
      "source": [
        "### Global dataset vars"
      ]
    },
    {
      "cell_type": "code",
      "metadata": {
        "colab": {
          "background_save": true
        },
        "id": "RxRbDcNN9YQz"
      },
      "source": [
        "# Dataset\n",
        "dataset = mydata(datafn, multi_image=False, transform=trans)\n",
        "\n",
        "train_val_set_len = int(train_test_split * len(dataset))\n",
        "dataset_train_val_indices = range(0, train_val_set_len)\n",
        "dataset_test_indices = range(train_val_set_len, len(dataset))"
      ],
      "execution_count": null,
      "outputs": []
    },
    {
      "cell_type": "markdown",
      "metadata": {
        "id": "M0IyW80vFfhG"
      },
      "source": [
        "## function focal_loss"
      ]
    },
    {
      "cell_type": "code",
      "metadata": {
        "colab": {
          "background_save": true
        },
        "id": "LD3EzWUJFzpi"
      },
      "source": [
        "def focal_loss(labels, logits, alpha, gamma):\n",
        "  bcloss = F.binary_cross_entropy_with_logits(input=logits, target=labels, reduction='none')\n",
        "  if gamma == 0.0:\n",
        "    modulator = 1.0\n",
        "  else:\n",
        "    modulator = torch.exp(-gamma * labels * logits - gamma * torch.log(1 + torch.exp(-1.0 * logits)))\n",
        "\n",
        "  loss = modulator * bcloss\n",
        "  weighted_loss = alpha * loss\n",
        "\n",
        "  return torch.sum(weighted_loss) / torch.sum(labels)"
      ],
      "execution_count": null,
      "outputs": []
    },
    {
      "cell_type": "markdown",
      "metadata": {
        "id": "JIMGXc72Fiue"
      },
      "source": [
        "## function cb_loss"
      ]
    },
    {
      "cell_type": "code",
      "metadata": {
        "colab": {
          "background_save": true
        },
        "id": "gDJ1eqs7F2oQ"
      },
      "source": [
        "def cb_loss(labels, logits, samples_per_class, loss_type, beta, gamma, device):\n",
        "  num_class = len(samples_per_class)\n",
        "  labels_oh = F.one_hot(labels, num_class).float()\n",
        "  weights = (1.0 - beta) / (np.array(1.0 - np.power(beta, samples_per_class)))\n",
        "  weights = weights / np.sum(weights) * num_class\n",
        "  weights = torch.tensor(weights).float()\n",
        "  weights = weights.to(device)\n",
        "  weights = weights.unsqueeze(0)\n",
        "  weights = weights.repeat(labels_oh.shape[0], 1) * labels_oh\n",
        "  weights = weights.sum(1)\n",
        "  weights = weights.unsqueeze(1)\n",
        "  weights = weights.repeat(1, num_class)\n",
        "\n",
        "  if loss_type == 'focal':\n",
        "    cb_loss = focal_loss(labels_oh, logits, weights, gamma)\n",
        "  elif loss_type == 'sigmoid':\n",
        "    cb_loss = F.binary_cross_entropy_with_logits(input=logits, target=labels_oh, weights=weights)\n",
        "  elif loss_type == 'softmax':\n",
        "    pred = logits.softmax(dim = 1)\n",
        "    cb_loss = F.binary_cross_entropy(input=pred, target=labels_oh, weight=weights)\n",
        "\n",
        "  return cb_loss"
      ],
      "execution_count": null,
      "outputs": []
    },
    {
      "cell_type": "markdown",
      "metadata": {
        "id": "X8CDtU5xFlMJ"
      },
      "source": [
        "## function train_model"
      ]
    },
    {
      "cell_type": "code",
      "metadata": {
        "colab": {
          "background_save": true
        },
        "id": "xQFZz2R4F6HQ"
      },
      "source": [
        "def train_model(model, device, dataloader, hyperparms, samples_per_class):\n",
        "\n",
        "  model = model.to(device)\n",
        "  model.train()\n",
        "\n",
        "  optimizer = optim.SGD(model.parameters(), \n",
        "                        lr=hyperparms.get('lr'), \n",
        "                        momentum=hyperparms.get('momentum'),\n",
        "                        weight_decay=hyperparms.get('weight_decay'))\n",
        "  scheduler = optim.lr_scheduler.StepLR(optimizer,\n",
        "                                        step_size=hyperparms.get('step_size'),\n",
        "                                        gamma=hyperparms.get('lr_gamma'))\n",
        "  num_epochs = hyperparms.get('num_epochs')\n",
        "  loss_type = hyperparms.get('loss_type')\n",
        "  loss_beta = hyperparms.get('loss_beta')\n",
        "  loss_gamma = hyperparms.get('loss_gamma')\n",
        "\n",
        "  # Show progress bar for epochs\n",
        "  with tqdm(total=num_epochs) as pbar_epoch:\n",
        "\n",
        "    # Iterate over epochs\n",
        "    for epoch in range(num_epochs):\n",
        "\n",
        "      # Iterate over data.\n",
        "      for inputs, labels in dataloader:\n",
        "        inputs = inputs.to(device)\n",
        "        label1 = torch.from_numpy(np.asarray(labels[0]).astype('long')).to(device)\n",
        "        label2 = torch.from_numpy(np.asarray(labels[1]).astype('long')).to(device)\n",
        "        label3 = torch.from_numpy(np.asarray(labels[2]).astype('long')).to(device)\n",
        "\n",
        "        # Zero the parameter gradients\n",
        "        optimizer.zero_grad()\n",
        "\n",
        "        outputs = model(inputs)\n",
        "\n",
        "        # Combine losses\n",
        "        loss1 = cb_loss(label1, outputs['out1'], samples_per_class[0], loss_type, loss_beta, loss_gamma, device)\n",
        "        loss2 = cb_loss(label2, outputs['out2'], samples_per_class[1], loss_type, loss_beta, loss_gamma, device)\n",
        "        loss3 = cb_loss(label3, outputs['out3'], samples_per_class[2], loss_type, loss_beta, loss_gamma, device)\n",
        "        loss1_weight = hyperparms.get('loss1_weight')\n",
        "        loss2_weight = hyperparms.get('loss2_weight')\n",
        "        loss3_weight = 1.0 - loss1_weight - loss2_weight\n",
        "        loss = loss1_weight*loss1 + loss2_weight*loss2 + loss3_weight*loss3 \n",
        "\n",
        "        loss.backward()\n",
        "        optimizer.step()\n",
        "\n",
        "      scheduler.step()\n",
        "      pbar_epoch.update(1)\n",
        "  \n",
        "  return model"
      ],
      "execution_count": null,
      "outputs": []
    },
    {
      "cell_type": "markdown",
      "metadata": {
        "id": "nKEgynx9XT83"
      },
      "source": [
        "## function val_model"
      ]
    },
    {
      "cell_type": "code",
      "metadata": {
        "colab": {
          "background_save": true
        },
        "id": "uvEE2VMXXWwv"
      },
      "source": [
        "def val_model(model, device, dataloader):\n",
        "\n",
        "  model.eval()\n",
        "  size = len(dataloader.sampler) # since I'm using samplers\n",
        "\n",
        "  running_corrects1 = 0\n",
        "  running_corrects2 = 0\n",
        "  running_corrects3 = 0\n",
        "\n",
        "  with torch.no_grad():\n",
        "\n",
        "    # Iterate over data.\n",
        "    for inputs, labels in dataloader:\n",
        "      inputs = inputs.to(device)\n",
        "      label1 = torch.from_numpy(np.asarray(labels[0]).astype('long')).to(device)\n",
        "      label2 = torch.from_numpy(np.asarray(labels[1]).astype('long')).to(device)\n",
        "      label3 = torch.from_numpy(np.asarray(labels[2]).astype('long')).to(device)\n",
        "\n",
        "      outputs = model(inputs)\n",
        "      _, preds1 = torch.max(outputs['out1'], 1)\n",
        "      _, preds2 = torch.max(outputs['out2'], 1)\n",
        "      _, preds3 = torch.max(outputs['out3'], 1)\n",
        "\n",
        "      running_corrects1 += torch.sum(preds1 == label1).cpu().numpy()\n",
        "      running_corrects2 += torch.sum(preds2 == label2).cpu().numpy()\n",
        "      running_corrects3 += torch.sum(preds3 == label3).cpu().numpy()\n",
        "\n",
        "  acc1 = running_corrects1 / size\n",
        "  acc2 = running_corrects1 / size\n",
        "  acc3 = running_corrects1 / size\n",
        "\n",
        "  return acc1, acc2, acc3"
      ],
      "execution_count": null,
      "outputs": []
    },
    {
      "cell_type": "markdown",
      "metadata": {
        "id": "dzxcotRsimKK"
      },
      "source": [
        "## function train_evaluate"
      ]
    },
    {
      "cell_type": "code",
      "metadata": {
        "colab": {
          "background_save": true
        },
        "id": "VUnnm5c3isi2"
      },
      "source": [
        "def train_evaluate(hyperparms):\n",
        "\n",
        "  device = torch.device('cuda:0' if torch.cuda.is_available() else 'cpu')\n",
        "\n",
        "  # Stratified K-fold cross validation\n",
        "  skf = StratifiedKFold(n_splits=5, shuffle=True, random_state=64)\n",
        "\n",
        "  # Helper function for getting an appropriate Y for stratified splitting\n",
        "  def join_label(label):\n",
        "    return int(''.join(map(str, label))) # [0,1,2] -> int(012) -> 12\n",
        "\n",
        "  X = np.array(dataset_train_val_indices)\n",
        "  Y = np.array([join_label(dataset[idx][1]) for idx in dataset_train_val_indices])\n",
        "\n",
        "  avg_acc = []\n",
        "  for train_indices, val_indices in skf.split(X, Y):\n",
        "\n",
        "    # Split train and val set\n",
        "    train_sampler = SubsetRandomSampler(train_indices)\n",
        "    val_sampler = SubsetRandomSampler(val_indices)\n",
        "    batch_size = hyperparms.get('batch_size')\n",
        "    train_loader = DataLoader(dataset, batch_size=batch_size, sampler=train_sampler)\n",
        "    val_loader = DataLoader(dataset, batch_size=batch_size, sampler=val_sampler)\n",
        "\n",
        "    # Get samples per class\n",
        "    samples_per_class = [[0, 0, 0, 0], [0, 0, 0], [0, 0, 0]]\n",
        "    for _, labels in train_loader:\n",
        "      for i in range(3):\n",
        "        for j in range(len(samples_per_class[i])):\n",
        "          num_mask = np.asarray(labels[i]) == j\n",
        "          samples_per_class[i][j] += len(labels[i][num_mask])\n",
        "\n",
        "    # Instantiate model and train\n",
        "    untrained_model = single_focal_net()\n",
        "    untrained_model = untrained_model.to(device)\n",
        "    trained_model = train_model(model=untrained_model, \n",
        "                                device=device, \n",
        "                                dataloader=train_loader, \n",
        "                                hyperparms=hyperparms, \n",
        "                                samples_per_class=samples_per_class)\n",
        "\n",
        "    # Do validation\n",
        "    acc1, acc2, acc3 = val_model(model=trained_model, \n",
        "                                 device=device, \n",
        "                                 dataloader=val_loader)\n",
        "    avg_acc.append(np.mean([acc1, acc2, acc3]))\n",
        "\n",
        "  print('average accuracy = {}'.format(np.mean(avg_acc)))\n",
        "  return np.mean(avg_acc)"
      ],
      "execution_count": null,
      "outputs": []
    },
    {
      "cell_type": "markdown",
      "metadata": {
        "id": "z3HTy45iPIAB"
      },
      "source": [
        "## Ax-platform experiment script\n",
        "\n",
        "Returns:\n",
        "\n",
        "- ```best_parameters```: dictionary of what ax-platform thinks are the best hyperparameters\n",
        "- ```means, covariances = values```: means and covariances of the optimized metric"
      ]
    },
    {
      "cell_type": "code",
      "metadata": {
        "colab": {
          "base_uri": "https://localhost:8080/",
          "height": 1000,
          "referenced_widgets": [
            "9a48a1f48e4d4f44acdc5a7fab320b96"
          ]
        },
        "id": "40UdNv8NPRzo",
        "outputId": "ffb6f54b-1242-4636-fbe8-8ae2d5f67dd0"
      },
      "source": [
        "best_parameters, values, experiment, model = optimize(\n",
        "  parameters=[\n",
        "    {'name': 'lr', 'type': 'range', 'bounds': [1e-8, 0.1], 'log_scale': True},\n",
        "    {'name': 'weight_decay', 'type': 'range', 'bounds': [1e-8, 0.1], 'log_scale': True},\n",
        "    {'name': 'batch_size', 'type': 'range', 'bounds': [4, 64]},\n",
        "    {'name': 'momentum', 'type': 'range', 'bounds': [0.0, 1.0]},\n",
        "    {'name': 'step_size', 'type': 'range', 'bounds': [1, 10]},\n",
        "    {'name': 'lr_gamma', 'type': 'range', 'bounds': [0.02, 1.0]},\n",
        "    {'name': 'loss_gamma', 'type': 'range', 'bounds': [0.0, 5.0]}, # for focal loss\n",
        "    {'name': 'loss_beta', 'type': 'choice', 'values': [0.9, 0.99, 0.999, 0.9999, 0.99999]}, # for cb loss\n",
        "    {'name': 'num_epochs', 'type': 'range', 'bounds': [5, 15]},\n",
        "    {'name': 'loss_type', 'type': 'choice', 'values': ['softmax', 'focal']},\n",
        "    {'name': 'loss1_weight', 'type': 'range', 'bounds': [0.23, 0.43]},\n",
        "    {'name': 'loss2_weight', 'type': 'range', 'bounds': [0.23, 0.43]},\n",
        "  ],\n",
        "  evaluation_function=train_evaluate,\n",
        "  objective_name='accuracy',\n",
        "  minimize=False,\n",
        "  total_trials=ax_total_trials\n",
        ")"
      ],
      "execution_count": 14,
      "outputs": [
        {
          "metadata": {
            "tags": null
          },
          "name": "stderr",
          "output_type": "stream",
          "text": [
            "[INFO 09-08 13:21:22] ax.service.utils.instantiation: Inferred value type of ParameterType.FLOAT for parameter lr. If that is not the expected value type, you can explicity specify 'value_type' ('int', 'float', 'bool' or 'str') in parameter dict.\n",
            "[INFO 09-08 13:21:22] ax.service.utils.instantiation: Inferred value type of ParameterType.FLOAT for parameter weight_decay. If that is not the expected value type, you can explicity specify 'value_type' ('int', 'float', 'bool' or 'str') in parameter dict.\n",
            "[INFO 09-08 13:21:22] ax.service.utils.instantiation: Inferred value type of ParameterType.INT for parameter batch_size. If that is not the expected value type, you can explicity specify 'value_type' ('int', 'float', 'bool' or 'str') in parameter dict.\n",
            "[INFO 09-08 13:21:22] ax.service.utils.instantiation: Inferred value type of ParameterType.FLOAT for parameter momentum. If that is not the expected value type, you can explicity specify 'value_type' ('int', 'float', 'bool' or 'str') in parameter dict.\n",
            "[INFO 09-08 13:21:22] ax.service.utils.instantiation: Inferred value type of ParameterType.INT for parameter step_size. If that is not the expected value type, you can explicity specify 'value_type' ('int', 'float', 'bool' or 'str') in parameter dict.\n",
            "[INFO 09-08 13:21:22] ax.service.utils.instantiation: Inferred value type of ParameterType.FLOAT for parameter lr_gamma. If that is not the expected value type, you can explicity specify 'value_type' ('int', 'float', 'bool' or 'str') in parameter dict.\n",
            "[INFO 09-08 13:21:22] ax.service.utils.instantiation: Inferred value type of ParameterType.FLOAT for parameter loss_gamma. If that is not the expected value type, you can explicity specify 'value_type' ('int', 'float', 'bool' or 'str') in parameter dict.\n",
            "[INFO 09-08 13:21:22] ax.service.utils.instantiation: Inferred value type of ParameterType.FLOAT for parameter loss_beta. If that is not the expected value type, you can explicity specify 'value_type' ('int', 'float', 'bool' or 'str') in parameter dict.\n",
            "[INFO 09-08 13:21:22] ax.service.utils.instantiation: Inferred value type of ParameterType.INT for parameter num_epochs. If that is not the expected value type, you can explicity specify 'value_type' ('int', 'float', 'bool' or 'str') in parameter dict.\n",
            "[INFO 09-08 13:21:22] ax.service.utils.instantiation: Inferred value type of ParameterType.STRING for parameter loss_type. If that is not the expected value type, you can explicity specify 'value_type' ('int', 'float', 'bool' or 'str') in parameter dict.\n",
            "[INFO 09-08 13:21:22] ax.service.utils.instantiation: Inferred value type of ParameterType.FLOAT for parameter loss1_weight. If that is not the expected value type, you can explicity specify 'value_type' ('int', 'float', 'bool' or 'str') in parameter dict.\n",
            "[INFO 09-08 13:21:22] ax.service.utils.instantiation: Inferred value type of ParameterType.FLOAT for parameter loss2_weight. If that is not the expected value type, you can explicity specify 'value_type' ('int', 'float', 'bool' or 'str') in parameter dict.\n",
            "[INFO 09-08 13:21:22] ax.modelbridge.dispatch_utils: Using GPEI (Bayesian optimization) since there are more continuous parameters than there are categories for the unordered categorical parameters.\n",
            "[INFO 09-08 13:21:22] ax.modelbridge.dispatch_utils: Using Bayesian Optimization generation strategy: GenerationStrategy(name='Sobol+GPEI', steps=[Sobol for 12 trials, GPEI for subsequent trials]). Iterations after 12 will take longer to generate due to  model-fitting.\n",
            "[INFO 09-08 13:21:22] ax.service.managed_loop: Started full optimization with 25 steps.\n",
            "[INFO 09-08 13:21:22] ax.service.managed_loop: Running optimization trial 1...\n",
            "/usr/local/lib/python3.7/dist-packages/sklearn/model_selection/_split.py:667: UserWarning:\n",
            "\n",
            "The least populated class in y has only 3 members, which is less than n_splits=5.\n",
            "\n",
            "Downloading: \"https://download.pytorch.org/models/resnet18-f37072fd.pth\" to /root/.cache/torch/hub/checkpoints/resnet18-f37072fd.pth\n"
          ]
        },
        {
          "data": {
            "application/vnd.jupyter.widget-view+json": {
              "model_id": "9a48a1f48e4d4f44acdc5a7fab320b96",
              "version_major": 2,
              "version_minor": 0
            },
            "text/plain": [
              "  0%|          | 0.00/44.7M [00:00<?, ?B/s]"
            ]
          },
          "metadata": {},
          "output_type": "display_data"
        },
        {
          "metadata": {
            "tags": null
          },
          "name": "stderr",
          "output_type": "stream",
          "text": [
            "  0%|          | 0/7 [00:00<?, ?it/s]/usr/local/lib/python3.7/dist-packages/torch/nn/functional.py:718: UserWarning:\n",
            "\n",
            "Named tensors and all their associated APIs are an experimental feature and subject to change. Please do not use them for anything important until they are released as stable. (Triggered internally at  /pytorch/c10/core/TensorImpl.h:1156.)\n",
            "\n",
            "100%|██████████| 7/7 [03:10<00:00, 27.26s/it]\n",
            "100%|██████████| 7/7 [03:10<00:00, 27.21s/it]\n",
            "100%|██████████| 7/7 [03:10<00:00, 27.18s/it]\n",
            "100%|██████████| 7/7 [03:10<00:00, 27.24s/it]\n",
            "100%|██████████| 7/7 [03:10<00:00, 27.23s/it]\n",
            "[INFO 09-08 13:38:10] ax.service.managed_loop: Running optimization trial 2...\n"
          ]
        },
        {
          "metadata": {
            "tags": null
          },
          "name": "stdout",
          "output_type": "stream",
          "text": [
            "average accuracy = 0.3743954532290762\n"
          ]
        },
        {
          "metadata": {
            "tags": null
          },
          "name": "stderr",
          "output_type": "stream",
          "text": [
            "/usr/local/lib/python3.7/dist-packages/sklearn/model_selection/_split.py:667: UserWarning:\n",
            "\n",
            "The least populated class in y has only 3 members, which is less than n_splits=5.\n",
            "\n",
            "100%|██████████| 14/14 [05:46<00:00, 24.75s/it]\n",
            "100%|██████████| 14/14 [05:47<00:00, 24.80s/it]\n",
            "100%|██████████| 14/14 [05:47<00:00, 24.82s/it]\n",
            "100%|██████████| 14/14 [05:47<00:00, 24.81s/it]\n",
            "100%|██████████| 14/14 [05:47<00:00, 24.84s/it]\n",
            "[INFO 09-08 14:07:56] ax.service.managed_loop: Running optimization trial 3...\n"
          ]
        },
        {
          "metadata": {
            "tags": null
          },
          "name": "stdout",
          "output_type": "stream",
          "text": [
            "average accuracy = 0.580785578965151\n"
          ]
        },
        {
          "metadata": {
            "tags": null
          },
          "name": "stderr",
          "output_type": "stream",
          "text": [
            "/usr/local/lib/python3.7/dist-packages/sklearn/model_selection/_split.py:667: UserWarning:\n",
            "\n",
            "The least populated class in y has only 3 members, which is less than n_splits=5.\n",
            "\n",
            "100%|██████████| 10/10 [03:59<00:00, 23.96s/it]\n",
            "100%|██████████| 10/10 [03:59<00:00, 23.96s/it]\n",
            "100%|██████████| 10/10 [03:59<00:00, 23.97s/it]\n",
            "100%|██████████| 10/10 [03:59<00:00, 23.97s/it]\n",
            "100%|██████████| 10/10 [03:59<00:00, 23.99s/it]\n",
            "[INFO 09-08 14:28:43] ax.service.managed_loop: Running optimization trial 4...\n"
          ]
        },
        {
          "metadata": {
            "tags": null
          },
          "name": "stdout",
          "output_type": "stream",
          "text": [
            "average accuracy = 0.8210576250120669\n"
          ]
        },
        {
          "metadata": {
            "tags": null
          },
          "name": "stderr",
          "output_type": "stream",
          "text": [
            "/usr/local/lib/python3.7/dist-packages/sklearn/model_selection/_split.py:667: UserWarning:\n",
            "\n",
            "The least populated class in y has only 3 members, which is less than n_splits=5.\n",
            "\n",
            "100%|██████████| 11/11 [04:27<00:00, 24.36s/it]\n",
            "100%|██████████| 11/11 [04:27<00:00, 24.32s/it]\n",
            "100%|██████████| 11/11 [04:27<00:00, 24.34s/it]\n",
            "100%|██████████| 11/11 [04:27<00:00, 24.34s/it]\n",
            "100%|██████████| 11/11 [04:27<00:00, 24.34s/it]\n",
            "[INFO 09-08 14:51:52] ax.service.managed_loop: Running optimization trial 5...\n"
          ]
        },
        {
          "metadata": {
            "tags": null
          },
          "name": "stdout",
          "output_type": "stream",
          "text": [
            "average accuracy = 0.7691068756636741\n"
          ]
        },
        {
          "metadata": {
            "tags": null
          },
          "name": "stderr",
          "output_type": "stream",
          "text": [
            "/usr/local/lib/python3.7/dist-packages/sklearn/model_selection/_split.py:667: UserWarning:\n",
            "\n",
            "The least populated class in y has only 3 members, which is less than n_splits=5.\n",
            "\n",
            "100%|██████████| 9/9 [03:41<00:00, 24.56s/it]\n",
            "100%|██████████| 9/9 [03:41<00:00, 24.57s/it]\n",
            "100%|██████████| 9/9 [03:41<00:00, 24.56s/it]\n",
            "100%|██████████| 9/9 [03:41<00:00, 24.57s/it]\n",
            "100%|██████████| 9/9 [03:41<00:00, 24.57s/it]\n",
            "[INFO 09-08 15:11:08] ax.service.managed_loop: Running optimization trial 6...\n"
          ]
        },
        {
          "metadata": {
            "tags": null
          },
          "name": "stdout",
          "output_type": "stream",
          "text": [
            "average accuracy = 0.1224579773626798\n"
          ]
        },
        {
          "metadata": {
            "tags": null
          },
          "name": "stderr",
          "output_type": "stream",
          "text": [
            "/usr/local/lib/python3.7/dist-packages/sklearn/model_selection/_split.py:667: UserWarning:\n",
            "\n",
            "The least populated class in y has only 3 members, which is less than n_splits=5.\n",
            "\n",
            "100%|██████████| 15/15 [06:11<00:00, 24.74s/it]\n",
            "100%|██████████| 15/15 [06:11<00:00, 24.76s/it]\n",
            "100%|██████████| 15/15 [06:11<00:00, 24.76s/it]\n",
            "100%|██████████| 15/15 [06:11<00:00, 24.76s/it]\n",
            "100%|██████████| 15/15 [06:11<00:00, 24.75s/it]\n",
            "[INFO 09-08 15:42:57] ax.service.managed_loop: Running optimization trial 7...\n"
          ]
        },
        {
          "metadata": {
            "tags": null
          },
          "name": "stdout",
          "output_type": "stream",
          "text": [
            "average accuracy = 0.8756054517810599\n"
          ]
        },
        {
          "metadata": {
            "tags": null
          },
          "name": "stderr",
          "output_type": "stream",
          "text": [
            "/usr/local/lib/python3.7/dist-packages/sklearn/model_selection/_split.py:667: UserWarning:\n",
            "\n",
            "The least populated class in y has only 3 members, which is less than n_splits=5.\n",
            "\n",
            "100%|██████████| 5/5 [02:00<00:00, 24.10s/it]\n",
            "100%|██████████| 5/5 [02:00<00:00, 24.08s/it]\n",
            "100%|██████████| 5/5 [02:00<00:00, 24.06s/it]\n",
            "100%|██████████| 5/5 [02:00<00:00, 24.05s/it]\n",
            "100%|██████████| 5/5 [02:00<00:00, 24.05s/it]\n",
            "[INFO 09-08 15:53:54] ax.service.managed_loop: Running optimization trial 8...\n"
          ]
        },
        {
          "metadata": {
            "tags": null
          },
          "name": "stdout",
          "output_type": "stream",
          "text": [
            "average accuracy = 0.2241001182546578\n"
          ]
        },
        {
          "metadata": {
            "tags": null
          },
          "name": "stderr",
          "output_type": "stream",
          "text": [
            "/usr/local/lib/python3.7/dist-packages/sklearn/model_selection/_split.py:667: UserWarning:\n",
            "\n",
            "The least populated class in y has only 3 members, which is less than n_splits=5.\n",
            "\n",
            "100%|██████████| 6/6 [02:24<00:00, 24.01s/it]\n",
            "100%|██████████| 6/6 [02:24<00:00, 24.01s/it]\n",
            "100%|██████████| 6/6 [02:24<00:00, 24.01s/it]\n",
            "100%|██████████| 6/6 [02:24<00:00, 24.02s/it]\n",
            "100%|██████████| 6/6 [02:24<00:00, 24.01s/it]\n",
            "[INFO 09-08 16:06:42] ax.service.managed_loop: Running optimization trial 9...\n"
          ]
        },
        {
          "metadata": {
            "tags": null
          },
          "name": "stdout",
          "output_type": "stream",
          "text": [
            "average accuracy = 0.340516549618689\n"
          ]
        },
        {
          "metadata": {
            "tags": null
          },
          "name": "stderr",
          "output_type": "stream",
          "text": [
            "/usr/local/lib/python3.7/dist-packages/sklearn/model_selection/_split.py:667: UserWarning:\n",
            "\n",
            "The least populated class in y has only 3 members, which is less than n_splits=5.\n",
            "\n",
            "100%|██████████| 7/7 [02:49<00:00, 24.18s/it]\n",
            "100%|██████████| 7/7 [02:49<00:00, 24.17s/it]\n",
            "100%|██████████| 7/7 [02:49<00:00, 24.18s/it]\n",
            "100%|██████████| 7/7 [02:49<00:00, 24.17s/it]\n",
            "100%|██████████| 7/7 [02:49<00:00, 24.16s/it]\n",
            "[INFO 09-08 16:21:45] ax.service.managed_loop: Running optimization trial 10...\n"
          ]
        },
        {
          "metadata": {
            "tags": null
          },
          "name": "stdout",
          "output_type": "stream",
          "text": [
            "average accuracy = 0.2164298556810503\n"
          ]
        },
        {
          "metadata": {
            "tags": null
          },
          "name": "stderr",
          "output_type": "stream",
          "text": [
            "/usr/local/lib/python3.7/dist-packages/sklearn/model_selection/_split.py:667: UserWarning:\n",
            "\n",
            "The least populated class in y has only 3 members, which is less than n_splits=5.\n",
            "\n",
            "100%|██████████| 8/8 [03:21<00:00, 25.15s/it]\n",
            "100%|██████████| 8/8 [03:21<00:00, 25.17s/it]\n",
            "100%|██████████| 8/8 [03:21<00:00, 25.16s/it]\n",
            "100%|██████████| 8/8 [03:21<00:00, 25.15s/it]\n",
            "100%|██████████| 8/8 [03:21<00:00, 25.14s/it]\n",
            "[INFO 09-08 16:39:20] ax.service.managed_loop: Running optimization trial 11...\n"
          ]
        },
        {
          "metadata": {
            "tags": null
          },
          "name": "stdout",
          "output_type": "stream",
          "text": [
            "average accuracy = 0.22674863041799403\n"
          ]
        },
        {
          "metadata": {
            "tags": null
          },
          "name": "stderr",
          "output_type": "stream",
          "text": [
            "/usr/local/lib/python3.7/dist-packages/sklearn/model_selection/_split.py:667: UserWarning:\n",
            "\n",
            "The least populated class in y has only 3 members, which is less than n_splits=5.\n",
            "\n",
            "100%|██████████| 9/9 [03:41<00:00, 24.63s/it]\n",
            "100%|██████████| 9/9 [03:41<00:00, 24.64s/it]\n",
            "100%|██████████| 9/9 [03:29<00:00, 23.32s/it]\n",
            "100%|██████████| 9/9 [03:41<00:00, 24.63s/it]\n",
            "100%|██████████| 9/9 [03:29<00:00, 23.32s/it]\n",
            "[INFO 09-08 16:58:14] ax.service.managed_loop: Running optimization trial 12...\n"
          ]
        },
        {
          "metadata": {
            "tags": null
          },
          "name": "stdout",
          "output_type": "stream",
          "text": [
            "average accuracy = 0.6063174232551404\n"
          ]
        },
        {
          "metadata": {
            "tags": null
          },
          "name": "stderr",
          "output_type": "stream",
          "text": [
            "/usr/local/lib/python3.7/dist-packages/sklearn/model_selection/_split.py:667: UserWarning:\n",
            "\n",
            "The least populated class in y has only 3 members, which is less than n_splits=5.\n",
            "\n",
            "100%|██████████| 6/6 [02:20<00:00, 23.37s/it]\n",
            "100%|██████████| 6/6 [02:20<00:00, 23.34s/it]\n",
            "100%|██████████| 6/6 [02:20<00:00, 23.34s/it]\n",
            "100%|██████████| 6/6 [02:20<00:00, 23.35s/it]\n",
            "100%|██████████| 6/6 [02:20<00:00, 23.34s/it]\n",
            "[INFO 09-08 17:10:43] ax.service.managed_loop: Running optimization trial 13...\n"
          ]
        },
        {
          "metadata": {
            "tags": null
          },
          "name": "stdout",
          "output_type": "stream",
          "text": [
            "average accuracy = 0.19804457476590404\n"
          ]
        },
        {
          "metadata": {
            "tags": null
          },
          "name": "stderr",
          "output_type": "stream",
          "text": [
            "/usr/local/lib/python3.7/dist-packages/sklearn/model_selection/_split.py:667: UserWarning:\n",
            "\n",
            "The least populated class in y has only 3 members, which is less than n_splits=5.\n",
            "\n",
            "100%|██████████| 15/15 [05:43<00:00, 22.90s/it]\n",
            "100%|██████████| 15/15 [05:43<00:00, 22.91s/it]\n",
            "100%|██████████| 15/15 [05:43<00:00, 22.89s/it]\n",
            "100%|██████████| 15/15 [05:43<00:00, 22.89s/it]\n",
            "100%|██████████| 15/15 [05:43<00:00, 22.93s/it]\n",
            "[INFO 09-08 17:40:14] ax.service.managed_loop: Running optimization trial 14...\n"
          ]
        },
        {
          "metadata": {
            "tags": null
          },
          "name": "stdout",
          "output_type": "stream",
          "text": [
            "average accuracy = 0.8848167957814461\n"
          ]
        },
        {
          "metadata": {
            "tags": null
          },
          "name": "stderr",
          "output_type": "stream",
          "text": [
            "/usr/local/lib/python3.7/dist-packages/sklearn/model_selection/_split.py:667: UserWarning:\n",
            "\n",
            "The least populated class in y has only 3 members, which is less than n_splits=5.\n",
            "\n",
            "100%|██████████| 15/15 [06:09<00:00, 24.66s/it]\n",
            "100%|██████████| 15/15 [06:10<00:00, 24.67s/it]\n",
            "100%|██████████| 15/15 [06:09<00:00, 24.67s/it]\n",
            "100%|██████████| 15/15 [06:10<00:00, 24.67s/it]\n",
            "100%|██████████| 15/15 [06:09<00:00, 24.66s/it]\n",
            "[INFO 09-08 18:11:59] ax.service.managed_loop: Running optimization trial 15...\n"
          ]
        },
        {
          "metadata": {
            "tags": null
          },
          "name": "stdout",
          "output_type": "stream",
          "text": [
            "average accuracy = 0.8818616360169902\n"
          ]
        },
        {
          "metadata": {
            "tags": null
          },
          "name": "stderr",
          "output_type": "stream",
          "text": [
            "/usr/local/lib/python3.7/dist-packages/sklearn/model_selection/_split.py:667: UserWarning:\n",
            "\n",
            "The least populated class in y has only 3 members, which is less than n_splits=5.\n",
            "\n",
            "100%|██████████| 15/15 [06:09<00:00, 24.65s/it]\n",
            "100%|██████████| 15/15 [06:09<00:00, 24.65s/it]\n",
            "100%|██████████| 15/15 [06:09<00:00, 24.64s/it]\n",
            "100%|██████████| 15/15 [06:09<00:00, 24.65s/it]\n",
            "100%|██████████| 15/15 [06:09<00:00, 24.65s/it]\n",
            "[INFO 09-08 18:43:42] ax.service.managed_loop: Running optimization trial 16...\n"
          ]
        },
        {
          "metadata": {
            "tags": null
          },
          "name": "stdout",
          "output_type": "stream",
          "text": [
            "average accuracy = 0.886899374939666\n"
          ]
        },
        {
          "metadata": {
            "tags": null
          },
          "name": "stderr",
          "output_type": "stream",
          "text": [
            "/usr/local/lib/python3.7/dist-packages/sklearn/model_selection/_split.py:667: UserWarning:\n",
            "\n",
            "The least populated class in y has only 3 members, which is less than n_splits=5.\n",
            "\n",
            "100%|██████████| 15/15 [05:44<00:00, 22.95s/it]\n",
            "100%|██████████| 15/15 [05:44<00:00, 22.97s/it]\n",
            "100%|██████████| 15/15 [05:44<00:00, 22.94s/it]\n",
            "100%|██████████| 15/15 [05:44<00:00, 22.94s/it]\n",
            "100%|██████████| 15/15 [05:44<00:00, 22.96s/it]\n",
            "[INFO 09-08 19:13:16] ax.service.managed_loop: Running optimization trial 17...\n"
          ]
        },
        {
          "metadata": {
            "tags": null
          },
          "name": "stdout",
          "output_type": "stream",
          "text": [
            "average accuracy = 0.8822079532290761\n"
          ]
        },
        {
          "metadata": {
            "tags": null
          },
          "name": "stderr",
          "output_type": "stream",
          "text": [
            "/usr/local/lib/python3.7/dist-packages/sklearn/model_selection/_split.py:667: UserWarning:\n",
            "\n",
            "The least populated class in y has only 3 members, which is less than n_splits=5.\n",
            "\n",
            "100%|██████████| 15/15 [05:41<00:00, 22.74s/it]\n",
            "100%|██████████| 15/15 [05:41<00:00, 22.76s/it]\n",
            "100%|██████████| 15/15 [05:43<00:00, 22.93s/it]\n",
            "100%|██████████| 15/15 [05:41<00:00, 22.74s/it]\n",
            "100%|██████████| 15/15 [05:41<00:00, 22.74s/it]\n",
            "[INFO 09-08 19:42:34] ax.service.managed_loop: Running optimization trial 18...\n"
          ]
        },
        {
          "metadata": {
            "tags": null
          },
          "name": "stdout",
          "output_type": "stream",
          "text": [
            "average accuracy = 0.24689853026353897\n"
          ]
        },
        {
          "metadata": {
            "tags": null
          },
          "name": "stderr",
          "output_type": "stream",
          "text": [
            "/usr/local/lib/python3.7/dist-packages/sklearn/model_selection/_split.py:667: UserWarning:\n",
            "\n",
            "The least populated class in y has only 3 members, which is less than n_splits=5.\n",
            "\n",
            "100%|██████████| 15/15 [05:45<00:00, 23.05s/it]\n",
            "100%|██████████| 15/15 [05:45<00:00, 23.05s/it]\n",
            "100%|██████████| 15/15 [05:45<00:00, 23.06s/it]\n",
            "100%|██████████| 15/15 [05:45<00:00, 23.04s/it]\n",
            "100%|██████████| 15/15 [05:45<00:00, 23.04s/it]\n",
            "[INFO 09-08 20:12:30] ax.service.managed_loop: Running optimization trial 19...\n"
          ]
        },
        {
          "metadata": {
            "tags": null
          },
          "name": "stdout",
          "output_type": "stream",
          "text": [
            "average accuracy = 0.8589303383531229\n"
          ]
        },
        {
          "metadata": {
            "tags": null
          },
          "name": "stderr",
          "output_type": "stream",
          "text": [
            "/usr/local/lib/python3.7/dist-packages/sklearn/model_selection/_split.py:667: UserWarning:\n",
            "\n",
            "The least populated class in y has only 3 members, which is less than n_splits=5.\n",
            "\n",
            "100%|██████████| 15/15 [06:10<00:00, 24.70s/it]\n",
            "100%|██████████| 15/15 [06:10<00:00, 24.69s/it]\n",
            "100%|██████████| 15/15 [06:10<00:00, 24.69s/it]\n",
            "100%|██████████| 15/15 [06:10<00:00, 24.68s/it]\n",
            "100%|██████████| 15/15 [06:10<00:00, 24.69s/it]\n",
            "[INFO 09-08 20:44:36] ax.service.managed_loop: Running optimization trial 20...\n"
          ]
        },
        {
          "metadata": {
            "tags": null
          },
          "name": "stdout",
          "output_type": "stream",
          "text": [
            "average accuracy = 0.8771709684815135\n"
          ]
        },
        {
          "metadata": {
            "tags": null
          },
          "name": "stderr",
          "output_type": "stream",
          "text": [
            "/usr/local/lib/python3.7/dist-packages/sklearn/model_selection/_split.py:667: UserWarning:\n",
            "\n",
            "The least populated class in y has only 3 members, which is less than n_splits=5.\n",
            "\n",
            "100%|██████████| 15/15 [05:48<00:00, 23.25s/it]\n",
            "100%|██████████| 15/15 [05:48<00:00, 23.24s/it]\n",
            "100%|██████████| 15/15 [05:48<00:00, 23.26s/it]\n",
            "100%|██████████| 15/15 [05:48<00:00, 23.25s/it]\n",
            "100%|██████████| 15/15 [05:48<00:00, 23.24s/it]\n",
            "[INFO 09-08 21:14:55] ax.service.managed_loop: Running optimization trial 21...\n"
          ]
        },
        {
          "metadata": {
            "tags": null
          },
          "name": "stdout",
          "output_type": "stream",
          "text": [
            "average accuracy = 0.8896804710879428\n"
          ]
        },
        {
          "metadata": {
            "tags": null
          },
          "name": "stderr",
          "output_type": "stream",
          "text": [
            "/usr/local/lib/python3.7/dist-packages/sklearn/model_selection/_split.py:667: UserWarning:\n",
            "\n",
            "The least populated class in y has only 3 members, which is less than n_splits=5.\n",
            "\n",
            "100%|██████████| 15/15 [06:14<00:00, 24.98s/it]\n",
            "100%|██████████| 15/15 [06:14<00:00, 24.98s/it]\n",
            "100%|██████████| 15/15 [06:14<00:00, 24.98s/it]\n",
            "100%|██████████| 15/15 [06:14<00:00, 24.99s/it]\n",
            "100%|██████████| 15/15 [06:14<00:00, 24.98s/it]\n",
            "[INFO 09-08 21:47:19] ax.service.managed_loop: Running optimization trial 22...\n"
          ]
        },
        {
          "metadata": {
            "tags": null
          },
          "name": "stdout",
          "output_type": "stream",
          "text": [
            "average accuracy = 0.8943706861183511\n"
          ]
        },
        {
          "output_type": "stream",
          "name": "stderr",
          "text": [
            "/usr/local/lib/python3.7/dist-packages/sklearn/model_selection/_split.py:667: UserWarning:\n",
            "\n",
            "The least populated class in y has only 3 members, which is less than n_splits=5.\n",
            "\n",
            "100%|██████████| 15/15 [06:10<00:00, 24.68s/it]\n",
            "100%|██████████| 15/15 [06:10<00:00, 24.69s/it]\n",
            "100%|██████████| 15/15 [06:10<00:00, 24.70s/it]\n",
            "100%|██████████| 15/15 [06:10<00:00, 24.68s/it]\n",
            "100%|██████████| 15/15 [06:10<00:00, 24.69s/it]\n",
            "[INFO 09-08 22:19:24] ax.service.managed_loop: Running optimization trial 23...\n"
          ]
        },
        {
          "output_type": "stream",
          "name": "stdout",
          "text": [
            "average accuracy = 0.8912446302731925\n"
          ]
        },
        {
          "output_type": "stream",
          "name": "stderr",
          "text": [
            "/usr/local/lib/python3.7/dist-packages/sklearn/model_selection/_split.py:667: UserWarning:\n",
            "\n",
            "The least populated class in y has only 3 members, which is less than n_splits=5.\n",
            "\n",
            "100%|██████████| 15/15 [05:48<00:00, 23.25s/it]\n",
            "100%|██████████| 15/15 [05:48<00:00, 23.27s/it]\n",
            "100%|██████████| 15/15 [05:48<00:00, 23.26s/it]\n",
            "100%|██████████| 15/15 [05:48<00:00, 23.26s/it]\n",
            "100%|██████████| 15/15 [05:46<00:00, 23.13s/it]\n",
            "[INFO 09-08 22:49:41] ax.service.managed_loop: Running optimization trial 24...\n"
          ]
        },
        {
          "output_type": "stream",
          "name": "stdout",
          "text": [
            "average accuracy = 0.6620735893908678\n"
          ]
        },
        {
          "output_type": "stream",
          "name": "stderr",
          "text": [
            "/usr/local/lib/python3.7/dist-packages/sklearn/model_selection/_split.py:667: UserWarning:\n",
            "\n",
            "The least populated class in y has only 3 members, which is less than n_splits=5.\n",
            "\n",
            "100%|██████████| 15/15 [06:06<00:00, 24.46s/it]\n",
            "100%|██████████| 15/15 [06:07<00:00, 24.47s/it]\n",
            "100%|██████████| 15/15 [06:07<00:00, 24.47s/it]\n",
            "100%|██████████| 15/15 [06:07<00:00, 24.47s/it]\n",
            "100%|██████████| 15/15 [06:07<00:00, 24.47s/it]\n",
            "[INFO 09-08 23:22:01] ax.service.managed_loop: Running optimization trial 25...\n"
          ]
        },
        {
          "output_type": "stream",
          "name": "stdout",
          "text": [
            "average accuracy = 0.8714386342793705\n"
          ]
        },
        {
          "output_type": "stream",
          "name": "stderr",
          "text": [
            "/usr/local/lib/python3.7/dist-packages/sklearn/model_selection/_split.py:667: UserWarning:\n",
            "\n",
            "The least populated class in y has only 3 members, which is less than n_splits=5.\n",
            "\n",
            "100%|██████████| 15/15 [06:09<00:00, 24.62s/it]\n",
            "100%|██████████| 15/15 [06:09<00:00, 24.62s/it]\n",
            "100%|██████████| 15/15 [06:09<00:00, 24.62s/it]\n",
            "100%|██████████| 15/15 [06:09<00:00, 24.62s/it]\n",
            "100%|██████████| 15/15 [06:09<00:00, 24.63s/it]\n"
          ]
        },
        {
          "output_type": "stream",
          "name": "stdout",
          "text": [
            "average accuracy = 0.8611880369726809\n"
          ]
        }
      ]
    },
    {
      "cell_type": "code",
      "metadata": {
        "colab": {
          "base_uri": "https://localhost:8080/"
        },
        "id": "mzNQZEQRUujC",
        "outputId": "3d1f52d9-7611-4833-938d-e1fce5d68452"
      },
      "source": [
        "print(best_parameters)\n",
        "means, covars = values\n",
        "print(means)\n",
        "print(covars)"
      ],
      "execution_count": 15,
      "outputs": [
        {
          "output_type": "stream",
          "name": "stdout",
          "text": [
            "{'lr': 0.007139755710616323, 'weight_decay': 1.2049296999405936e-06, 'batch_size': 42, 'momentum': 0.9551203454074805, 'step_size': 3, 'lr_gamma': 0.4965844948817707, 'loss_gamma': 3.550996627942822, 'num_epochs': 15, 'loss1_weight': 0.36443370589740265, 'loss2_weight': 0.32606099465323224, 'loss_beta': 0.999, 'loss_type': 'softmax'}\n",
            "{'accuracy': 0.8950714786582658}\n",
            "{'accuracy': {'accuracy': 6.355516232130471e-05}}\n"
          ]
        }
      ]
    },
    {
      "cell_type": "markdown",
      "metadata": {
        "id": "OEuE0Tm58ZpT"
      },
      "source": [
        "\n",
        "```\n",
        "{'lr': 0.007139755710616323, 'weight_decay': 1.2049296999405936e-06, 'batch_size': 42, 'momentum': 0.9551203454074805, 'step_size': 3, 'lr_gamma': 0.4965844948817707, 'loss_gamma': 3.550996627942822, 'num_epochs': 15, 'loss1_weight': 0.36443370589740265, 'loss2_weight': 0.32606099465323224, 'loss_beta': 0.999, 'loss_type': 'softmax'}\n",
        "{'accuracy': 0.8950714786582658}\n",
        "{'accuracy': {'accuracy': 6.355516232130471e-05}}\n",
        "```\n"
      ]
    },
    {
      "cell_type": "markdown",
      "metadata": {
        "id": "KFsBT0ggPmCl"
      },
      "source": [
        "## Plot ax results"
      ]
    },
    {
      "cell_type": "code",
      "metadata": {
        "id": "IC9-7yz3Prxh",
        "colab": {
          "base_uri": "https://localhost:8080/",
          "height": 992
        },
        "outputId": "cd0c5d85-f2f8-466a-9d83-101c2269ec77"
      },
      "source": [
        "best_objectives = np.array([[trial.objective_mean for trial in experiment.trials.values()]])\n",
        " \n",
        "best_objective_plot = optimization_trace_single_method(\n",
        "    y=np.maximum.accumulate(best_objectives, axis=1),\n",
        "    title=\"Model performance vs. # of iterations\",\n",
        "    ylabel=\"Accuracy, %\",\n",
        ")\n",
        "render(best_objective_plot)\n",
        " \n",
        "render(plot_contour(model=model, param_x='batch_size', param_y='lr', metric_name='accuracy'))"
      ],
      "execution_count": 16,
      "outputs": [
        {
          "output_type": "display_data",
          "data": {
            "text/html": [
              "<html>\n",
              "<head><meta charset=\"utf-8\" /></head>\n",
              "<body>\n",
              "    <div>\n",
              "            <script src=\"https://cdnjs.cloudflare.com/ajax/libs/mathjax/2.7.5/MathJax.js?config=TeX-AMS-MML_SVG\"></script><script type=\"text/javascript\">if (window.MathJax) {MathJax.Hub.Config({SVG: {font: \"STIX-Web\"}});}</script>\n",
              "                <script type=\"text/javascript\">window.PlotlyConfig = {MathJaxConfig: 'local'};</script>\n",
              "        <script src=\"https://cdn.plot.ly/plotly-latest.min.js\"></script>    \n",
              "            <div id=\"23627b1f-b3b8-4e88-9725-2674f7ade4af\" class=\"plotly-graph-div\" style=\"height:525px; width:100%;\"></div>\n",
              "            <script type=\"text/javascript\">\n",
              "                \n",
              "                    window.PLOTLYENV=window.PLOTLYENV || {};\n",
              "                    \n",
              "                if (document.getElementById(\"23627b1f-b3b8-4e88-9725-2674f7ade4af\")) {\n",
              "                    Plotly.newPlot(\n",
              "                        '23627b1f-b3b8-4e88-9725-2674f7ade4af',\n",
              "                        [{\"hoverinfo\": \"none\", \"legendgroup\": \"\", \"line\": {\"width\": 0}, \"mode\": \"lines\", \"showlegend\": false, \"type\": \"scatter\", \"x\": [1, 2, 3, 4, 5, 6, 7, 8, 9, 10, 11, 12, 13, 14, 15, 16, 17, 18, 19, 20, 21, 22, 23, 24, 25], \"y\": [0.3743954532290762, 0.580785578965151, 0.8210576250120669, 0.8210576250120669, 0.8210576250120669, 0.8756054517810599, 0.8756054517810599, 0.8756054517810599, 0.8756054517810599, 0.8756054517810599, 0.8756054517810599, 0.8756054517810599, 0.8848167957814461, 0.8848167957814461, 0.886899374939666, 0.886899374939666, 0.886899374939666, 0.886899374939666, 0.886899374939666, 0.8896804710879428, 0.8943706861183511, 0.8943706861183511, 0.8943706861183511, 0.8943706861183511, 0.8943706861183511]}, {\"fill\": \"tonexty\", \"fillcolor\": \"rgba(128,177,211,0.3)\", \"legendgroup\": \"objective value\", \"line\": {\"color\": \"rgba(128,177,211,1)\"}, \"mode\": \"lines\", \"name\": \"objective value\", \"type\": \"scatter\", \"x\": [1, 2, 3, 4, 5, 6, 7, 8, 9, 10, 11, 12, 13, 14, 15, 16, 17, 18, 19, 20, 21, 22, 23, 24, 25], \"y\": [0.3743954532290762, 0.580785578965151, 0.8210576250120669, 0.8210576250120669, 0.8210576250120669, 0.8756054517810599, 0.8756054517810599, 0.8756054517810599, 0.8756054517810599, 0.8756054517810599, 0.8756054517810599, 0.8756054517810599, 0.8848167957814461, 0.8848167957814461, 0.886899374939666, 0.886899374939666, 0.886899374939666, 0.886899374939666, 0.886899374939666, 0.8896804710879428, 0.8943706861183511, 0.8943706861183511, 0.8943706861183511, 0.8943706861183511, 0.8943706861183511]}, {\"fill\": \"tonexty\", \"fillcolor\": \"rgba(128,177,211,0.3)\", \"hoverinfo\": \"none\", \"legendgroup\": \"\", \"line\": {\"width\": 0}, \"mode\": \"lines\", \"showlegend\": false, \"type\": \"scatter\", \"x\": [1, 2, 3, 4, 5, 6, 7, 8, 9, 10, 11, 12, 13, 14, 15, 16, 17, 18, 19, 20, 21, 22, 23, 24, 25], \"y\": [0.3743954532290762, 0.580785578965151, 0.8210576250120669, 0.8210576250120669, 0.8210576250120669, 0.8756054517810599, 0.8756054517810599, 0.8756054517810599, 0.8756054517810599, 0.8756054517810599, 0.8756054517810599, 0.8756054517810599, 0.8848167957814461, 0.8848167957814461, 0.886899374939666, 0.886899374939666, 0.886899374939666, 0.886899374939666, 0.886899374939666, 0.8896804710879428, 0.8943706861183511, 0.8943706861183511, 0.8943706861183511, 0.8943706861183511, 0.8943706861183511]}],\n",
              "                        {\"showlegend\": true, \"template\": {\"data\": {\"bar\": [{\"error_x\": {\"color\": \"#2a3f5f\"}, \"error_y\": {\"color\": \"#2a3f5f\"}, \"marker\": {\"line\": {\"color\": \"#E5ECF6\", \"width\": 0.5}}, \"type\": \"bar\"}], \"barpolar\": [{\"marker\": {\"line\": {\"color\": \"#E5ECF6\", \"width\": 0.5}}, \"type\": \"barpolar\"}], \"carpet\": [{\"aaxis\": {\"endlinecolor\": \"#2a3f5f\", \"gridcolor\": \"white\", \"linecolor\": \"white\", \"minorgridcolor\": \"white\", \"startlinecolor\": \"#2a3f5f\"}, \"baxis\": {\"endlinecolor\": \"#2a3f5f\", \"gridcolor\": \"white\", \"linecolor\": \"white\", \"minorgridcolor\": \"white\", \"startlinecolor\": \"#2a3f5f\"}, \"type\": \"carpet\"}], \"choropleth\": [{\"colorbar\": {\"outlinewidth\": 0, \"ticks\": \"\"}, \"type\": \"choropleth\"}], \"contour\": [{\"colorbar\": {\"outlinewidth\": 0, \"ticks\": \"\"}, \"colorscale\": [[0.0, \"#0d0887\"], [0.1111111111111111, \"#46039f\"], [0.2222222222222222, \"#7201a8\"], [0.3333333333333333, \"#9c179e\"], [0.4444444444444444, \"#bd3786\"], [0.5555555555555556, \"#d8576b\"], [0.6666666666666666, \"#ed7953\"], [0.7777777777777778, \"#fb9f3a\"], [0.8888888888888888, \"#fdca26\"], [1.0, \"#f0f921\"]], \"type\": \"contour\"}], \"contourcarpet\": [{\"colorbar\": {\"outlinewidth\": 0, \"ticks\": \"\"}, \"type\": \"contourcarpet\"}], \"heatmap\": [{\"colorbar\": {\"outlinewidth\": 0, \"ticks\": \"\"}, \"colorscale\": [[0.0, \"#0d0887\"], [0.1111111111111111, \"#46039f\"], [0.2222222222222222, \"#7201a8\"], [0.3333333333333333, \"#9c179e\"], [0.4444444444444444, \"#bd3786\"], [0.5555555555555556, \"#d8576b\"], [0.6666666666666666, \"#ed7953\"], [0.7777777777777778, \"#fb9f3a\"], [0.8888888888888888, \"#fdca26\"], [1.0, \"#f0f921\"]], \"type\": \"heatmap\"}], \"heatmapgl\": [{\"colorbar\": {\"outlinewidth\": 0, \"ticks\": \"\"}, \"colorscale\": [[0.0, \"#0d0887\"], [0.1111111111111111, \"#46039f\"], [0.2222222222222222, \"#7201a8\"], [0.3333333333333333, \"#9c179e\"], [0.4444444444444444, \"#bd3786\"], [0.5555555555555556, \"#d8576b\"], [0.6666666666666666, \"#ed7953\"], [0.7777777777777778, \"#fb9f3a\"], [0.8888888888888888, \"#fdca26\"], [1.0, \"#f0f921\"]], \"type\": \"heatmapgl\"}], \"histogram\": [{\"marker\": {\"colorbar\": {\"outlinewidth\": 0, \"ticks\": \"\"}}, \"type\": \"histogram\"}], \"histogram2d\": [{\"colorbar\": {\"outlinewidth\": 0, \"ticks\": \"\"}, \"colorscale\": [[0.0, \"#0d0887\"], [0.1111111111111111, \"#46039f\"], [0.2222222222222222, \"#7201a8\"], [0.3333333333333333, \"#9c179e\"], [0.4444444444444444, \"#bd3786\"], [0.5555555555555556, \"#d8576b\"], [0.6666666666666666, \"#ed7953\"], [0.7777777777777778, \"#fb9f3a\"], [0.8888888888888888, \"#fdca26\"], [1.0, \"#f0f921\"]], \"type\": \"histogram2d\"}], \"histogram2dcontour\": [{\"colorbar\": {\"outlinewidth\": 0, \"ticks\": \"\"}, \"colorscale\": [[0.0, \"#0d0887\"], [0.1111111111111111, \"#46039f\"], [0.2222222222222222, \"#7201a8\"], [0.3333333333333333, \"#9c179e\"], [0.4444444444444444, \"#bd3786\"], [0.5555555555555556, \"#d8576b\"], [0.6666666666666666, \"#ed7953\"], [0.7777777777777778, \"#fb9f3a\"], [0.8888888888888888, \"#fdca26\"], [1.0, \"#f0f921\"]], \"type\": \"histogram2dcontour\"}], \"mesh3d\": [{\"colorbar\": {\"outlinewidth\": 0, \"ticks\": \"\"}, \"type\": \"mesh3d\"}], \"parcoords\": [{\"line\": {\"colorbar\": {\"outlinewidth\": 0, \"ticks\": \"\"}}, \"type\": \"parcoords\"}], \"pie\": [{\"automargin\": true, \"type\": \"pie\"}], \"scatter\": [{\"marker\": {\"colorbar\": {\"outlinewidth\": 0, \"ticks\": \"\"}}, \"type\": \"scatter\"}], \"scatter3d\": [{\"line\": {\"colorbar\": {\"outlinewidth\": 0, \"ticks\": \"\"}}, \"marker\": {\"colorbar\": {\"outlinewidth\": 0, \"ticks\": \"\"}}, \"type\": \"scatter3d\"}], \"scattercarpet\": [{\"marker\": {\"colorbar\": {\"outlinewidth\": 0, \"ticks\": \"\"}}, \"type\": \"scattercarpet\"}], \"scattergeo\": [{\"marker\": {\"colorbar\": {\"outlinewidth\": 0, \"ticks\": \"\"}}, \"type\": \"scattergeo\"}], \"scattergl\": [{\"marker\": {\"colorbar\": {\"outlinewidth\": 0, \"ticks\": \"\"}}, \"type\": \"scattergl\"}], \"scattermapbox\": [{\"marker\": {\"colorbar\": {\"outlinewidth\": 0, \"ticks\": \"\"}}, \"type\": \"scattermapbox\"}], \"scatterpolar\": [{\"marker\": {\"colorbar\": {\"outlinewidth\": 0, \"ticks\": \"\"}}, \"type\": \"scatterpolar\"}], \"scatterpolargl\": [{\"marker\": {\"colorbar\": {\"outlinewidth\": 0, \"ticks\": \"\"}}, \"type\": \"scatterpolargl\"}], \"scatterternary\": [{\"marker\": {\"colorbar\": {\"outlinewidth\": 0, \"ticks\": \"\"}}, \"type\": \"scatterternary\"}], \"surface\": [{\"colorbar\": {\"outlinewidth\": 0, \"ticks\": \"\"}, \"colorscale\": [[0.0, \"#0d0887\"], [0.1111111111111111, \"#46039f\"], [0.2222222222222222, \"#7201a8\"], [0.3333333333333333, \"#9c179e\"], [0.4444444444444444, \"#bd3786\"], [0.5555555555555556, \"#d8576b\"], [0.6666666666666666, \"#ed7953\"], [0.7777777777777778, \"#fb9f3a\"], [0.8888888888888888, \"#fdca26\"], [1.0, \"#f0f921\"]], \"type\": \"surface\"}], \"table\": [{\"cells\": {\"fill\": {\"color\": \"#EBF0F8\"}, \"line\": {\"color\": \"white\"}}, \"header\": {\"fill\": {\"color\": \"#C8D4E3\"}, \"line\": {\"color\": \"white\"}}, \"type\": \"table\"}]}, \"layout\": {\"annotationdefaults\": {\"arrowcolor\": \"#2a3f5f\", \"arrowhead\": 0, \"arrowwidth\": 1}, \"coloraxis\": {\"colorbar\": {\"outlinewidth\": 0, \"ticks\": \"\"}}, \"colorscale\": {\"diverging\": [[0, \"#8e0152\"], [0.1, \"#c51b7d\"], [0.2, \"#de77ae\"], [0.3, \"#f1b6da\"], [0.4, \"#fde0ef\"], [0.5, \"#f7f7f7\"], [0.6, \"#e6f5d0\"], [0.7, \"#b8e186\"], [0.8, \"#7fbc41\"], [0.9, \"#4d9221\"], [1, \"#276419\"]], \"sequential\": [[0.0, \"#0d0887\"], [0.1111111111111111, \"#46039f\"], [0.2222222222222222, \"#7201a8\"], [0.3333333333333333, \"#9c179e\"], [0.4444444444444444, \"#bd3786\"], [0.5555555555555556, \"#d8576b\"], [0.6666666666666666, \"#ed7953\"], [0.7777777777777778, \"#fb9f3a\"], [0.8888888888888888, \"#fdca26\"], [1.0, \"#f0f921\"]], \"sequentialminus\": [[0.0, \"#0d0887\"], [0.1111111111111111, \"#46039f\"], [0.2222222222222222, \"#7201a8\"], [0.3333333333333333, \"#9c179e\"], [0.4444444444444444, \"#bd3786\"], [0.5555555555555556, \"#d8576b\"], [0.6666666666666666, \"#ed7953\"], [0.7777777777777778, \"#fb9f3a\"], [0.8888888888888888, \"#fdca26\"], [1.0, \"#f0f921\"]]}, \"colorway\": [\"#636efa\", \"#EF553B\", \"#00cc96\", \"#ab63fa\", \"#FFA15A\", \"#19d3f3\", \"#FF6692\", \"#B6E880\", \"#FF97FF\", \"#FECB52\"], \"font\": {\"color\": \"#2a3f5f\"}, \"geo\": {\"bgcolor\": \"white\", \"lakecolor\": \"white\", \"landcolor\": \"#E5ECF6\", \"showlakes\": true, \"showland\": true, \"subunitcolor\": \"white\"}, \"hoverlabel\": {\"align\": \"left\"}, \"hovermode\": \"closest\", \"mapbox\": {\"style\": \"light\"}, \"paper_bgcolor\": \"white\", \"plot_bgcolor\": \"#E5ECF6\", \"polar\": {\"angularaxis\": {\"gridcolor\": \"white\", \"linecolor\": \"white\", \"ticks\": \"\"}, \"bgcolor\": \"#E5ECF6\", \"radialaxis\": {\"gridcolor\": \"white\", \"linecolor\": \"white\", \"ticks\": \"\"}}, \"scene\": {\"xaxis\": {\"backgroundcolor\": \"#E5ECF6\", \"gridcolor\": \"white\", \"gridwidth\": 2, \"linecolor\": \"white\", \"showbackground\": true, \"ticks\": \"\", \"zerolinecolor\": \"white\"}, \"yaxis\": {\"backgroundcolor\": \"#E5ECF6\", \"gridcolor\": \"white\", \"gridwidth\": 2, \"linecolor\": \"white\", \"showbackground\": true, \"ticks\": \"\", \"zerolinecolor\": \"white\"}, \"zaxis\": {\"backgroundcolor\": \"#E5ECF6\", \"gridcolor\": \"white\", \"gridwidth\": 2, \"linecolor\": \"white\", \"showbackground\": true, \"ticks\": \"\", \"zerolinecolor\": \"white\"}}, \"shapedefaults\": {\"line\": {\"color\": \"#2a3f5f\"}}, \"ternary\": {\"aaxis\": {\"gridcolor\": \"white\", \"linecolor\": \"white\", \"ticks\": \"\"}, \"baxis\": {\"gridcolor\": \"white\", \"linecolor\": \"white\", \"ticks\": \"\"}, \"bgcolor\": \"#E5ECF6\", \"caxis\": {\"gridcolor\": \"white\", \"linecolor\": \"white\", \"ticks\": \"\"}}, \"title\": {\"x\": 0.05}, \"xaxis\": {\"automargin\": true, \"gridcolor\": \"white\", \"linecolor\": \"white\", \"ticks\": \"\", \"title\": {\"standoff\": 15}, \"zerolinecolor\": \"white\", \"zerolinewidth\": 2}, \"yaxis\": {\"automargin\": true, \"gridcolor\": \"white\", \"linecolor\": \"white\", \"ticks\": \"\", \"title\": {\"standoff\": 15}, \"zerolinecolor\": \"white\", \"zerolinewidth\": 2}}}, \"title\": {\"text\": \"Model performance vs. # of iterations\"}, \"xaxis\": {\"title\": {\"text\": \"Iteration\"}}, \"yaxis\": {\"title\": {\"text\": \"Accuracy, %\"}}},\n",
              "                        {\"responsive\": true}\n",
              "                    ).then(function(){\n",
              "                            \n",
              "var gd = document.getElementById('23627b1f-b3b8-4e88-9725-2674f7ade4af');\n",
              "var x = new MutationObserver(function (mutations, observer) {{\n",
              "        var display = window.getComputedStyle(gd).display;\n",
              "        if (!display || display === 'none') {{\n",
              "            console.log([gd, 'removed!']);\n",
              "            Plotly.purge(gd);\n",
              "            observer.disconnect();\n",
              "        }}\n",
              "}});\n",
              "\n",
              "// Listen for the removal of the full notebook cells\n",
              "var notebookContainer = gd.closest('#notebook-container');\n",
              "if (notebookContainer) {{\n",
              "    x.observe(notebookContainer, {childList: true});\n",
              "}}\n",
              "\n",
              "// Listen for the clearing of the current output cell\n",
              "var outputEl = gd.closest('.output');\n",
              "if (outputEl) {{\n",
              "    x.observe(outputEl, {childList: true});\n",
              "}}\n",
              "\n",
              "                        })\n",
              "                };\n",
              "                \n",
              "            </script>\n",
              "        </div>\n",
              "</body>\n",
              "</html>"
            ]
          },
          "metadata": {}
        },
        {
          "output_type": "display_data",
          "data": {
            "text/html": [
              "<html>\n",
              "<head><meta charset=\"utf-8\" /></head>\n",
              "<body>\n",
              "    <div>\n",
              "            <script src=\"https://cdnjs.cloudflare.com/ajax/libs/mathjax/2.7.5/MathJax.js?config=TeX-AMS-MML_SVG\"></script><script type=\"text/javascript\">if (window.MathJax) {MathJax.Hub.Config({SVG: {font: \"STIX-Web\"}});}</script>\n",
              "                <script type=\"text/javascript\">window.PlotlyConfig = {MathJaxConfig: 'local'};</script>\n",
              "        <script src=\"https://cdn.plot.ly/plotly-latest.min.js\"></script>    \n",
              "            <div id=\"47cda26f-8ed0-442a-855a-77ae797cc425\" class=\"plotly-graph-div\" style=\"height:450px; width:950px;\"></div>\n",
              "            <script type=\"text/javascript\">\n",
              "                \n",
              "                    window.PLOTLYENV=window.PLOTLYENV || {};\n",
              "                    \n",
              "                if (document.getElementById(\"47cda26f-8ed0-442a-855a-77ae797cc425\")) {\n",
              "                    Plotly.newPlot(\n",
              "                        '47cda26f-8ed0-442a-855a-77ae797cc425',\n",
              "                        [{\"autocolorscale\": false, \"autocontour\": true, \"colorbar\": {\"tickfont\": {\"size\": 8}, \"ticksuffix\": \"\", \"x\": 0.45, \"y\": 0.5}, \"colorscale\": [[0.0, \"rgb(247,252,253)\"], [0.125, \"rgb(229,245,249)\"], [0.25, \"rgb(204,236,230)\"], [0.375, \"rgb(153,216,201)\"], [0.5, \"rgb(102,194,164)\"], [0.625, \"rgb(65,174,118)\"], [0.75, \"rgb(35,139,69)\"], [0.875, \"rgb(0,109,44)\"], [1.0, \"rgb(0,68,27)\"]], \"contours\": {\"coloring\": \"heatmap\"}, \"hoverinfo\": \"x+y+z\", \"ncontours\": 25, \"type\": \"contour\", \"x\": [4.0, 5.224489795918368, 6.448979591836735, 7.673469387755102, 8.89795918367347, 10.122448979591837, 11.346938775510203, 12.571428571428571, 13.795918367346939, 15.020408163265307, 16.244897959183675, 17.46938775510204, 18.693877551020407, 19.918367346938776, 21.142857142857142, 22.367346938775512, 23.591836734693878, 24.816326530612244, 26.040816326530614, 27.26530612244898, 28.48979591836735, 29.714285714285715, 30.93877551020408, 32.163265306122454, 33.38775510204081, 34.61224489795919, 35.83673469387755, 37.06122448979592, 38.285714285714285, 39.51020408163265, 40.734693877551024, 41.95918367346939, 43.183673469387756, 44.40816326530612, 45.63265306122449, 46.85714285714286, 48.08163265306123, 49.30612244897959, 50.53061224489796, 51.755102040816325, 52.9795918367347, 54.204081632653065, 55.42857142857143, 56.6530612244898, 57.87755102040816, 59.10204081632653, 60.3265306122449, 61.55102040816327, 62.775510204081634, 64.0], \"xaxis\": \"x\", \"y\": [1e-08, 1.3894954943731388e-08, 1.9306977288832496e-08, 2.682695795279727e-08, 3.7275937203149377e-08, 5.1794746792312124e-08, 7.196856730011513e-08, 1e-07, 1.389495494373136e-07, 1.9306977288832497e-07, 2.6826957952797275e-07, 3.727593720314938e-07, 5.179474679231213e-07, 7.196856730011514e-07, 1e-06, 1.389495494373136e-06, 1.9306977288832498e-06, 2.6826957952797274e-06, 3.727593720314938e-06, 5.179474679231202e-06, 7.196856730011514e-06, 1e-05, 1.3894954943731361e-05, 1.9306977288832496e-05, 2.6826957952797274e-05, 3.727593720314938e-05, 5.179474679231202e-05, 7.196856730011514e-05, 0.0001, 0.0001389495494373136, 0.00019306977288832496, 0.0002682695795279722, 0.0003727593720314938, 0.0005179474679231213, 0.0007196856730011514, 0.001, 0.001389495494373136, 0.0019306977288832496, 0.002682695795279722, 0.003727593720314938, 0.005179474679231202, 0.007196856730011514, 0.01, 0.01389495494373136, 0.019306977288832496, 0.026826957952797218, 0.03727593720314938, 0.05179474679231202, 0.07196856730011514, 0.1], \"yaxis\": \"y\", \"z\": [[0.4297485640096341, 0.4297438432681691, 0.42973914814033914, 0.42973448567147565, 0.4297298630532691, 0.4297252876087305, 0.4297207667760764, 0.4297163080915547, 0.42971191917123774, 0.4297076076918147, 0.4297033813704245, 0.4296992479435767, 0.42969521514521825, 0.4296912906840098, 0.42968748221988723, 0.4296837973399873, 0.4296802435340312, 0.4296768281692622, 0.4296735584650452, 0.429670441467242, 0.42966748402248395, 0.42966469275246943, 0.4296620740284198, 0.4296596339458332, 0.42965737829967743, 0.42965531256016964, 0.4296534418492889, 0.4296517709181713, 0.4296503041255354, 0.4296490454172838, 0.42964799830742556, 0.42964716586045615, 0.4296465506753294, 0.4296461548711468, 0.42964598007468024, 0.42964602740983593, 0.4296462974891556, 0.42964679040743825, 0.4296475057375524, 0.42964844252849504, 0.4296495993057391, 0.42965097407389224, 0.429652564321678, 0.4296543670292302, 0.4296563786776773, 0.42965859526097366, 0.4296610122999218, 0.429663624858311, 0.4296664275610826, 0.42966941461441815], [0.42972517115846687, 0.42971967922593934, 0.429714205278636, 0.42970875742579095, 0.42970334398675913, 0.42969797347459193, 0.4296926545781491, 0.4296873961427553, 0.42968220714941946, 0.4296770966926465, 0.42967207395687845, 0.4296671481916175, 0.42966232868529153, 0.429657624737936, 0.4296530456327786, 0.4296486006068241, 0.4296442988205497, 0.4296401493268335, 0.4296361610392481, 0.4296323426998665, 0.4296287028467338, 0.429625249781171, 0.4296219915350835, 0.42961893583845834, 0.42961609008723556, 0.42961346131174927, 0.4296110561459344, 0.4296088807974981, 0.42960694101925523, 0.4296052420818264, 0.4296037887478915, 0.42960258524818984, 0.4296016352594467, 0.4296009418844018, 0.42960050763409907, 0.4296003344125894, 0.4296004235041798, 0.4296007755633482, 0.42960139060742497, 0.4296022680121247, 0.4296034065099892, 0.42960480419178504, 0.42960645851087476, 0.4296083662905609, 0.4296105237343779, 0.4296129264392866, 0.42961556941170204, 0.42961844708626606, 0.4296215533472536, 0.429624881552482], [0.42970830714537755, 0.42970217979084496, 0.4296960611770392, 0.42968996025731165, 0.4296838862577152, 0.42967784865976394, 0.42967185718135725, 0.42966592175586427, 0.42966005250937866, 0.4296542597361659, 0.4296485538723384, 0.4296429454678087, 0.4296374451565852, 0.4296320636254917, 0.42962681158140525, 0.4296216997171245, 0.4296167386759963, 0.42961193901544337, 0.42960731116955053, 0.42960286541088416, 0.4295986118117301, 0.42959456020495124, 0.42959072014467625, 0.42958710086704116, 0.4295837112512163, 0.42958055978095583, 0.4295776545069151, 0.4295750030099813, 0.4295726123658677, 0.429570489111217, 0.42956863921145827, 0.42956706803065603, 0.4295657803035789, 0.4295647801102095, 0.4295640708528987, 0.42956365523635687, 0.4295635352506534, 0.42956371215737854, 0.4295641864791003, 0.4295649579922232, 0.4295660257233359, 0.429567387949104, 0.42956904219974246, 0.42957098526607074, 0.42957321321013, 0.42957572137931066, 0.42957850442391554, 0.42958155631805267, 0.4295848703837303, 0.4295884393179994], [0.4296998208793361, 0.42969327301958593, 0.42968672454523454, 0.42968018493120147, 0.42967366397697093, 0.4296671717891388, 0.4296607187618232, 0.42965431555492406, 0.42964797307023417, 0.42964170242541533, 0.42963551492587115, 0.42962942203456633, 0.4296234353398565, 0.42961756652141336, 0.4296118273143483, 0.4296062294716544, 0.4296007847251078, 0.42959550474478725, 0.429590401097388, 0.42958548520352535, 0.42958076829423864, 0.42957626136692295, 0.4295719751409297, 0.4295679200130898, 0.4295641060134252, 0.42956054276132194, 0.42955723942244617, 0.42955420466668764, 0.42955144662741856, 0.42954897286235294, 0.4295467903162903, 0.42954490528601974, 0.42954332338765155, 0.429542049526632, 0.4295410878706818, 0.42954044182588236, 0.42954011401611225, 0.4295401062660154, 0.4295404195876591, 0.42954105417100996, 0.42954200937833265, 0.4295432837425829, 0.4295448749698383, 0.42954677994577795, 0.4295489947461919, 0.4295515146514674, 0.4295543341649708, 0.42955744703521115, 0.4295608462816436, 0.42956452422394087], [0.4297006367348192, 0.4296939384991884, 0.42968723171438816, 0.42968052598833617, 0.4296738312862522, 0.42966715791355403, 0.4296605164964396, 0.42965391796013175, 0.42964737350478155, 0.42964089457903876, 0.4296344928513188, 0.429628180178811, 0.4296219685742933, 0.4296158701708408, 0.42960989718452985, 0.4296040618752667, 0.4295983765058849, 0.42959285329967933, 0.4295875043965634, 0.42958234180805455, 0.42957737737131363, 0.42957262270247865, 0.42956808914955036, 0.4295637877451014, 0.4295597291590919, 0.42955592365208506, 0.42955238102916404, 0.42954911059485534, 0.4295461211093681, 0.429543420746456, 0.4295410170532076, 0.4295389169120605, 0.42953712650533066, 0.4295356512825307, 0.4295344959307371, 0.4295336643482506, 0.4295331596217674, 0.4295329840072617, 0.42953313891474754, 0.4295336248970663, 0.42953444164281074, 0.42953558797346914, 0.4295370618448391, 0.42953886035272715, 0.4295409797429174, 0.4295434154253592, 0.42954616199248863, 0.42954921324156903, 0.4295525622009021, 0.42955620115973137], [0.4297105055035185, 0.4297039432790218, 0.4296973671038088, 0.42969078631823215, 0.4296842106287959, 0.4296776500918795, 0.4296711150951169, 0.42966461633640707, 0.42965816480054697, 0.42965177173349495, 0.4296454486142889, 0.42963920712466475, 0.42963305911643823, 0.4296270165767325, 0.4296210915911574, 0.42961529630506323, 0.4296096428830154, 0.4296041434666563, 0.42959881013113943, 0.4295936548403415, 0.42958868940107825, 0.4295839254165618, 0.4295793742393606, 0.42957504692412973, 0.42957095418039776, 0.4295671063257014, 0.4295635132393708, 0.4295601843172704, 0.4295571284278048, 0.42955435386949686, 0.4295518683304441, 0.42954967884994977, 0.4295477917826193, 0.42954621276519744, 0.4295449466864076, 0.4295439976600357, 0.429543369001482, 0.42954306320797697, 0.42954308194263635, 0.4295434260224994, 0.42954409541066485, 0.42954508921261125, 0.4295464056767518, 0.4295480421992446, 0.4295499953330435, 0.42955226080114306, 0.4295548335139371, 0.42955770759057843, 0.4295608763841967, 0.4295643325108004], [0.42972799366202896, 0.4297218252886893, 0.4297156405003682, 0.42970944801689104, 0.42970325690950095, 0.4296970765857818, 0.42969091677235205, 0.42968478749530703, 0.4296786990584017, 0.42967266201898224, 0.42966668716169004, 0.42966078546998204, 0.42965496809552606, 0.4296492463255524, 0.42964363154825974, 0.4296381352163931, 0.42963276880913237, 0.4296275437924477, 0.4296224715780981, 0.4296175634814654, 0.429612830678437, 0.42960828416156205, 0.42960393469572433, 0.4295997927735853, 0.4295958685710646, 0.4295921719031319, 0.42958871218019357, 0.4295854983653588, 0.42958253893287696, 0.42957984182803155, 0.4295774144287775, 0.42957526350940045, 0.4295733952064665, 0.4295718149873238, 0.429570527621397, 0.42956953715450386, 0.4295688468863998, 0.42956845935173893, 0.42956837630461053, 0.4295685987067899, 0.4295691267198106, 0.42956995970093986, 0.4295710962031062, 0.4295725339788004, 0.42957426998793846, 0.42957630040964495, 0.4295786206578849, 0.42958122540084176, 0.42958410858391083, 0.42958726345615006], [0.4297507378037515, 0.4297451539038498, 0.4297395537416312, 0.42973394516166563, 0.4297283363266915, 0.4297227357039909, 0.4297171520497647, 0.42971159439148776, 0.4297060720082406, 0.4297005944090282, 0.4296951713091085, 0.4296898126043739, 0.4296845283438403, 0.429679328700318, 0.42967422393935517, 0.42966922438656047, 0.4296643403934304, 0.42965958230182166, 0.4296549604072274, 0.42965048492102953, 0.4296461659319164, 0.4296420133666675, 0.4296380369505199, 0.4296342461673427, 0.4296306502198548, 0.42962725799012946, 0.429624078000634, 0.4296211183760591, 0.42961838680619024, 0.429615890510076, 0.42961363620174375, 0.42961163005770775, 0.4296098776865057, 0.4296083841004924, 0.4296071536901032, 0.4296061902007868, 0.42960549671279014, 0.4296050756239581, 0.4296049286356909, 0.4296050567421777, 0.42960546022300505, 0.4296061386392088, 0.429607090832816, 0.4296083149298954, 0.4296098083471084, 0.4296115678017257, 0.4296135893250488, 0.429615868279147, 0.4296183993768009, 0.42962117670451233], [0.42977590744728766, 0.4297710091677958, 0.4297660965863733, 0.42976117654485635, 0.42975625615947327, 0.42975134280879745, 0.4297464441199864, 0.42974156795329665, 0.4297367223848739, 0.42973191568783103, 0.429727156311639, 0.4297224528598691, 0.42971781406633813, 0.42971324876972267, 0.42970876588672213, 0.42970437438386605, 0.4297000832480722, 0.42969590145607933, 0.4296918379428897, 0.42968790156936965, 0.42968410108916943, 0.4296804451151338, 0.4296769420853862, 0.42967360022927614, 0.4296704275333907, 0.4296674317078323, 0.42966462015297446, 0.42966199992690624, 0.429659577713778, 0.42965735979326203, 0.4296553520113358, 0.4296535597525931, 0.4296519879142803, 0.4296506408822457, 0.42964952250898236, 0.4296486360939278, 0.4296479843661729, 0.4296475694697165, 0.42964739295138277, 0.4296474557515023, 0.4296477581974364, 0.4296483000000043, 0.4296490802528519, 0.42965009743477744, 0.42965134941500926, 0.42965283346140726, 0.42965454625153854, 0.4296564838865564, 0.429658641907789, 0.4296610153159289], [0.4298007521967615, 0.4297965501389144, 0.42979233660544486, 0.4297881174360887, 0.42978389869904793, 0.4297796866805035, 0.4297754878727089, 0.42977130896066185, 0.42976715680735594, 0.42976303843762903, 0.4297589610206312, 0.4297549318509494, 0.429750958328434, 0.42974704793678653, 0.4297432082209767, 0.42973944676357057, 0.42973577116006, 0.42973218899329846, 0.42972870780715466, 0.4297253350795086, 0.4297220781947222, 0.4297189444157272, 0.4297159408558796, 0.42971307445073526, 0.4297103519299119, 0.4297077797892015, 0.4297053642631036, 0.4297031112979519, 0.42970102652580605, 0.4296991152392785, 0.4296973823674667, 0.4296958324531532, 0.42969446963143376, 0.42969329760992386, 0.4296923196506863, 0.42969153855401376, 0.42969095664418494, 0.42969057575730646, 0.42969039723133107, 0.4296904218983351, 0.42969065007911744, 0.4296910815801683, 0.42969171569303843, 0.42969255119612204, 0.42969358635884847, 0.4296948189482618, 0.42969624623794855, 0.429697865019257, 0.4296996716147356, 0.4297016618937012], [0.4298230874258643, 0.42981951975383503, 0.42981594354044256, 0.4298123637264204, 0.4298087854394248, 0.4298052139849572, 0.42980165483613053, 0.4297981136222786, 0.4297945961164149, 0.4297911082215583, 0.4297876559559479, 0.42978424543718124, 0.4297808828653152, 0.4297775745049828, 0.4297743266665828, 0.42977114568661223, 0.42976803790721807, 0.42976500965505365, 0.4297620672195349, 0.42975921683059654, 0.42975646463605766, 0.4297538166787131, 0.42975127887327025, 0.42974885698325926, 0.42974655659804656, 0.42974438311008534, 0.4297423416925402, 0.42974043727742156, 0.4297386745343684, 0.4297370578502149, 0.4297355913094737, 0.4297342786758678, 0.4297331233750349, 0.4297321284785234, 0.4297312966891944, 0.42973063032813164, 0.4297301313231555, 0.4297298011990265, 0.42972964106941114, 0.42972965163067334, 0.4297298331575403, 0.4297301855006803, 0.42973070808621644, 0.42973139991718456, 0.42973225957693295, 0.42973328523444615, 0.42973447465155984, 0.42973582519202447, 0.429737333832358, 0.42973899717441827], [0.42984160233936985, 0.42983856477064164, 0.4298355212976797, 0.4298324761245429, 0.42982943360850684, 0.429826398252157, 0.42982337469452936, 0.4298203677013034, 0.4298173821540554, 0.42981442303858947, 0.42981149543236696, 0.4298086044910666, 0.42980575543431077, 0.42980295353060194, 0.4298002040815229, 0.429797512405257, 0.42979488381949477, 0.4297923236238005, 0.42978983708151514, 0.4297874294012829, 0.4297851057182893, 0.4297828710753091, 0.42978073040366027, 0.4297786885041721, 0.42977675002826976, 0.42977491945928775, 0.42977320109412065, 0.4297715990253233, 0.42977011712377033, 0.42976875902198497, 0.42976752809824437, 0.42976642746156524, 0.4297654599376696, 0.4297646280560268, 0.4297639340380592, 0.4297633797865956, 0.42976296687664656, 0.42976269654756727, 0.4297625696966685, 0.42976258687432034, 0.42976274828059025, 0.42976305376344104, 0.4297635028185068, 0.4297640945904539, 0.42976482787592063, 0.42976570112802176, 0.42976671246238973, 0.4297678596647172, 0.4297691401997518, 0.4297705512216877], [0.42985593871039945, 0.42985331692388296, 0.4298506915196927, 0.4298480661388481, 0.4298454445500456, 0.42984283064265116, 0.42984022841888947, 0.4298376419852359, 0.42983507554302086, 0.42983253337826244, 0.4298300198507482, 0.42982753938239515, 0.42982509644492006, 0.4298226955468608, 0.4298203412199938, 0.42981803800519935, 0.42981579043783247, 0.42981360303266136, 0.42981148026844285, 0.4298094265722061, 0.42980744630332346, 0.42980554373744995, 0.42980372305041503, 0.429801988302156, 0.429800343420783, 0.4297987921868661, 0.42979733821803934, 0.4297959849540127, 0.4297947356420857, 0.4297935933232529, 0.4297925608189902, 0.42979164071880804, 0.42979083536865414, 0.42979014686024264, 0.42978957702138365, 0.4297891274073786, 0.4297887992935435, 0.42978859366891187, 0.42978851123116446, 0.4297885523828229, 0.42978871722873657, 0.4297890055748842, 0.42978941692850114, 0.4297899504995353, 0.42979060520342605, 0.42979137966518943, 0.42979227222478644, 0.4297932809437408, 0.42979440361296484, 0.4297956377617435], [0.4298665610024699, 0.4298642570616399, 0.42986195160874097, 0.429859647866668, 0.42985734916668217, 0.42985505894207443, 0.429852780721133, 0.4298505181194203, 0.4298482748313696, 0.4298460546212165, 0.429843861313286, 0.42984169878166073, 0.4298395709392612, 0.42983748172637404, 0.4298354350986706, 0.42983343501476157, 0.4298314854233394, 0.42982959024996525, 0.4298277533835614, 0.4298259786626724, 0.42982426986156685, 0.4298226306762485, 0.42982106471045356, 0.4298195754617123, 0.429818166307551, 0.42981684049191793, 0.4298156011119125, 0.429814451104898, 0.429813393236079, 0.4298124300866217, 0.4298115640423933, 0.4298107972833942, 0.4298101317739538, 0.42980956925375474, 0.4298091112297492, 0.4298087589690204, 0.42980851349264265, 0.4298083755705816, 0.4298083457176734, 0.4298084241907122, 0.429808610986669, 0.4298089058420569, 0.4298093082334501, 0.42980981737915613, 0.4298104322420324, 0.42981115153343186, 0.42981197371825186, 0.4298128970210573, 0.429813919433237, 0.4298150387211492], [0.42987449487521556, 0.42987244257728585, 0.42987039089839374, 0.42986834273582125, 0.429866301079265, 0.4298642690050378, 0.42986224966965936, 0.42986024630284064, 0.4298582621998731, 0.4298563007134355, 0.4298543652448389, 0.4298524592347331, 0.42985058615330246, 0.42984874948998536, 0.4298469527427544, 0.4298451994070007, 0.4298434929640673, 0.42984183686948585, 0.42984023454096837, 0.4298386893462152, 0.42983720459059993, 0.42983578350479634, 0.42983442923241555, 0.4298331448177214, 0.42983193319349605, 0.42983079716912687, 0.42982973941898694, 0.42982876247118085, 0.42982786869672684, 0.4298270602992448, 0.4298263393052174, 0.42982570755488914, 0.42982516669386445, 0.4298247181654634, 0.4298243632038865, 0.42982410282823835, 0.42982393783745243, 0.42982386880615414, 0.42982389608149263, 0.42982401978096696, 0.429824239791263, 0.429824555768113, 0.4298249671371811, 0.4298254730959714, 0.4298260726167488, 0.4298267644504551, 0.42982754713159577, 0.429828418984068, 0.42982937812789146, 0.4298304224868003], [0.4298810359568006, 0.4298792041753076, 0.42987737523329916, 0.4298755517374847, 0.42987373637191084, 0.4298719318926867, 0.42987014112217875, 0.42986836694268055, 0.4298666122895666, 0.42986488014394336, 0.4298631735248147, 0.4298614954807829, 0.4298598490813114, 0.4298582374075778, 0.4298566635429528, 0.4298551305631416, 0.42985364152603067, 0.4298521994612844, 0.42985080735974235, 0.4298494681626679, 0.4298481847509052, 0.42984695993400046, 0.4298457964393494, 0.4298446969014312, 0.42984366385119277, 0.42984269970564676, 0.42984180675774675, 0.42984098716660457, 0.42984024294811085, 0.42983957596602124, 0.4298389879235679, 0.42983848035565186, 0.4298380546216713, 0.4298377118990355, 0.42983745317741107, 0.42983727925374093, 0.429837190728075, 0.4298371880002425, 0.4298372712673918, 0.4298374405224197, 0.4298376955533013, 0.4298380359433315, 0.4298384610722768, 0.4298389701184345, 0.42983956206158724, 0.4298402356868355, 0.4298409895892852, 0.429841822179561, 0.42984273169010967, 0.42984371618225503], [0.42988751949536064, 0.4298859062156152, 0.4298842978774855, 0.4298826967844569, 0.42988110530201246, 0.42987952585297373, 0.42987796091239916, 0.4298764130020444, 0.4298748846843914, 0.42987337855625884, 0.4298718972420062, 0.4298704433863517, 0.42986901964682384, 0.4298676286858727, 0.4298662731626701, 0.42986495572463035, 0.42986367899868694, 0.42986244558236597, 0.429861258034696, 0.42986011886700115, 0.42985903053362384, 0.4298579954226269, 0.4298570158465277, 0.4298560940331152, 0.42985523211640686, 0.42985443212779817, 0.4298536959874607, 0.4298530254960438, 0.42985242232673315, 0.4298518880177202, 0.42985142396513265, 0.42985103141647596, 0.42985071146463083, 0.42985046504245183, 0.4298502929180048, 0.42985019569048033, 0.429850173786814, 0.4298502274590411, 0.429850356782406, 0.4298505616542452, 0.4298508417936542, 0.4298511967419446, 0.42985162586389186, 0.42985212834976905, 0.4298527032181559, 0.4298533493195067, 0.429854065340457, 0.4298548498088415, 0.429855701099393, 0.4298566174400863], [0.429895200951153, 0.42989382281570954, 0.4298924510697095, 0.4298910876700578, 0.42988973462068714, 0.42988839396868583, 0.4298870678000767, 0.4298857582352483, 0.42988446742404485, 0.4298831975405223, 0.4298819507773806, 0.4298807293400862, 0.429879535440701, 0.4298783712914376, 0.4298772390979617, 0.42987614105247013, 0.42987507932656877, 0.4298740560639847, 0.4298730733731444, 0.42987213331965435, 0.42987123791872317, 0.42987038912756387, 0.42986958883782034, 0.4298688388680595, 0.4298681409563746, 0.42986749675314473, 0.42986690781399606, 0.4298663755930093, 0.4298659014362197, 0.42986548657545287, 0.42986513212253863, 0.4298648390639455, 0.4298646082558727, 0.4298644404198381, 0.4298643361387942, 0.42986429585380304, 0.42986431986129714, 0.42986440831094885, 0.4298645612041677, 0.42986477839324, 0.42986505958112065, 0.42986540432188436, 0.42986581202183527, 0.4298662819412725, 0.42986681319690356, 0.4298674047648925, 0.4298680554845251, 0.42986876406247, 0.42986952907761017, 0.42987034898641485], [0.42990524564724875, 0.4299041280831526, 0.4299030168573831, 0.4299019135219648, 0.4299008196636369, 0.42989973690098904, 0.4298986668813334, 0.4298976112773143, 0.42989657178325574, 0.42989555011125036, 0.4298945479869951, 0.429893567145383, 0.42989260932585927, 0.4298916762675558, 0.4298907697042191, 0.42988989135894795, 0.4298890429387623, 0.429888226129025, 0.42988744258774036, 0.42988669393975787, 0.4298859817709073, 0.42988530762209887, 0.4298846729834179, 0.4298840792882489, 0.42988352790746365, 0.42988302014370866, 0.4298825572258279, 0.4298821403034576, 0.42988177044182874, 0.42988144861681343, 0.4298811757102503, 0.42988095250558234, 0.42988077968383964, 0.42988065781999796, 0.42988058737974166, 0.42988056871665686, 0.429880602069878, 0.4298806875622092, 0.4298808251987368, 0.42988101486594754, 0.4298812563313627, 0.42988154924369526, 0.42988189313353276, 0.42988228741454526, 0.4298827313852146, 0.4298832242310756, 0.4298837650274584, 0.42988435274271586, 0.429884986241917, 0.42988566429098496], [0.42991878567025127, 0.42991795745940753, 0.4299171329748529, 0.42991631329847557, 0.4299154995406196, 0.42991469283848577, 0.42991389435433025, 0.429913105273456, 0.4299123268019932, 0.4299115601644671, 0.4299108066011531, 0.4299100673652198, 0.42990934371966494, 0.429908636934048, 0.42990794828102924, 0.4299072790327228, 0.42990663045687755, 0.4299060038128988, 0.4299054003477274, 0.42990482129159513, 0.4299042678536752, 0.4299037412176516, 0.42990324253723033, 0.4299027729316175, 0.42990233348099194, 0.4299019252219999, 0.42990154914329903, 0.4299012061811841, 0.4299008972153203, 0.42990062306461774, 0.4299003844832727, 0.42990018215700865, 0.42990001669954164, 0.42989988864929995, 0.4298997984664219, 0.4298997465300567, 0.4298997331359905, 0.42989975849461765, 0.4298998227292743, 0.4298999258749508, 0.4299000678773937, 0.42990024859260817, 0.42990046778676705, 0.42990072513653005, 0.42990102022977406, 0.4299013525667314, 0.4299017215615314, 0.4299021265441356, 0.4299025667626567, 0.42990304138604496], [0.42993699367570726, 0.4299364881273108, 0.42993598000760047, 0.42993546985272113, 0.4299349582307399, 0.4299344457416232, 0.42993393301702504, 0.42993342071987506, 0.42993290954375674, 0.42993240021206675, 0.4299318934769486, 0.4299313901179951, 0.429930890940717, 0.42993039677477585, 0.4299299084719824, 0.42992942690406366, 0.4299289529602043, 0.4299284875443691, 0.4299280315724181, 0.4299275859690259, 0.4299271516644191, 0.42992672959095024, 0.4299263206795254, 0.42992592585590717, 0.4299255460369144, 0.4299251821265442, 0.4299248350120388, 0.42992450555992673, 0.42992419461206255, 0.429923902981695, 0.4299236314495901, 0.4299233807602383, 0.4299231516181724, 0.42992294468442477, 0.4299227605731493, 0.42992259984843384, 0.4299224630213272, 0.42992235054710315, 0.42992226282278234, 0.4299222001849306, 0.42992216290774987, 0.4299221512014769, 0.42992216521110116, 0.42992220501540945, 0.42992227062636756, 0.4299223619888389, 0.4299224789806433, 0.42992262141295556, 0.42992278903103676, 0.42992298151529446], [0.42996115358709774, 0.4299610174515097, 0.42996086778222986, 0.4299607044672108, 0.42996052744239943, 0.4299603366937048, 0.4299601322587291, 0.4299599142282372, 0.42995968274735086, 0.42995943801644676, 0.4299591802917459, 0.4299589098855814, 0.42995862716633393, 0.4299583325580283, 0.4299580265395861, 0.42995770964373237, 0.4299573824555577, 0.4299570456107401, 0.4299566997934324, 0.429956345733827, 0.4299559842054094, 0.429955616021916, 0.42995524203401586, 0.42995486312573583, 0.42995448021065247, 0.42995409422787667, 0.42995370613785655, 0.4299533169180293, 0.4299529275583501, 0.4299525390567305, 0.4299521524144172, 0.4299517686313443, 0.42995138870149074, 0.42995101360827537, 0.42995064432002184, 0.4299502817855235, 0.4299499269297392, 0.429949580649647, 0.4299492438102852, 0.4299489172410036, 0.42994860173194904, 0.4299482980308072, 0.4299480068398175, 0.42994772881307847, 0.429947464554157, 0.42994721461401186, 0.42994697948924065, 0.4299467596206546, 0.42994655539218474, 0.42994636713012024], [0.4299927723198776, 0.4299930843047457, 0.4299933665439125, 0.4299936181152401, 0.42999383817401665, 0.4299940259575307, 0.4299941807892905, 0.4299943020828544, 0.4299943893452426, 0.42999444217990246, 0.42999446028920263, 0.4299944434764361, 0.4299943916473129, 0.42999430481093015, 0.42999418308020954, 0.42999402667179615, 0.4299938359054169, 0.4299936112027024, 0.42999335308547765, 0.4299930621735331, 0.4299927391818915, 0.4299923849175876, 0.42999200027598516, 0.42999158623665545, 0.4299911438588471, 0.42999067427657894, 0.42999017869339035, 0.4299896583767858, 0.4299891146524127, 0.42998854889801186, 0.42998796253718263, 0.42998735703300484, 0.42998673388155884, 0.42998609460538795, 0.4299854407469435, 0.4299847738620556, 0.42998409551346783, 0.4299834072644766, 0.4299827106727113, 0.42998200728409, 0.429981298626985, 0.4299805862066268, 0.42997987149977596, 0.4299791559496865, 0.42997844096138393, 0.4299777278972763, 0.42997701807311417, 0.42997631275431347, 0.42997561315264954, 0.42997492042333024], [0.4300338632037082, 0.43003476730870444, 0.4300356202922728, 0.43003642014250115, 0.4300371649644764, 0.4300378529884421, 0.4300384825774379, 0.4300390522343722, 0.4300395606084808, 0.4300400065011278, 0.43004038887091256, 0.43004070683804807, 0.4300409596879833, 0.43004114687424744, 0.4300412680204986, 0.4300413229217668, 0.430041311544885, 0.4300412340281103, 0.4300410906799408, 0.4300408819771412, 0.4300406085619946, 0.4300402712388042, 0.43003987096967256, 0.430039408869593, 0.4300388862008886, 0.4300383043670425, 0.430037664905963, 0.4300369694827332, 0.43003621988189483, 0.43003541799932055, 0.4300345658337287, 0.43003366547789734, 0.4300327191096336, 0.4300317289825557, 0.43003069741674405, 0.4300296267893177, 0.4300285195249903, 0.43002737808665925, 0.43002620496607913, 0.4300250026746687, 0.430023773734497, 0.4300225206694931, 0.43002124599691904, 0.4300199522191439, 0.43001864181575244, 0.43001731723601766, 0.4300159808917655, 0.43001463515065347, 0.430013282329882, 0.43001192469035565], [0.4300876297595879, 0.43008939558881365, 0.43009108482046365, 0.430092693847273, 0.4300942192185578, 0.43009565765358937, 0.43009700605431844, 0.4300982615173715, 0.4300994213452512, 0.4301004830566722, 0.4301014443959751, 0.4301023033415631, 0.43010305811331595, 0.4301037071789416, 0.43010424925923185, 0.4301046833322004, 0.4301050086360836, 0.4301052246711966, 0.43010533120064426, 0.4301053282498908, 0.4301052161052049, 0.43010499531100044, 0.4301046666660997, 0.43010423121895613, 0.430103690261876, 0.430103045324285, 0.4301022981650933, 0.43010145076421424, 0.4301005053132968, 0.4300994642057363, 0.43009833002603115, 0.4300971055385524, 0.43009579367579964, 0.4300943975262131, 0.43009292032161595, 0.4300913654243593, 0.4300897363142402, 0.43008803657526695, 0.4300862698823378, 0.43008443998790324, 0.4300825507086761, 0.43008060591245234, 0.43007860950510224, 0.4300765654177886, 0.43007447759446493, 0.4300723499797024, 0.43007018650689205, 0.4300679910868628, 0.4300657675969528, 0.4300635198705689], [0.4301598781684627, 0.4301630122361472, 0.43016604257698127, 0.43016896304924573, 0.43017176768498266, 0.43017445071145927, 0.4301770065720417, 0.4301794299463645, 0.43018171576968933, 0.43018385925134794, 0.4301858558921723, 0.43018770150081964, 0.4301893922089084, 0.43019092448488644, 0.4301922951465633, 0.43019350137224477, 0.4301945407104171, 0.4301954110879384, 0.430196110816702, 0.4301966385987468, 0.43019699352979945, 0.430197175101241, 0.43019718320050115, 0.43019701810989064, 0.43019668050389326, 0.4301961714449444, 0.43019549237773297, 0.43019464512207195, 0.4301936318643862, 0.43019245514787774, 0.4301911178614309, 0.4301896232273272, 0.4301879747878449, 0.43018617639082163, 0.4301842321742634, 0.4301821465500857, 0.43017992418707685, 0.4301775699931729, 0.430175089097138, 0.4301724868297433, 0.43016976870453927, 0.4301669403983137, 0.4301640077313312, 0.43016097664744346, 0.4301578531941643, 0.4301546435027952, 0.43015135376868924, 0.43014799023173583, 0.43014455915714667, 0.43014106681661934], [0.43026157321149644, 0.430267023892002, 0.4302723466549053, 0.4302775310532535, 0.4302825667632222, 0.4302874436188945, 0.4302921516470583, 0.4302966811018538, 0.4303010224991056, 0.4303051666501696, 0.43030910469512695, 0.43031282813515803, 0.43031632886393045, 0.43031959919784113, 0.43032263190495224, 0.4303254202324707, 0.4303279579326242, 0.43033023928679354, 0.4303322591277713, 0.4303340128600237, 0.4303354964778422, 0.43033670658128376, 0.43033764038980765, 0.4303382957535291, 0.43033867116202396, 0.4303387657506291, 0.4303385793041989, 0.43033811225829033, 0.4303373656977648, 0.4303363413528074, 0.43033504159238023, 0.43033346941513995, 0.4303316284378651, 0.4303295228814504, 0.4303271575545431, 0.43032453783490576, 0.43032166964860585, 0.4303185594471427, 0.4303152141826362, 0.43031164128120997, 0.43030784861471416, 0.4303038444709395, 0.4302996375224847, 0.4302952367944435, 0.43029065163108515, 0.4302858916617063, 0.43028096676583294, 0.4302758870379576, 0.43027066275199133, 0.43026530432561544], [0.4304129960341517, 0.4304225223620175, 0.4304319080284784, 0.4304411349386865, 0.4304501849116954, 0.43045903973814903, 0.43046768123989393, 0.43047609133127007, 0.43048425208181906, 0.4304921457801272, 0.4304997549985018, 0.43050706265816674, 0.43051405209464155, 0.43052070712296153, 0.4305270121023818, 0.4305329520002002, 0.43053851245432734, 0.43054367983423014, 0.43054844129987213, 0.4305527848582775, 0.4305566994173522, 0.43056017483660025, 0.4305632019743916, 0.4305657727314452, 0.4305678800902165, 0.4305695181498953, 0.4305706821567459, 0.4305713685295497, 0.4305715748799396, 0.4305713000274478, 0.430570544009124, 0.43056930808361804, 0.43056759472965833, 0.43056540763889617, 0.43056275170312885, 0.43055963299595124, 0.430556058748929, 0.4305520373224249, 0.4305475781712496, 0.4305426918053445, 0.43053738974574235, 0.4305316844760833, 0.4305255893899963, 0.4305191187346839, 0.4305122875510741, 0.4305051116109253, 0.43049760735128717, 0.43048979180673747, 0.43048168253982394, 0.4304732975701474], [0.4306499065690827, 0.4306667187408648, 0.4306834055770491, 0.4306999351083283, 0.43071627472879503, 0.43073239129376456, 0.4307482512242995, 0.43076382061809465, 0.43077906536631383, 0.4307939512759028, 0.43080844419683484, 0.4308225101536811, 0.43083611548083545, 0.43084922696066263, 0.43086181196378637, 0.4308738385906803, 0.4308852758136843, 0.430896093618529, 0.43090626314442393, 0.43091575682174077, 0.4309245485063139, 0.4309326136093752, 0.43093992922214797, 0.4309464742341419, 0.43095222944421774, 0.43095717766352803, 0.43096130380948755, 0.43096459498998557, 0.4309670405771163, 0.43096863226978177, 0.43096936414460263, 0.4309692326946645, 0.4309682368557223, 0.43096637801958776, 0.43096366003453024, 0.4309600891926292, 0.4309556742041244, 0.43095042615892254, 0.43094435847552254, 0.4309374868377305, 0.43092982911963396, 0.43092140529940337, 0.4309122373625762, 0.430902349195564, 0.430891766470194, 0.43088051652016474, 0.4308686282103494, 0.4308561317999253, 0.4308430588003438, 0.43082944182917754], [0.43103185211354145, 0.4310616759920751, 0.43109145190598686, 0.43112112271040925, 0.4311506293640822, 0.43117991109647835, 0.43120890559258385, 0.4312375491949202, 0.43126577712221315, 0.4312935237039331, 0.43132072262974386, 0.43134730721271364, 0.431373210664958, 0.4313983663842078, 0.4314227082496266, 0.4314461709250399, 0.43146869016759887, 0.4314902031397647, 0.43151064872239353, 0.4315299678266089, 0.431548103702082, 0.43156500223929484, 0.4315806122633466, 0.43159488581687216, 0.43160777842968, 0.43161924937278295, 0.43162926189459094, 0.43163778343715486, 0.43164478583050186, 0.43165024546327435, 0.43165414342808395, 0.43165646564020665, 0.4316572029284859, 0.43165635109755696, 0.43165391096077366, 0.4316498883434867, 0.43164429405660265, 0.43163714384062746, 0.4316284582806754, 0.4316182626931929, 0.4316065869854046, 0.4315934654887349, 0.4315789367676895, 0.431563043405887, 0.43154583177112416, 0.431527351761518, 0.4315076565349102, 0.43148680222382807, 0.4314648476383848, 0.4314418539595518], [0.4316520951288888, 0.4317048486634727, 0.43175776343246297, 0.43181073735099196, 0.43186366373845936, 0.4319164315993593, 0.431968925945643, 0.43202102816036003, 0.4320726164018939, 0.43212356604766144, 0.4321737501756848, 0.4322230400819743, 0.4322713058311918, 0.43231841683759686, 0.43236424247282595, 0.43240865269661966, 0.4324515187062068, 0.43249271359968133, 0.432532113048378, 0.43256959597296946, 0.4326050452177792, 0.4326383482176407, 0.43266939765152784, 0.4326980920771504, 0.43272433654074877, 0.4327480431564334, 0.4327691316496021, 0.4327875298592284, 0.4328031741941435, 0.43281601003883635, 0.4328259921047515, 0.43283308472358617, 0.43283726207965373, 0.4328385083789887, 0.43283681795350926, 0.4328321952992211, 0.432824655048121, 0.43281422187414353, 0.4328009303341692, 0.43278482464577006, 0.4327659584040032, 0.43274439424016065, 0.432720203425937, 0.43269346542698217, 0.4326642674102514, 0.4326327037099502, 0.432598875257189, 0.4325628889787092, 0.43252485717022404, 0.43248489685001557], [0.4326472319665149, 0.4327394861070891, 0.4328323811541811, 0.4329257371497818, 0.4330193640007859, 0.43311306192833243, 0.4332066220087193, 0.4332998268067063, 0.43339245110106256, 0.4334842627011938, 0.43357502335260856, 0.4336644897278691, 0.4337524144985287, 0.433838547482415, 0.4339226368594735, 0.43400443044828124, 0.4340836770342791, 0.4341601277397759, 0.43423353742488, 0.43430366610771276, 0.4343702803915945, 0.4344331548863636, 0.434492073610623, 0.434546831361508, 0.4345972350385508, 0.4346431049083824, 0.4346842757973677, 0.4347205981998101, 0.43475193929009026, 0.434778183828001, 0.43479923494760886, 0.43481501482118273, 0.43482546519107546, 0.4348305477638974, 0.43483024446286106, 0.43482455753577465, 0.4348135095178023, 0.4347971430497488, 0.43477552055425617, 0.43474872377387586, 0.43471685317649383, 0.4346800272349996, 0.4346383815893919, 0.4345920681006806, 0.43454125380696146, 0.43448611979289536, 0.4344268599845057, 0.4343636798817153, 0.43429679524137066, 0.434226430723649], [0.4342020977137552, 0.43436034232911336, 0.4345202371981592, 0.4346814729262106, 0.43484371906007613, 0.4350066247407006, 0.43516981954784073, 0.43533291454147116, 0.4354955035026061, 0.43565716437401314, 0.4358174608989177, 0.4359759444532648, 0.43613215606447686, 0.4362856286069312, 0.4364358891616459, 0.4365824615249466, 0.43672486884823314, 0.4368626363884347, 0.4369952943463925, 0.4371223807682723, 0.4372434444832618, 0.4373580480492822, 0.4374657706772847, 0.43756621110394966, 0.4376589903822943, 0.43774375455983805, 0.43782017721458594, 0.4378879618201851, 0.4379468439131609, 0.43799659303714983, 0.43803701444146936, 0.43806795051418246, 0.4380892819329583, 0.43810092852046795, 0.4381028497947065, 0.43809504520844234, 0.43807755407589344, 0.4380504551886375, 0.4380138661266198, 0.4379679422738497, 0.4379128755519096, 0.4378488928876888, 0.4377762544347248, 0.43769525157016476, 0.43760620469158856, 0.4375094608397517, 0.43740539117468524, 0.4372943883335205, 0.43717686369889297, 0.4370532446068339], [0.43654209971375046, 0.4368064155578534, 0.4370743659996534, 0.4373454377788816, 0.4376190759956983, 0.4378946848917001, 0.4381716290140323, 0.43844923477867975, 0.43872679244506657, 0.43900355850962486, 0.4392787585210106, 0.43955159031422036, 0.4398212276550574, 0.44008682428028234, 0.44034751831248065, 0.44060243702227087, 0.4408507019041124, 0.4410914340257538, 0.44132375960545167, 0.44154681576561444, 0.4417597564066179, 0.4419617581403509, 0.4421520262196828, 0.4423298003976326, 0.44249436064863146, 0.44264503268400013, 0.44278119319465054, 0.4429022747560738, 0.4430077703339246, 0.44309723733286954, 0.44317030113682027, 0.4432266580950862, 0.4432660779162668, 0.4432884054397058, 0.4432935617628856, 0.4432815447120938, 0.4432524286528331, 0.4432063636456107, 0.44314357396172693, 0.443064355982312, 0.4429690755119686, 0.4428581645458057, 0.44273211753526825, 0.44259148720386665, 0.4424368799686036, 0.44226895102652664, 0.442088399168371, 0.44189596138269455, 0.44169240731427106, 0.44147853363983075], [0.4399021674916898, 0.4403291080102256, 0.4407633251744762, 0.44120400547238536, 0.4416502570916784, 0.4421011104509116, 0.44255551945247185, 0.4430123635024222, 0.44347045033511157, 0.4439285196721239, 0.4443852477354737, 0.44483925262403523, 0.4452891005501399, 0.44573331292023244, 0.44617037422965916, 0.4465987407272889, 0.44701684979104056, 0.44742312994079825, 0.4478160114009755, 0.44819393711151656, 0.4485553740737297, 0.4488988249064013, 0.4492228394784963, 0.449526026477706, 0.4498070647694419, 0.45006471439881546, 0.45029782708886246, 0.45050535609183096, 0.45068636525680505, 0.45084003718618454, 0.4509656803654696, 0.45106273516515194, 0.45113077863002937, 0.4511695279895477, 0.4511788428424387, 0.45115872598950324, 0.4511093229094013, 0.45103091989329014, 0.4509239408745691, 0.4507889430094486, 0.45062661108207713, 0.4504377508241991, 0.4502232812534541, 0.44998422614619726, 0.44972170476998463, 0.4494369220074864, 0.4491311580075595, 0.44880575750057283, 0.44846211891393783, 0.4481016834203024], [0.44446279955595747, 0.44512522639658614, 0.4458011196161274, 0.44648925777350934, 0.4471882801894217, 0.44789668623455114, 0.4486128358897745, 0.4493349516874031, 0.45006112213181215, 0.45078930668389566, 0.4515173423767172, 0.45224295210951326, 0.45296375464400757, 0.4536772763010053, 0.45438096432686903, 0.455072201869137, 0.45574832446887137, 0.45640663794493336, 0.45704443751309487, 0.4576590279515367, 0.45824774459472273, 0.45880797491082137, 0.45933718039463156, 0.45983291848923447, 0.4602928642360797, 0.46071483134557967, 0.4610967923790332, 0.46143689773811836, 0.46173349317044377, 0.4619851355185832, 0.4621906064653728, 0.4623489240594623, 0.4624593518414592, 0.46252140543160974, 0.46253485648374093, 0.4624997339560233, 0.46241632269575983, 0.46228515938169734, 0.4621070259119925, 0.4618829403679315, 0.4616141457217202, 0.46130209649028414, 0.4609484435653729, 0.4605550174728144, 0.4601238103302549, 0.45965695678299523, 0.459156714201705, 0.45862544242412223, 0.4580655833157107, 0.45747964041219563], [0.45025398783270937, 0.45123493672664305, 0.4522389827211424, 0.453264398518443, 0.45430922426042536, 0.4553712636479733, 0.4564480821378164, 0.45753700745117787, 0.45863513261507716, 0.4597393217371908, 0.4608462186883736, 0.4619522588331084, 0.46305368390729373, 0.4641465600951131, 0.465226799302804, 0.4662901835676967, 0.4673323924770597, 0.4683490334043774, 0.46933567430234546, 0.4702878787239908, 0.4712012426778801, 0.47207143286256503, 0.47289422577141726, 0.4736655471138874, 0.474381510965016, 0.47503845803338013, 0.47563299242998, 0.4761620163277114, 0.4766227619235524, 0.4770128201531948, 0.47733016565998815, 0.47757317758542983, 0.4777406558253322, 0.4778318324820432, 0.4778463783360972, 0.477784404257715, 0.47764645757666024, 0.47743351352527363, 0.47714696196115947, 0.47678858966053317, 0.4763605585484163, 0.4758653802958587, 0.47530588776593263, 0.47468520382846835, 0.4740067080881323, 0.4732740020815652, 0.4724908734975222, 0.47166125996021097, 0.4707892128916, 0.4698788619347667], [0.45704590468835615, 0.4584244092773444, 0.45983957524584484, 0.4612891044722517, 0.4627703356825805, 0.4642802344838798, 0.4658153865416735, 0.4673719943495942, 0.46894587802764864, 0.47053248056177127, 0.4721268778603021, 0.473723793951894, 0.4753176215836046, 0.4769024483974559, 0.47847208876913977, 0.48002012128483096, 0.4815399317131726, 0.4830247612017654, 0.4844677592942083, 0.48586204122868526, 0.4872007488464965, 0.4884771143136023, 0.4896845257449626, 0.49081659372512443, 0.4918672176436062, 0.4928306507142377, 0.4937015625269572, 0.4944750979907815, 0.4951469315689542, 0.4957133157811948, 0.49617112305210087, 0.4965178801160903, 0.49675179434372807, 0.49687177152686207, 0.4968774248447475, 0.49676907492405586, 0.4965477410958692, 0.49621512413623103, 0.4957735809477306, 0.49522609179291904, 0.4945762208219857, 0.4938280707439334, 0.4929862325706538, 0.4920557314159152, 0.49104196935674943, 0.48995066636418505, 0.48878780028584357, 0.4875595468173284, 0.48627222033569517, 0.48493221639004336], [0.46425384898225885, 0.4660830789878241, 0.4679661198037964, 0.4699000884854698, 0.47188157221810956, 0.473906608700387, 0.4759706709761367, 0.47806865748786453, 0.4801948881237502, 0.4823431070076737, 0.48450649273633006, 0.48667767669634643, 0.48884876999568294, 0.4910113994165717, 0.4931567526418907, 0.4952756328245895, 0.49735852236336864, 0.49939565552151155, 0.5013770992854343, 0.503292841612527, 0.5051328859726211, 0.5068873508535711, 0.5085465726890032, 0.5101012104853344, 0.5115423502851952, 0.5128616075137741, 0.5140512252199113, 0.5151041662491714, 0.5160141974734507, 0.5167759643492826, 0.5173850542810099, 0.51783804751802, 0.5181325546081017, 0.5182672397503199, 0.5182418297281421, 0.5180571084440505, 0.5177148974078267, 0.5172180228406705, 0.5165702703359405, 0.5157763282567869, 0.5148417212453021, 0.5137727353635133, 0.5125763364825462, 0.5112600835832901, 0.5098320386328556, 0.5083006746599618, 0.5066747835745751, 0.5049633851685558, 0.5031756386010926, 0.5013207575215939], [0.47086389849264976, 0.4731426581398605, 0.47549447735895534, 0.4779159581002136, 0.48040298031478595, 0.4829506689365267, 0.48555336676234717, 0.4882046144536847, 0.4908971389029019, 0.4936228511975421, 0.4963728553667036, 0.4991374690021831, 0.5019062567081622, 0.5046680771442018, 0.5074111441861012, 0.5101231024390114, 0.5127911170011537, 0.515401977001456, 0.5179422120305999, 0.5203982201657329, 0.522756405870159, 0.5250033256490305, 0.5271258389795592, 0.5291112617292011, 0.5309475190455827, 0.5326232945636012, 0.5341281727397592, 0.5354527711982163, 0.5365888601583756, 0.5375294663046946, 0.5382689588451128, 0.5388031159682516, 0.5391291704308794, 0.5392458335626624, 0.5391532975404637, 0.5388532163354605, 0.5383486662513921, 0.5376440874329459, 0.5367452081153647, 0.5356589537002542, 0.5343933429737076, 0.532957373930146, 0.5313609017326092, 0.5296145113332238, 0.5277293872050319, 0.5257171825077953, 0.5235898898363145, 0.5213597154907146, 0.5190389589742366, 0.5166398991745837], [0.47538228311865527, 0.47801771603236487, 0.48074438364651273, 0.48355859463117146, 0.4864557498012487, 0.48943029282375966, 0.4924756680638638, 0.49558428732263105, 0.4987475072823965, 0.501955619493468, 0.5051978546991117, 0.5084624031946788, 0.5117364527429827, 0.5150062453152356, 0.5182571535913684, 0.5214737777352376, 0.5246400624639049, 0.527739433865416, 0.5307549548018087, 0.5336694970847448, 0.5364659279560192, 0.5391273077753664, 0.5416370952462298, 0.5439793560304389, 0.5461389702469642, 0.5481018341452742, 0.549855051210863, 0.5513871081099468, 0.5526880312124544, 0.5537495199359862, 0.5545650538063237, 0.5551299709003843, 0.5554415161867399, 0.5554988591640829, 0.5553030810760732, 0.5548571328112702, 0.5541657653439718, 0.5532354352089512, 0.5520741880110718, 0.5506915233404954, 0.5490982446950121, 0.5473062981085892, 0.5453286031625917, 0.5431788799286533, 0.5408714751782623, 0.5384211909129843, 0.5358431179389258, 0.5331524768468942, 0.5303644683811344, 0.5274941347972283], [0.4759595090477854, 0.4787265056955229, 0.48159585749924677, 0.48456396919703926, 0.48762622449948134, 0.4907769224744294, 0.4940092215069039, 0.49731509300937793, 0.5006852871716831, 0.504109313100649, 0.5075754356937963, 0.5110706915051548, 0.5145809256815628, 0.5180908517643513, 0.5215841357564476, 0.5250435053461345, 0.5284508845592817, 0.5317875533920928, 0.5350343311748865, 0.5381717815603236, 0.5411804361517258, 0.5440410329296854, 0.5467347648442527, 0.5492435332635633, 0.5515502004545006, 0.5536388349581334, 0.5554949436440526, 0.5571056844027611, 0.5584600538676716, 0.5595490452352889, 0.5603657721443066, 0.5609055556375103, 0.5611659724092699, 0.5611468637729535, 0.5608503060030867, 0.5602805438548273, 0.5594438900852925, 0.5583485946554406, 0.5570046879496537, 0.5554238027983915, 0.5536189803279649, 0.5516044647017545, 0.5493954916808871, 0.5470080756470741, 0.5444587993273344, 0.5417646099723539, 0.5389426251979913, 0.5360099511313292, 0.532983514933165, 0.5298799132175749], [0.4710417908506418, 0.47358224738604016, 0.4762212747984392, 0.4789557879965703, 0.481781721707101, 0.4846939642251341, 0.4876862981079856, 0.49075135000999914, 0.4938805519905197, 0.49706411671013584, 0.5002910289475597, 0.5035490558063299, 0.506824777822901, 0.5101036429238939, 0.5133700448011993, 0.5166074267750356, 0.5197984115986066, 0.5229249569321749, 0.5259685353963774, 0.5289103372295644, 0.5317314926562248, 0.5344133101645923, 0.5369375260388694, 0.5392865597457259, 0.5414437691862432, 0.54339369943959, 0.5451223184809874, 0.5466172334798051, 0.5478678816837915, 0.5488656905650835, 0.5496042028171917, 0.5500791629068764, 0.5502885631444359, 0.5502326485731233, 0.5499138813225719, 0.5493368663515286, 0.5485082416581731, 0.5474365370091661, 0.546132005993287, 0.5446064367198851, 0.5428729467515176, 0.5409457678936573, 0.5388400262851354, 0.5365715228733328, 0.5341565188559712, 0.531611530067938, 0.528953133626436, 0.52619778945814, 0.5233616786500337, 0.5204605599170585], [0.4605525188366774, 0.46247650925712835, 0.4644769233004947, 0.46655149253238515, 0.4686971948860998, 0.47091020350949603, 0.47318584103485717, 0.47551854095662743, 0.4779018178970444, 0.4803282485947621, 0.4827894654560273, 0.4852761644513409, 0.4877781290129306, 0.4902842713816499, 0.4927826925601631, 0.4952607616499022, 0.49770521488423664, 0.5001022741261827, 0.5024377839888338, 0.5046973660787182, 0.5068665881815412, 0.5089311455359373, 0.510877050707939, 0.5126908280231472, 0.5143597080711662, 0.5158718175013464, 0.5172163592078312, 0.5183837780751737, 0.5193659077320844, 0.5201560942370219, 0.5207492932792609, 0.5211421382941023, 0.5213329778224165, 0.5213218814448477, 0.5211106146388309, 0.5207025838893103, 0.520102754282934, 0.5193175425884934, 0.5183546894412722, 0.5172231146847547, 0.5159327601716936, 0.5144944243908514, 0.5129195931798363, 0.5112202705304447, 0.509408813118611, 0.5074977717279903, 0.5054997422156802, 0.5034272281212993, 0.5012925164734172, 0.49910756782296617], [0.44663819991908743, 0.44770240707850073, 0.44880945169217146, 0.44995810720187285, 0.45114673923981746, 0.4523732800732412, 0.45363520623762144, 0.45492952020457306, 0.45625273695891744, 0.4576008763658622, 0.4589694621894048, 0.4603535285729278, 0.46174763470899294, 0.4631458883051971, 0.46454197829537136, 0.46592921705076296, 0.467300592116658, 0.46864882724048773, 0.4699664521749016, 0.47124588044241195, 0.4724794939484249, 0.47365973303962783, 0.47477919033882, 0.47583070645987147, 0.47680746553145315, 0.47770308834805303, 0.478511720931328, 0.47922811633076967, 0.4798477076222003, 0.48036667027359276, 0.48078197233314957, 0.48109141124279964, 0.4812936364762639, 0.4813881576257882, 0.48137533799602, 0.48125637418672357, 0.48103326253880335, 0.4807087536636401, 0.48028629656039795, 0.4797699740402167, 0.479164431315254, 0.47847479967370377, 0.4777066171529419, 0.47686574804889037, 0.47595830297017033, 0.4749905609723831, 0.4739688951029475, 0.47289970246269564, 0.471789339658453, 0.4706440642910583], [0.43290504896971793, 0.4331297731908793, 0.4333657948923862, 0.4336130422683485, 0.43387136852039027, 0.4341405476794765, 0.43442027107808395, 0.4347101445726288, 0.4350096866059666, 0.4353183271861729, 0.435635407840924, 0.4359601825871601, 0.4362918199338594, 0.4366294059127389, 0.4369719481084238, 0.43731838063731915, 0.43766757000429773, 0.43801832174944677, 0.43836938778461454, 0.4387194743119409, 0.439067250214463, 0.4394113558121292, 0.43975041188464836, 0.44008302887456985, 0.4404078161984369, 0.44072339160922475, 0.44102839056755805, 0.4413214755908521, 0.4416013455568354, 0.44186674493987527, 0.4421164729545204, 0.4423493925708144, 0.4425644393510796, 0.4427606300392192, 0.4429370708132363, 0.44309296509164653, 0.4432276207670507, 0.4433404567273942, 0.44343100851917994, 0.4434989330080885, 0.4435440119018334, 0.44356615401733424, 0.4435653961987166, 0.44354190282293005, 0.4434959638641059, 0.4434279915243948, 0.4433385154757463, 0.443228176792168, 0.44309772068376385, 0.4429479881709006], [0.422549222546284, 0.42217525829041747, 0.4217929026845242, 0.4214030942292301, 0.42100691056650186, 0.4206055734478682, 0.42020045233718156, 0.4197930663675721, 0.41938508436451893, 0.418978322646986, 0.41857474032802466, 0.4181764318566925, 0.4177856165759495, 0.41740462511746057, 0.41703588251455725, 0.4166818879889742, 0.4163451914547074, 0.41602836688181083, 0.41573398277176266, 0.4154645701106697, 0.4152225882828202, 0.41501038953985864, 0.41483018272442546, 0.4146839970356927, 0.41457364669184443, 0.4145006973859968, 0.4144664354426536, 0.4144718405585661, 0.414517562953123, 0.4146039056595865, 0.4147308125619589, 0.41489786262736794, 0.4151042706068651, 0.4153488942859421, 0.4156302481686943, 0.4159465232853615, 0.4162956126309674, 0.41667514158106944, 0.4170825024962385, 0.417514892624941, 0.41796935434837573, 0.4184428167817066, 0.4189321377533097, 0.41943414522447076, 0.41994567728234977, 0.42046361993376735, 0.42098494204042447, 0.4215067268613876, 0.42202619979985395, 0.4225407520826607], [0.41694231052614494, 0.41628170949336174, 0.41560591422937665, 0.41491646483023564, 0.414215115792103, 0.41350384055533373, 0.41278483377632624, 0.41206051100039665, 0.41133350541833924, 0.4106066614089126, 0.4098830246003573, 0.4091658282271312, 0.4084584756138349, 0.40776451868699604, 0.4070876324964972, 0.40643158582100325, 0.40580020803404826, 0.4051973525170909, 0.40462685701974743, 0.4040925014818031, 0.4035979639422044, 0.40314677526237275, 0.40274227347994396, 0.4023875586796615, 0.4020854493160847, 0.40183844094426646, 0.4016486683065448, 0.40151787168441955, 0.4014473683536909, 0.4014380298797342, 0.40149026586061654, 0.40160401457281325, 0.4017787408029744, 0.4020134409659244, 0.4023066554210024, 0.4026564877133607, 0.4030606302912612, 0.4035163960914233, 0.40402075524805525, 0.4045703760718469, 0.40516166936626274, 0.4057908351015418, 0.40645391045211765, 0.4071468182193646, 0.40786541470606785, 0.40860553617826034, 0.4093630431395714, 0.4101338617482329, 0.4109140218222994, 0.41169969099954185], [0.4155818393261589, 0.41488584776819026, 0.4141760226925691, 0.4134540292921369, 0.41272172893164144, 0.41198118016860397, 0.4112346375907299, 0.4104845482466605, 0.40973354546582696, 0.4089844398896776, 0.4082402075709489, 0.4075039750401015, 0.4067790012883702, 0.4060686566746715, 0.40537639882805376, 0.40470574568731665, 0.4040602458933248, 0.4034434468254975, 0.4028588606497684, 0.40230992881843275, 0.40179998553011814, 0.40133222071778735, 0.40090964318152256, 0.4005350445182636, 0.40021096452039273, 0.39993965871735, 0.39972306871798613, 0.3995627959756797, 0.39946007954351015, 0.3994157783140341, 0.3994303581492734, 0.39950388420391403, 0.39963601863167036, 0.39982602374494347, 0.4000727705753623, 0.4003747526616901, 0.4007301047760409, 0.40113662619319956, 0.40159180801451577, 0.40209286398013566, 0.40263676414334504, 0.4032202707398616, 0.40383997556350704, 0.4044923381575757, 0.4051737241473442, 0.4058804430719397, 0.40660878512102916, 0.40735505624100254, 0.40811561114375516, 0.4088868838259724], [0.41698334331361875, 0.4163921793376466, 0.41579145616958113, 0.4151826235391223, 0.41456727316245556, 0.41394713718243625, 0.41332408499181283, 0.41270011832708375, 0.41207736453854005, 0.41145806796417894, 0.41084457936143115, 0.410239343380859, 0.4096448840998306, 0.4090637886711683, 0.40849868918126786, 0.407952242853368, 0.40742711077355687, 0.406925935358621, 0.4064513168247913, 0.40600578895348427, 0.40559179448302873, 0.4052116604827577, 0.40486757408654656, 0.404561558975823, 0.40429545300630987, 0.404070887367731, 0.4038892676509459, 0.4037517571725239, 0.40365926287287734, 0.4036124240614064, 0.4036116042316521, 0.40365688611250955, 0.40374807005966384, 0.4038846758263518, 0.40406594768621407, 0.40429086281533494, 0.40455814277751057, 0.40486626789813984, 0.40521349425956155, 0.4055978730055587, 0.4060172716062058, 0.406469396707047, 0.406951818169175, 0.407461993899206, 0.40799729507017357, 0.40855503134542026, 0.40913247573682476, 0.40972688875514796, 0.4103355415426827, 0.4109557377154997]], \"zauto\": true, \"zmax\": 0.5611659724092699, \"zmin\": -0.5611659724092699}, {\"autocolorscale\": false, \"autocontour\": true, \"colorbar\": {\"tickfont\": {\"size\": 8}, \"ticksuffix\": \"\", \"x\": 1, \"y\": 0.5}, \"colorscale\": [[0.0, \"rgb(255,247,251)\"], [0.14285714285714285, \"rgb(236,231,242)\"], [0.2857142857142857, \"rgb(208,209,230)\"], [0.42857142857142855, \"rgb(166,189,219)\"], [0.5714285714285714, \"rgb(116,169,207)\"], [0.7142857142857143, \"rgb(54,144,192)\"], [0.8571428571428571, \"rgb(5,112,176)\"], [1.0, \"rgb(3,78,123)\"]], \"contours\": {\"coloring\": \"heatmap\"}, \"hoverinfo\": \"x+y+z\", \"ncontours\": 25, \"type\": \"contour\", \"x\": [4.0, 5.224489795918368, 6.448979591836735, 7.673469387755102, 8.89795918367347, 10.122448979591837, 11.346938775510203, 12.571428571428571, 13.795918367346939, 15.020408163265307, 16.244897959183675, 17.46938775510204, 18.693877551020407, 19.918367346938776, 21.142857142857142, 22.367346938775512, 23.591836734693878, 24.816326530612244, 26.040816326530614, 27.26530612244898, 28.48979591836735, 29.714285714285715, 30.93877551020408, 32.163265306122454, 33.38775510204081, 34.61224489795919, 35.83673469387755, 37.06122448979592, 38.285714285714285, 39.51020408163265, 40.734693877551024, 41.95918367346939, 43.183673469387756, 44.40816326530612, 45.63265306122449, 46.85714285714286, 48.08163265306123, 49.30612244897959, 50.53061224489796, 51.755102040816325, 52.9795918367347, 54.204081632653065, 55.42857142857143, 56.6530612244898, 57.87755102040816, 59.10204081632653, 60.3265306122449, 61.55102040816327, 62.775510204081634, 64.0], \"xaxis\": \"x2\", \"y\": [1e-08, 1.3894954943731388e-08, 1.9306977288832496e-08, 2.682695795279727e-08, 3.7275937203149377e-08, 5.1794746792312124e-08, 7.196856730011513e-08, 1e-07, 1.389495494373136e-07, 1.9306977288832497e-07, 2.6826957952797275e-07, 3.727593720314938e-07, 5.179474679231213e-07, 7.196856730011514e-07, 1e-06, 1.389495494373136e-06, 1.9306977288832498e-06, 2.6826957952797274e-06, 3.727593720314938e-06, 5.179474679231202e-06, 7.196856730011514e-06, 1e-05, 1.3894954943731361e-05, 1.9306977288832496e-05, 2.6826957952797274e-05, 3.727593720314938e-05, 5.179474679231202e-05, 7.196856730011514e-05, 0.0001, 0.0001389495494373136, 0.00019306977288832496, 0.0002682695795279722, 0.0003727593720314938, 0.0005179474679231213, 0.0007196856730011514, 0.001, 0.001389495494373136, 0.0019306977288832496, 0.002682695795279722, 0.003727593720314938, 0.005179474679231202, 0.007196856730011514, 0.01, 0.01389495494373136, 0.019306977288832496, 0.026826957952797218, 0.03727593720314938, 0.05179474679231202, 0.07196856730011514, 0.1], \"yaxis\": \"y2\", \"z\": [[0.24289428513638084, 0.24289428281583741, 0.2428942804359389, 0.2428942779991501, 0.24289427550833795, 0.24289427296678814, 0.24289427037821973, 0.24289426774679768, 0.24289426507714257, 0.24289426237433734, 0.24289425964393063, 0.24289425689193628, 0.2428942541248287, 0.24289425134953394, 0.2428942485734157, 0.24289424580425695, 0.24289424305023558, 0.24289424031989568, 0.24289423762211287, 0.2428942349660545, 0.24289423236113486, 0.24289422981696496, 0.24289422734329802, 0.2428942249499701, 0.24289422264683716, 0.24289422044370834, 0.24289421835027658, 0.24289421637604697, 0.2428942145302638, 0.2428942128218368, 0.2428942112592674, 0.2428942098505766, 0.24289420860323419, 0.24289420752409094, 0.24289420661931493, 0.24289420589433178, 0.24289420535377074, 0.2428942050014167, 0.2428942048401692, 0.2428942048720087, 0.24289420509797094, 0.24289420551812974, 0.24289420613158813, 0.2428942069364789, 0.24289420792997346, 0.2428942091083001, 0.24289421046677037, 0.24289421199981445, 0.24289421370102393, 0.2428942155632022], [0.24289427336228558, 0.24289427023996246, 0.24289426702261657, 0.2428942637129975, 0.24289426031446984, 0.24289425683104332, 0.24289425326739975, 0.2428942496289164, 0.2428942459216854, 0.24289424215252828, 0.24289423832900486, 0.24289423445941655, 0.24289423055280288, 0.2428942266189309, 0.2428942226682774, 0.24289421871200292, 0.24289421476191786, 0.2428942108304401, 0.24289420693054423, 0.2428942030757024, 0.24289419927981679, 0.2428941955571444, 0.24289419192221387, 0.24289418838973567, 0.24289418497450577, 0.24289418169130375, 0.2428941785547866, 0.24289417557937865, 0.24289417277915937, 0.2428941701677498, 0.24289416775819947, 0.24289416556287435, 0.242894163593348, 0.24289416186029703, 0.24289416037340167, 0.24289415914125403, 0.2428941581712739, 0.24289415746963428, 0.24289415704119724, 0.24289415688946112, 0.24289415701651995, 0.24289415742303558, 0.2428941581082231, 0.2428941590698498, 0.24289416030424751, 0.24289416180633874, 0.24289416356967578, 0.24289416558649243, 0.2428941678477681, 0.2428941703433027], [0.24289426342237114, 0.2428942595389116, 0.24289425552266763, 0.2428942513765036, 0.24289424710412055, 0.24289424271010077, 0.24289423819994863, 0.24289423358012646, 0.24289422885808454, 0.2428942240422846, 0.2428942191422157, 0.242894214168402, 0.24289420913240117, 0.2428942040467931, 0.24289419892515832, 0.24289419378204524, 0.24289418863292622, 0.24289418349414177, 0.2428941783828334, 0.24289417331686422, 0.2428941683147286, 0.2428941633954501, 0.24289415857846955, 0.24289415388352256, 0.24289414933050896, 0.24289414493935393, 0.24289414072986307, 0.24289413672157215, 0.24289413293359385, 0.24289412938446242, 0.24289412609197866, 0.24289412307305666, 0.24289412034357458, 0.24289411791823093, 0.24289411581040868, 0.24289411403204852, 0.24289411259353363, 0.24289411150358683, 0.2428941107691822, 0.24289411039547204, 0.24289411038573047, 0.2428941107413145, 0.24289411146164283, 0.2428941125441934, 0.2428941139845192, 0.24289411577628253, 0.2428941179113068, 0.24289412037964625, 0.24289412316967127, 0.24289412626816928], [0.2428942572309644, 0.24289425278530546, 0.24289424817555202, 0.24289424340453236, 0.24289423847609226, 0.24289423339515218, 0.24289422816775977, 0.24289422280113618, 0.24289421730371547, 0.24289421168517566, 0.2428942059564607, 0.24289420012979196, 0.24289419421866898, 0.24289418823785752, 0.24289418220336526, 0.24289417613240372, 0.24289417004333638, 0.24289416395561222, 0.24289415788968505, 0.24289415186691815, 0.242894145909475, 0.24289414004019605, 0.24289413428246262, 0.24289412866004886, 0.24289412319696252, 0.24289411791727653, 0.24289411284495233, 0.2428941080036573, 0.24289410341657772, 0.2428940991062297, 0.24289409509427015, 0.24289409140131, 0.24289408804673202, 0.24289408504851565, 0.24289408242307103, 0.24289408018508454, 0.24289407834737764, 0.24289407692078155, 0.24289407591402906, 0.242894075333665, 0.2428940751839772, 0.2428940754669483, 0.2428940761822295, 0.24289407732713678, 0.24289407889666945, 0.24289408088355086, 0.2428940832782909, 0.2428940860692694, 0.24289408924283917, 0.24289409278344748], [0.2428942561910916, 0.24289425151937288, 0.2428942466669899, 0.24289424163664095, 0.24289423643213548, 0.2428942310584577, 0.2428942255218252, 0.24289421982974074, 0.2428942139910361, 0.24289420801590722, 0.24289420191593894, 0.2428941957041187, 0.2428941893948376, 0.24289418300387855, 0.24289417654839027, 0.2428941700468461, 0.24289416351898824, 0.24289415698575548, 0.24289415046919585, 0.24289414399236292, 0.24289413757919698, 0.24289413125439113, 0.24289412504324331, 0.24289411897149513, 0.24289411306515876, 0.2428941073503338, 0.2428941018530149, 0.2428940965988936, 0.2428940916131545, 0.24289408692027012, 0.24289408254379505, 0.24289407850616332, 0.24289407482849004, 0.24289407153038142, 0.24289406862975418, 0.2428940661426679, 0.24289406408317177, 0.24289406246316841, 0.24289406129229626, 0.24289406057783255, 0.2428940603246182, 0.24289406053500526, 0.2428940612088286, 0.2428940623434014, 0.2428940639335351, 0.2428940659715834, 0.24289406844750958, 0.24289407134897673, 0.24289407466145888, 0.24289407836837243], [0.2428942605907497, 0.24289425608562573, 0.24289425140232462, 0.24289424654337996, 0.24289424151241917, 0.2428942363142258, 0.24289423095479648, 0.24289422544139128, 0.24289421978257614, 0.2428942139882565, 0.242894208069701, 0.24289420203955372, 0.2428941959118348, 0.24289418970192764, 0.24289418342655253, 0.24289417710372577, 0.2428941707527039, 0.24289416439391248, 0.24289415804885975, 0.24289415174003476, 0.24289414549079072, 0.2428941393252135, 0.24289413326797707, 0.24289412734418567, 0.2428941215792051, 0.24289411599848357, 0.24289411062736488, 0.24289410549089469, 0.24289410061362296, 0.24289409601940404, 0.2428940917311969, 0.2428940877708683, 0.2428940841590006, 0.24289408091470746, 0.24289407805545896, 0.24289407559691917, 0.24289407355279816, 0.2428940719347202, 0.24289407075211025, 0.2428940700121005, 0.2428940697194578, 0.24289406987653347, 0.2428940704832362, 0.24289407153702802, 0.24289407303294427, 0.2428940749636363, 0.2428940773194372, 0.2428940800884493, 0.242894083256652, 0.2428940868080291], [0.24289426937963574, 0.24289426538086212, 0.24289426122378505, 0.24289425691077188, 0.24289425244516627, 0.2428942478313416, 0.24289424307474994, 0.24289423818196432, 0.2428942331607144, 0.242894228019914, 0.24289422276967954, 0.24289421742133888, 0.24289421198742922, 0.24289420648168364, 0.2428942009190055, 0.24289419531543013, 0.24289418968807358, 0.24289418405506788, 0.24289417843548322, 0.24289417284923656, 0.24289416731698757, 0.24289416186002197, 0.24289415650012322, 0.24289415125943345, 0.24289414616030444, 0.2428941412251407, 0.24289413647623503, 0.24289413193559947, 0.24289412762479226, 0.2428941235647435, 0.2428941197755813, 0.24289411627646043, 0.24289411308539538, 0.2428941102191005, 0.24289410769283865, 0.24289410552028065, 0.24289410371337763, 0.24289410228224742, 0.2428941012350769, 0.24289410057804214, 0.24289410031524616, 0.24289410044867704, 0.24289410097818492, 0.24289410190148017, 0.24289410321415142, 0.24289410490970398, 0.2428941069796177, 0.2428941094134238, 0.24289411219879956, 0.24289411532167948], [0.2428942805175274, 0.24289427722481952, 0.24289427380442571, 0.24289427025855284, 0.24289426659020508, 0.24289426280322451, 0.24289425890232744, 0.2428942548931356, 0.24289425078220162, 0.24289424657702788, 0.24289424228607787, 0.24289423791877998, 0.24289423348552225, 0.24289422899763813, 0.24289422446738265, 0.24289421990789853, 0.24289421533317193, 0.24289421075797787, 0.24289420619781535, 0.24289420166883183, 0.2428941971877381, 0.24289419277171348, 0.24289418843830185, 0.24289418420529985, 0.2428941800906376, 0.24289417611225306, 0.24289417228796162, 0.24289416863532182, 0.24289416517149856, 0.24289416191312588, 0.24289415887616994, 0.2428941560757949, 0.24289415352623248, 0.24289415124065694, 0.24289414923106772, 0.24289414750818028, 0.24289414608132737, 0.24289414495837172, 0.24289414414563132, 0.2428941436478184, 0.2428941434679929, 0.24289414360753123, 0.24289414406611068, 0.2428941448417095, 0.24289414593062317, 0.2428941473274963, 0.24289414902536965, 0.24289415101574224, 0.24289415328864666, 0.24289415583273805], [0.24289429173383736, 0.24289428917996853, 0.24289428653143774, 0.242894283790297, 0.2428942809592034, 0.2428942780414461, 0.24289427504097008, 0.2428942719623956, 0.24289426881103313, 0.24289426559289354, 0.24289426231469236, 0.24289425898384845, 0.24289425560847594, 0.24289425219736963, 0.24289424875998342, 0.2428942453064012, 0.24289424184730063, 0.2428942383939095, 0.2428942349579545, 0.24289423155160308, 0.24289422818739803, 0.24289422487818577, 0.2428942216370384, 0.24289421847717016, 0.2428942154118493, 0.24289421245430556, 0.24289420961763478, 0.24289420691470107, 0.2428942043580379, 0.24289420195974898, 0.2428941997314103, 0.24289419768397394, 0.24289419582767563, 0.2428941941719462, 0.242894192725329, 0.24289419149540353, 0.2428941904887169, 0.2428941897107235, 0.24289418916573396, 0.24289418885687442, 0.2428941887860556, 0.24289418895395365, 0.24289418936000157, 0.24289419000239226, 0.24289419087809297, 0.24289419198287082, 0.24289419331132914, 0.24289419485695418, 0.24289419661217182, 0.24289419856841313], [0.2428943012859126, 0.24289429937206955, 0.24289429739235854, 0.24289429534868615, 0.24289429324339717, 0.2428942910792904, 0.24289428885963135, 0.24289428658816223, 0.24289428426910836, 0.24289428190718101, 0.242894279507576, 0.24289427707596847, 0.24289427461850266, 0.2428942721417774, 0.24289426965282654, 0.2428942671590948, 0.2428942646684082, 0.24289426218893995, 0.24289425972917153, 0.24289425729784894, 0.2428942549039346, 0.24289425255655528, 0.24289425026494602, 0.242894248038391, 0.2428942458861615, 0.24289424381745164, 0.24289424184131236, 0.24289423996658469, 0.24289423820183226, 0.24289423655527503, 0.2428942350347233, 0.2428942336475143, 0.24289423240045122, 0.24289423129974555, 0.24289423035096394, 0.24289422955897924, 0.2428942289279273, 0.2428942284611699, 0.24289422816126363, 0.242894228029936, 0.24289422806806865, 0.24289422827568788, 0.24289422865196283, 0.24289422919521117, 0.24289422990291243, 0.2428942307717287, 0.24289423179753225, 0.24289423297544038, 0.24289423429985615, 0.24289423576451522], [0.24289430834998368, 0.24289430691429184, 0.24289430543411042, 0.2428943039112153, 0.24289430234769738, 0.24289430074597015, 0.24289429910877514, 0.24289429743918495, 0.24289429574060398, 0.2428942940167661, 0.24289429227172976, 0.2428942905098699, 0.24289428873586683, 0.24289428695469178, 0.2428942851715895, 0.24289428339205732, 0.24289428162182125, 0.24289427986680873, 0.24289427813311867, 0.24289427642698833, 0.2428942747547579, 0.24289427312283243, 0.24289427153764187, 0.24289427000559924, 0.24289426853305743, 0.24289426712626513, 0.24289426579132198, 0.2428942645341339, 0.24289426336036846, 0.2428942622754113, 0.24289426128432381, 0.2428942603918025, 0.24289425960214087, 0.24289425891919367, 0.24289425834634457, 0.24289425788647703, 0.24289425754194968, 0.24289425731457512, 0.24289425720560362, 0.24289425721571165, 0.24289425734499484, 0.24289425759296623, 0.2428942579585592, 0.24289425844013562, 0.24289425903549872, 0.24289425974191056, 0.2428942605561142, 0.24289426147436022, 0.2428942624924365, 0.2428942636057026], [0.24289431294754607, 0.24289431183037402, 0.2428943106827525, 0.2428943095063379, 0.2428943083030209, 0.24289430707492915, 0.24289430582442859, 0.24289430455412234, 0.24289430326684808, 0.24289430196567321, 0.24289430065388765, 0.24289429933499468, 0.24289429801269957, 0.2428942966908956, 0.24289429537364818, 0.24289429406517657, 0.2428942927698337, 0.2428942914920835, 0.24289429023647693, 0.24289428900762594, 0.24289428781017577, 0.2428942866487762, 0.24289428552805162, 0.24289428445257025, 0.2428942834268127, 0.24289428245514064, 0.24289428154176512, 0.24289428069071556, 0.24289427990580942, 0.24289427919062279, 0.24289427854846266, 0.24289427798234034, 0.24289427749494757, 0.24289427708863423, 0.24289427676538902, 0.2428942765268228, 0.24289427637415462, 0.24289427630820143, 0.24289427632937052, 0.24289427643765563, 0.24289427663263638, 0.242894276913481, 0.24289427727895296, 0.24289427772742006, 0.24289427825686766, 0.24289427886491433, 0.24289427954883072, 0.24289428030556098, 0.24289428113174658, 0.24289428202375246], [0.24289431556688482, 0.24289431465020064, 0.24289431371183182, 0.24289431275331144, 0.24289431177635595, 0.24289431078286577, 0.24289430977492413, 0.24289430875479465, 0.24289430772491705, 0.24289430668790138, 0.24289430564652043, 0.24289430460370032, 0.24289430356250957, 0.24289430252614608, 0.24289430149792285, 0.24289430048125177, 0.24289429947962582, 0.2428942984966003, 0.24289429753577207, 0.24289429660075826, 0.24289429569517354, 0.242894294822607, 0.2428942939865981, 0.2428942931906125, 0.2428942924380177, 0.2428942917320586, 0.24289429107583385, 0.24289429047227254, 0.24289428992411166, 0.24289428943387492, 0.24289428900385285, 0.24289428863608445, 0.24289428833234053, 0.2428942880941094, 0.24289428792258413, 0.2428942878186528, 0.24289428778289052, 0.2428942878155546, 0.2428942879165817, 0.24289428808558816, 0.2428942883218725, 0.24289428862442064, 0.24289428899191406, 0.24289428942273972, 0.24289428991500278, 0.24289429046654137, 0.24289429107494329, 0.24289429173756474, 0.24289429245155034, 0.2428942932138549], [0.24289431673006862, 0.2428943159473528, 0.24289431514914206, 0.2428943143368234, 0.24289431351193047, 0.24289431267614287, 0.24289431183128463, 0.2428943109793216, 0.24289431012235713, 0.24289430926262637, 0.24289430840248957, 0.24289430754442348, 0.2428943066910115, 0.24289430584493257, 0.24289430500894837, 0.2428943041858895, 0.24289430337864049, 0.24289430259012318, 0.2428943018232799, 0.24289430108105495, 0.242894300366376, 0.24289429968213452, 0.24289429903116613, 0.24289429841623061, 0.24289429783999186, 0.24289429730499826, 0.24289429681366334, 0.24289429636824728, 0.24289429597083886, 0.2428942956233389, 0.2428942953274447, 0.24289429508463586, 0.24289429489616202, 0.2428942947630319, 0.24289429468600457, 0.24289429466558238, 0.24289429470200632, 0.24289429479525332, 0.24289429494503553, 0.24289429515080227, 0.24289429541174357, 0.2428942957267963, 0.24289429609465207, 0.2428942965137672, 0.2428942969823745, 0.24289429749849684, 0.2428942980599621, 0.2428942986644197, 0.24289429930935813, 0.2428942999921238], [0.24289431669685507, 0.24289431602262254, 0.2428943153389643, 0.24289431464708727, 0.2428943139483074, 0.24289431324404942, 0.24289431253584576, 0.2428943118253343, 0.2428943111142551, 0.24289431040444623, 0.24289430969783826, 0.2428943089964476, 0.24289430830236902, 0.24289430761776656, 0.24289430694486372, 0.2428943062859324, 0.24289430564328088, 0.24289430501924097, 0.2428943044161541, 0.24289430383635682, 0.24289430328216588, 0.2428943027558624, 0.24289430225967615, 0.2428943017957693, 0.24289430136622053, 0.24289430097300893, 0.24289430061799863, 0.2428943003029235, 0.2428943000293731, 0.24289429979877886, 0.24289429961240178, 0.24289429947132113, 0.24289429937642446, 0.24289429932839898, 0.2428942993277247, 0.242894299374669, 0.24289429946928315, 0.2428942996114004, 0.24289429980063595, 0.2428943000363888, 0.24289430031784537, 0.24289430064398476, 0.2428943010135859, 0.2428943014252363, 0.24289430187734215, 0.24289430236814014, 0.2428943028957101, 0.24289430345798937, 0.24289430405278767, 0.24289430467780293], [0.24289431538879458, 0.24289431481993978, 0.24289431424942065, 0.24289431367823072, 0.24289431310742524, 0.24289431253812158, 0.2428943119714988, 0.24289431140879683, 0.24289431085131485, 0.24289431030040914, 0.24289430975749002, 0.242894309224018, 0.24289430870149928, 0.24289430819148036, 0.24289430769554168, 0.2428943072152907, 0.24289430675235402, 0.24289430630836883, 0.24289430588497365, 0.24289430548379845, 0.24289430510645418, 0.24289430475452192, 0.24289430442954163, 0.2428943041330007, 0.24289430386632224, 0.24289430363085363, 0.242894303427855, 0.2428943032584881, 0.24289430312380553, 0.24289430302474055, 0.24289430296209774, 0.24289430293654413, 0.24289430294860162, 0.24289430299864026, 0.2428943030868727, 0.24289430321335, 0.24289430337795856, 0.2428943035804185, 0.2428943038202835, 0.24289430409694196, 0.2428943044096195, 0.24289430475738316, 0.24289430513914648, 0.2428943055536764, 0.2428943059996009, 0.2428943064754183, 0.24289430697950698, 0.24289430751013674, 0.24289430806548032, 0.24289430864362602], [0.24289431252708651, 0.24289431206548162, 0.2428943116126984, 0.2428943111694981, 0.24289431073664167, 0.2428943103148905, 0.2428943099050076, 0.24289430950775825, 0.24289430912391094, 0.2428943087542376, 0.24289430839951415, 0.2428943080605202, 0.24289430773803886, 0.24289430743285556, 0.24289430714575688, 0.24289430687752878, 0.2428943066289541, 0.24289430640080958, 0.24289430619386276, 0.24289430600886763, 0.24289430584656033, 0.24289430570765427, 0.24289430559283462, 0.2428943055027527, 0.24289430543801996, 0.2428943053992016, 0.2428943053868104, 0.24289430540130005, 0.24289430544305904, 0.2428943055124043, 0.24289430560957526, 0.24289430573472826, 0.24289430588793143, 0.2428943060691601, 0.24289430627829278, 0.24289430651510796, 0.2428943067792817, 0.24289430707038592, 0.2428943073878877, 0.2428943077311496, 0.2428943080994306, 0.24289430849188842, 0.2428943089075825, 0.24289430934547795, 0.24289430980445045, 0.242894310283292, 0.24289431078071738, 0.24289431129537145, 0.24289431182583684, 0.24289431237064257], [0.24289430790849326, 0.24289430754961192, 0.24289430721293984, 0.24289430689901087, 0.2428943066082812, 0.24289430634113118, 0.24289430609786777, 0.24289430587872735, 0.2428943056838794, 0.24289430551343036, 0.24289430536742782, 0.242894305245865, 0.24289430514868543, 0.2428943050757875, 0.24289430502702924, 0.24289430500223255, 0.24289430500118767, 0.24289430502365697, 0.24289430506937854, 0.24289430513806942, 0.24289430522942823, 0.24289430534313733, 0.24289430547886443, 0.24289430563626374, 0.24289430581497665, 0.24289430601463155, 0.24289430623484365, 0.242894306475214, 0.2428943067353283, 0.24289430701475523, 0.2428943073130446, 0.24289430762972536, 0.24289430796430347, 0.24289430831625952, 0.24289430868504672, 0.24289430907008863, 0.2428943094707775, 0.24289430988647256, 0.2428943103164986, 0.24289431076014523, 0.24289431121666621, 0.24289431168527953, 0.24289431216516774, 0.24289431265547903, 0.2428943131553286, 0.2428943136638007, 0.24289431417995114, 0.24289431470281014, 0.242894315231386, 0.2428943157646686], [0.24289430167608594, 0.24289430140418367, 0.24289430117006106, 0.24289430097406023, 0.24289430081635777, 0.2428943006969675, 0.24289430061574438, 0.24289430057238978, 0.24289430056645803, 0.24289430059736392, 0.24289430066439166, 0.242894300766704, 0.2428943009033528, 0.24289430107328946, 0.24289430127537645, 0.2428943015083986, 0.24289430177107466, 0.24289430206206872, 0.24289430238000173, 0.2428943027234623, 0.24289430309101726, 0.2428943034812217, 0.24289430389262825, 0.24289430432379555, 0.2428943047732962, 0.24289430523972358, 0.24289430572169796, 0.24289430621787156, 0.242894306726933, 0.24289430724761057, 0.24289430777867477, 0.2428943083189402, 0.2428943088672665, 0.24289430942255874, 0.2428943099837671, 0.24289431054988622, 0.2428943111199538, 0.24289431169304918, 0.24289431226829128, 0.24289431284483678, 0.24289431342187767, 0.24289431399863914, 0.2428943145743774, 0.24289431514837742, 0.24289431571995104, 0.2428943162884351, 0.24289431685318985, 0.24289431741359746, 0.24289431796906125, 0.2428943185190045], [0.24289429439516302, 0.2428942941825932, 0.2428942940241045, 0.24289429391992282, 0.24289429387001868, 0.24289429387411055, 0.2428942939316697, 0.2428942940419279, 0.24289429420388645, 0.24289429441632757, 0.24289429467782717, 0.24289429498676912, 0.24289429534136117, 0.24289429573965152, 0.2428942961795466, 0.24289429665882944, 0.2428942971751784, 0.24289429772618612, 0.24289429830937867, 0.2428942989222341, 0.24289429956220102, 0.24289430022671613, 0.24289430091322128, 0.24289430161917958, 0.24289430234209022, 0.2428943030795023, 0.2428943038290275, 0.24289430458835112, 0.24289430535524198, 0.2428943061275609, 0.24289430690326777, 0.242894307680427, 0.24289430845721213, 0.24289430923190872, 0.2428943100029161, 0.24289431076874807, 0.24289431152803262, 0.24289431227951036, 0.24289431302203243, 0.24289431375455747, 0.2428943144761481, 0.24289431518596657, 0.2428943158832704, 0.24289431656740734, 0.24289431723781021, 0.24289431789399174, 0.24289431853553908, 0.24289431916210852, 0.24289431977342038, 0.24289432036925365], [0.24289428678678737, 0.24289428659376996, 0.24289428647026298, 0.2428942864165077, 0.2428942864324073, 0.24289428651752948, 0.24289428667111243, 0.2428942868920729, 0.24289428717901768, 0.24289428753025705, 0.24289428794382098, 0.24289428841747723, 0.24289428894875148, 0.24289428953494904, 0.2428942901731781, 0.2428942908603737, 0.242894291593323, 0.24289429236869067, 0.24289429318304478, 0.2428942940328824, 0.242894294914655, 0.2428942958247933, 0.2428942967597312, 0.24289429771592871, 0.24289429868989357, 0.2428942996782017, 0.24289430067751566, 0.2428943016846018, 0.24289430269634554, 0.2428943037097648, 0.24289430472202142, 0.2428943057304309, 0.24289430673247028, 0.24289430772578402, 0.2428943087081882, 0.24289430967767306, 0.24289431063240385, 0.2428943115707202, 0.24289431249113427, 0.24289431339232725, 0.24289431427314526, 0.24289431513259377, 0.2428943159698315, 0.24289431678416343, 0.24289431757503332, 0.24289431834201572, 0.2428943190848077, 0.24289431980322024, 0.24289432049716966, 0.24289432116666906], [0.24289427915139422, 0.24289427892305196, 0.24289427877801303, 0.2428942787167465, 0.24289427873931232, 0.24289427884536235, 0.24289427903414457, 0.24289427930451088, 0.24289427965492835, 0.24289428008349342, 0.24289428058794907, 0.24289428116570522, 0.24289428181386102, 0.24289428252922984, 0.2428942833083659, 0.2428942841475927, 0.24289428504303276, 0.2428942859906379, 0.24289428698622065, 0.24289428802548552, 0.24289428910406036, 0.24289429021752723, 0.24289429136145257, 0.24289429253141634, 0.24289429372304003, 0.2428942949320131, 0.24289429615411762, 0.2428942973852511, 0.24289429862144754, 0.24289429985889593, 0.24289430109395685, 0.24289430232317663, 0.24289430354329938, 0.2428943047512767, 0.24289430594427508, 0.24289430711968113, 0.24289430827510497, 0.2428943094083812, 0.24289431051756832, 0.24289431160094643, 0.24289431265701314, 0.24289431368447806, 0.24289431468225625, 0.2428943156494603, 0.24289431658539162, 0.24289431748953064, 0.24289431836152695, 0.24289431920118815, 0.24289432000846922, 0.2428943207834609], [0.24289427076362635, 0.24289427042255413, 0.24289427017794474, 0.24289427003082156, 0.24289426998173505, 0.2428942700307592, 0.24289427017749177, 0.242894270421059, 0.24289427076012352, 0.24289427119289703, 0.24289427171715608, 0.24289427233026142, 0.24289427302918098, 0.24289427381051526, 0.24289427467052585, 0.2428942756051661, 0.24289427661011362, 0.2428942776808046, 0.24289427881246922, 0.2428942800001677, 0.24289428123882711, 0.24289428252327777, 0.24289428384828982, 0.24289428520860842, 0.24289428659898868, 0.2428942880142285, 0.24289428944920033, 0.24289429089888082, 0.2428942923583783, 0.24289429382295818, 0.24289429528806578, 0.2428942967493466, 0.24289429820266423, 0.24289429964411524, 0.24289430107004173, 0.24289430247704105, 0.24289430386197305, 0.2428943052219649, 0.24289430655441316, 0.2428943078569842, 0.24289430912761187, 0.24289431036449358, 0.24289431156608454, 0.24289431273109036, 0.2428943138584581, 0.24289431494736627, 0.24289431599721373, 0.24289431700760758, 0.24289431797835054, 0.24289431890942775], [0.24289425961370723, 0.2428942590455376, 0.24289425858914632, 0.2428942582465915, 0.2428942580193878, 0.24289425790849434, 0.24289425791430744, 0.24289425803665807, 0.24289425827481392, 0.24289425862748668, 0.24289425909284337, 0.24289425966852257, 0.24289426035165496, 0.2428942611388877, 0.24289426202641268, 0.24289426300999825, 0.2428942640850238, 0.24289426524651708, 0.24289426648919374, 0.24289426780749837, 0.24289426919564716, 0.24289427064767108, 0.24289427215745946, 0.24289427371880357, 0.24289427532543953, 0.24289427697109034, 0.2428942786495065, 0.24289428035450492, 0.2428942820800058, 0.2428942838200672, 0.24289428556891704, 0.24289428732098237, 0.24289428907091545, 0.24289429081361724, 0.2428942925442573, 0.2428942942582907, 0.24289429595147186, 0.24289429761986514, 0.24289429925985234, 0.2428943008681374, 0.24289430244174817, 0.24289430397803546, 0.2428943054746699, 0.2428943069296361, 0.24289430834122508, 0.2428943097080247, 0.2428943110289084, 0.24289431230302266, 0.24289431352977306, 0.24289431470880968], [0.2428942425060136, 0.2428942415224165, 0.24289424067087753, 0.24289423995519693, 0.2428942393785435, 0.24289423894342924, 0.2428942386516897, 0.24289423850446984, 0.24289423850221578, 0.2428942386446727, 0.24289423893088832, 0.24289423935922286, 0.24289423992736425, 0.24289424063234918, 0.24289424147058958, 0.24289424243790372, 0.2428942435295523, 0.24289424474027835, 0.24289424606435084, 0.24289424749561167, 0.24289424902752485, 0.24289425065322792, 0.24289425236558476, 0.24289425415723892, 0.24289425602066791, 0.2428942579482363, 0.24289425993224856, 0.2428942619650004, 0.2428942640388283, 0.24289426614615656, 0.242894268279542, 0.24289427043171555, 0.24289427259562052, 0.24289427476444753, 0.2428942769316654, 0.24289427909104885, 0.24289428123670173, 0.24289428336307672, 0.24289428546499098, 0.24289428753763823, 0.24289428957659676, 0.2428942915778344, 0.24289429353770992, 0.24289429545297092, 0.24289429732074963, 0.24289429913855523, 0.24289430090426414, 0.24289430261610845, 0.24289430427266168, 0.2428943058728239], [0.2428942143573613, 0.24289421256606455, 0.242894210930433, 0.24289420945720808, 0.24289420815242502, 0.24289420702136846, 0.2428942060685337, 0.24289420529759467, 0.2428942047113787, 0.2428942043118487, 0.24289420410009233, 0.24289420407631898, 0.24289420423986385, 0.24289420458919936, 0.24289420512195384, 0.2428942058349368, 0.24289420672417059, 0.24289420778492846, 0.2428942090117773, 0.24289421039862621, 0.2428942119387784, 0.24289421362498742, 0.24289421544951603, 0.24289421740419725, 0.2428942194804972, 0.2428942216695783, 0.2428942239623635, 0.242894226349599, 0.24289422882191675, 0.24289423136989488, 0.2428942339841159, 0.24289423665522253, 0.24289423937397037, 0.24289424213127683, 0.24289424491826703, 0.2428942477263151, 0.24289425054708186, 0.24289425337254789, 0.24289425619504276, 0.2428942590072697, 0.24289426180232623, 0.2428942645737205, 0.24289426731538385, 0.2428942700216795, 0.24289427268740743, 0.24289427530780636, 0.24289427787855203, 0.24289428039575292, 0.24289428285594328, 0.24289428525607373], [0.24289416287472243, 0.24289415920302793, 0.2428941556977057, 0.24289415237120518, 0.2428941492353846, 0.2428941463014379, 0.24289414357982655, 0.24289414108021667, 0.2428941388114221, 0.24289413678135396, 0.24289413499697707, 0.24289413346427324, 0.24289413218821218, 0.24289413117272965, 0.24289413042071317, 0.24289412993399517, 0.2428941297133533, 0.24289412975851804, 0.2428941300681869, 0.2428941306400453, 0.24289413147079356, 0.2428941325561792, 0.24289413389103492, 0.24289413546932112, 0.24289413728417247, 0.2428941393279484, 0.24289414159228662, 0.2428941440681595, 0.2428941467459324, 0.24289414961542377, 0.24289415266596642, 0.2428941558864697, 0.24289415926548186, 0.24289416279125237, 0.24289416645179385, 0.2428941702349434, 0.24289417412842254, 0.242894178119896, 0.24289418219702885, 0.2428941863475417, 0.24289419055926384, 0.2428941948201841, 0.24289419911849905, 0.2428942034426589, 0.24289420778141027, 0.24289421212383613, 0.24289421645939274, 0.24289422077794343, 0.242894225069789, 0.24289422932569507], [0.2428940485172941, 0.24289403957393738, 0.2428940307347714, 0.24289402202616625, 0.2428940134748577, 0.2428940051078294, 0.2428939969521894, 0.24289398903504184, 0.2428939813833541, 0.24289397402382026, 0.24289396698272128, 0.242893960285783, 0.24289395395803254, 0.2428939480236537, 0.2428939425058431, 0.24289393742666718, 0.24289393280692148, 0.2428939286659935, 0.24289392502172982, 0.24289392189030914, 0.24289391928612217, 0.2428939172216594, 0.24289391570740876, 0.24289391475176347, 0.2428939143609416, 0.2428939145389188, 0.2428939152873746, 0.24289391660565388, 0.24289391849074352, 0.242893920937266, 0.24289392393748932, 0.24289392748135447, 0.2428939315565201, 0.24289393614842464, 0.24289394124036542, 0.24289394681359458, 0.24289395284743076, 0.24289395931938595, 0.2428939662053065, 0.24289397347952663, 0.24289398111503335, 0.24289398908364124, 0.2428939973561749, 0.2428940059026578, 0.2428940146925053, 0.24289402369471996, 0.2428940328780871, 0.24289404221136893, 0.2428940516634946, 0.24289406120374565], [0.24289374372241382, 0.24289371853938369, 0.24289369312330322, 0.24289366754059502, 0.2428936418621099, 0.24289361616293134, 0.24289359052213072, 0.2428935650224716, 0.24289353975006345, 0.24289351479396387, 0.24289349024573156, 0.24289346619893043, 0.2428934427485883, 0.24289341999061279, 0.24289339802116922, 0.24289337693602436, 0.2428933568298631, 0.2428933377955831, 0.24289331992357543, 0.24289330330099887, 0.24289328801105511, 0.2428932741322747, 0.24289326173782153, 0.24289325089482505, 0.24289324166374945, 0.2428932340978077, 0.24289322824242926, 0.24289322413478923, 0.24289322180340553, 0.24289322126781107, 0.2428932225383058, 0.24289322561579293, 0.24289323049170272, 0.2428932371480054, 0.2428932455573144, 0.2428932556830784, 0.24289326747986129, 0.24289328089370565, 0.24289329586257627, 0.24289331231687789, 0.2428933301800398, 0.24289334936916113, 0.242893369795707, 0.2428933913662479, 0.24289341398323192, 0.24289343754578044, 0.24289346195049774, 0.24289348709228425, 0.2428935128651437, 0.24289353916297585], [0.24289286524667397, 0.24289278937068462, 0.24289271197244383, 0.24289263323923013, 0.242892553377585, 0.24289247261301142, 0.24289239118945966, 0.2428923093685919, 0.24289222742881783, 0.24289214566409772, 0.24289206438251276, 0.24289198390460462, 0.24289190456149182, 0.24289182669277296, 0.24289175064423146, 0.24289167676536058, 0.24289160540673058, 0.24289153691722462, 0.24289147164117258, 0.24289140991541552, 0.2428913520663358, 0.24289129840689008, 0.24289124923368402, 0.24289120482412827, 0.24289116543371495, 0.24289113129345422, 0.2428911026075081, 0.24289107955105754, 0.24289106226843493, 0.24289105087155163, 0.24289104543864562, 0.24289104601336936, 0.24289105260423355, 0.24289106518441655, 0.2428910836919435, 0.24289110803023373, 0.2428911380690091, 0.24289117364555013, 0.24289121456628168, 0.24289126060866478, 0.24289131152336688, 0.24289136703667813, 0.24289142685313936, 0.24289149065834345, 0.24289155812187058, 0.24289162890031657, 0.24289170264037355, 0.2428917789819219, 0.24289185756109444, 0.24289193801327436], [0.24289034057230635, 0.24289011062247753, 0.24288987470155315, 0.24288963335316158, 0.2428893871908467, 0.24288913689788305, 0.24288888322631666, 0.24288862699518532, 0.242888369087879, 0.2428881104486141, 0.24288785207800678, 0.2428875950277443, 0.24288734039436924, 0.24288708931220568, 0.24288684294547408, 0.2428866024796568, 0.24288636911219358, 0.2428861440426012, 0.24288592846212656, 0.24288572354305596, 0.24288553042781474, 0.24288535021800176, 0.24288518396350905, 0.2428850326518827, 0.2428848971980818, 0.24288477843479103, 0.24288467710343764, 0.2428845938460551, 0.24288452919812642, 0.2428844835825239, 0.24288445730464742, 0.24288445054884406, 0.24288446337617045, 0.24288449572353804, 0.2428845474042576, 0.24288461810997636, 0.2428847074139768, 0.24288481477578439, 0.24288493954700957, 0.24288508097832892, 0.24288523822749303, 0.2428854103682338, 0.24288559639993032, 0.24288579525788348, 0.2428860058240435, 0.24288622693803072, 0.2428864574082908, 0.2428866960232274, 0.24288694156216356, 0.24288719280598892], [0.24288336379106618, 0.24288268579281053, 0.24288198738482672, 0.2428812701066849, 0.24288053573182802, 0.242879786269323, 0.24287902396300995, 0.24287825128784413, 0.24287747094325712, 0.24287668584339991, 0.242875899104176, 0.24287511402702072, 0.24287433407943776, 0.24287356287236295, 0.24287280413448614, 0.24287206168372552, 0.24287133939611283, 0.24287064117240914, 0.24286997090283197, 0.24286933243032724, 0.2428687295128706, 0.24286816578532158, 0.2428676447213866, 0.24286716959626864, 0.2428667434505889, 0.24286636905616543, 0.24286604888421695, 0.2428657850765318, 0.24286557942010228, 0.24286543332567112, 0.24286534781057387, 0.24286532348618903, 0.24286536055022606, 0.24286545878399599, 0.2428656175547196, 0.24286583582283597, 0.24286611215418422, 0.24286644473684355, 0.24286683140233423, 0.24286726965080793, 0.2428677566797883, 0.24286828941596897, 0.2428688645495309, 0.24286947857040983, 0.2428701278059266, 0.24287080845918646, 0.2428715166476611, 0.24287224844138522, 0.24287299990023012, 0.2428737671097551], [0.2428651082382363, 0.24286319663885436, 0.2428612205365562, 0.24285918406877208, 0.24285709210762738, 0.24285495027258652, 0.24285276493490657, 0.2428505432130957, 0.2428482929586658, 0.24284602273158268, 0.2428437417649621, 0.2428414599187231, 0.24283918762209772, 0.2428369358051011, 0.2428347158192861, 0.24283253934833626, 0.24283041830928637, 0.2428283647453936, 0.24282639071190834, 0.2428245081562065, 0.24282272879393657, 0.24282106398299863, 0.24281952459730216, 0.24281812090234353, 0.24281686243468917, 0.2428157578874535, 0.2428148150038133, 0.24281404048050154, 0.24281343988307927, 0.2428130175745922, 0.2428127766589845, 0.2428127189403725, 0.2428128448989813, 0.24281315368422504, 0.2428136431250773, 0.2428143097575387, 0.2428151488686741, 0.24281615455637306, 0.24281731980368884, 0.2428186365663453, 0.24282009587177023, 0.24282168792782768, 0.24282340223928062, 0.2428252277299224, 0.24282715286827575, 0.24282916579476158, 0.24283125444829673, 0.24283340669037434, 0.24283561042481733, 0.24283785371156394], [0.24282033727823787, 0.242815241708186, 0.2428099561015259, 0.24280449084152414, 0.24279885847593097, 0.24279307377550385, 0.24278715376847493, 0.24278111774806543, 0.2427749872503932, 0.24276878600045543, 0.24276253982429155, 0.24275627652594814, 0.24275002572846532, 0.24274381867878025, 0.24273768801718237, 0.2427316675127435, 0.2427257917669645, 0.2427200958887083, 0.24271461514430198, 0.24270938458746394, 0.24270443867442018, 0.2426998108701897, 0.24269553325251922, 0.24269163612031042, 0.24268814761358817, 0.24268509335209434, 0.24268249609944598, 0.24268037545947124, 0.24267874761082694, 0.24267762508532623, 0.2426770165945721, 0.24267692690852824, 0.2426773567885878, 0.24267830297655557, 0.24267975823977106, 0.24268171147140644, 0.2426841478438104, 0.24268704901166782, 0.2426903933607407, 0.24269415629707528, 0.24269831057082625, 0.24270282662827775, 0.24270767298524865, 0.24271281661485553, 0.24271822334257465, 0.24272385824168355, 0.24272968602246495, 0.24273567140899935, 0.2427417794979412, 0.24274797609434137], [0.2427185447109651, 0.242705834164859, 0.24269260445297014, 0.24267887960883833, 0.2426646896011637, 0.2426500705536219, 0.2426350648992718, 0.24261972145999341, 0.24260409544194886, 0.24258824833891068, 0.24257224773646824, 0.24255616701160318, 0.24254008492391235, 0.24252408509682924, 0.24250825538952192, 0.2424926871626745, 0.2424774744440363, 0.24246271300236982, 0.24244849934116672, 0.24243492962613875, 0.24242209856293215, 0.24241009824366566, 0.24239901698266003, 0.242388938163029, 0.24237993911656341, 0.24237209005950947, 0.2423654531063817, 0.24236008138285015, 0.24235601825701056, 0.2423532967060252, 0.2423519388322716, 0.2423519555398381, 0.24235334637856756, 0.24235609955898593, 0.24236019213748902, 0.24236559036723349, 0.24237225020640743, 0.24238011797207246, 0.24238913112467186, 0.242399219165685, 0.24241030462884286, 0.24242230414385102, 0.2424351295507172, 0.24244868904254896, 0.24246288831504828, 0.24247763170184436, 0.24249282327620503, 0.24250836790148755, 0.24252417221483685, 0.2425401455310361], [0.24250693147986496, 0.24247758823047239, 0.2424469427576668, 0.24241504571843342, 0.24238196276053878, 0.24234777523035173, 0.2423125807179001, 0.24227649341041974, 0.24223964422661795, 0.2422021807057514, 0.2421642666284763, 0.2421260813503056, 0.2420878188334089, 0.24204968636837956, 0.2420119029843869, 0.24197469755369652, 0.2419383066046989, 0.24190297186610416, 0.24186893757356773, 0.2418364475783998, 0.24180574230585222, 0.24177705561743085, 0.2417506116374203, 0.24172662160802638, 0.24170528083998194, 0.2416867658259246, 0.24167123158222134, 0.2416588092811477, 0.24164960422949494, 0.24164369424192572, 0.24164112844798097, 0.2416419265608791, 0.24164607862453746, 0.2416535452430176, 0.241664258284311, 0.241678122038491, 0.24169501479919317, 0.2417147908275297, 0.2417372826492137, 0.2417623036291038, 0.2417896507627343, 0.24181910762173425, 0.241850447389342, 0.24188343592338704, 0.24191783478697657, 0.24195340419146577, 0.24198990580185048, 0.24202710536122077, 0.2420647750980577, 0.2421026958876681], [0.24211207694209516, 0.2420501885219257, 0.24198533932887364, 0.2419176250614371, 0.24184717581820311, 0.24177415808064914, 0.2416987763318921, 0.24162127423362686, 0.24154193528421036, 0.24146108288403978, 0.24137907974033276, 0.2412963265523644, 0.24121325993027407, 0.24113034951572127, 0.24104809429080676, 0.24096701808246154, 0.24088766429246586, 0.24081058990771745, 0.24073635887049377, 0.24066553491326337, 0.2405986739860091, 0.2405363164248909, 0.24047897902825888, 0.24042714721848202, 0.24038126747487604, 0.2403417402235312, 0.24030891336366741, 0.24028307659723508, 0.2402644567091374, 0.24025321392034696, 0.24024943940631047, 0.24025315403965256, 0.24026430838076154, 0.2402827839039333, 0.24030839541193189, 0.24034089455956978, 0.24037997437850195, 0.24042527467189573, 0.24047638812970057, 0.24053286700328974, 0.2405942301723411, 0.2406599704367221, 0.24072956187134784, 0.24080246709179215, 0.2408781442920123, 0.24095605393199876, 0.2410356649715666, 0.2411164605659893, 0.24119794315895263, 0.24127963892768348], [0.2414677576301084, 0.24135037017567826, 0.24122698320855743, 0.24109775581881687, 0.2409629174523247, 0.24082277270161503, 0.24067770538387442, 0.24052818172168455, 0.24037475243913406, 0.2402180535886308, 0.24005880593319837, 0.23989781272609442, 0.23973595575491025, 0.2395741895512744, 0.2394135337098758, 0.23925506331125304, 0.2390998975006269, 0.23894918633834633, 0.23880409610402506, 0.23866579330336624, 0.23853542769072317, 0.2384141146780575, 0.23830291754846047, 0.23820282992633018, 0.23811475897363393, 0.23803950978019583, 0.2379777713944271, 0.2379301048993652, 0.23789693387864266, 0.23787853754069224, 0.23787504668090126, 0.237886442565234, 0.23791255872026099, 0.23795308551890493, 0.2380075773635504, 0.23807546219278417, 0.23815605297821227, 0.2382485608355963, 0.23835210935069134, 0.23846574971414417, 0.23858847627001162, 0.23871924210643758, 0.23885697435181188, 0.23900058888211712, 0.23914900419200708, 0.23930115423060616, 0.2394560000506725, 0.23961254016478498, 0.23976981954330556, 0.23992693722528027], [0.24058330078866771, 0.24038685903732268, 0.24017983045444996, 0.2399624465300693, 0.23973506387148, 0.23949817386538677, 0.23925241113872195, 0.2389985604507951, 0.23873756163495174, 0.2384705122042978, 0.23819866724574632, 0.23792343625211065, 0.2376463765853733, 0.23736918332727924, 0.23709367535695813, 0.2368217775992267, 0.2365554995100915, 0.23629691000470546, 0.23604810918283348, 0.23581119736119371, 0.2355882420726778, 0.2353812438300018, 0.23519210156569997, 0.23502257874162177, 0.2348742711603715, 0.23474857750171915, 0.23464667354525165, 0.23456949092657753, 0.23451770111263498, 0.23449170508063685, 0.23449162895713255, 0.23451732563340957, 0.23456838213707087, 0.23464413232284836, 0.23474367426232431, 0.23486589157274337, 0.23500947783576057, 0.23517296321939585, 0.23535474242778665, 0.2355531031568646, 0.23576625432043752, 0.23599235341947, 0.2362295325466294, 0.23647592263837985, 0.23672967569989048, 0.23698898482795164, 0.23725210194060095, 0.23751735318821046, 0.23778315207020262, 0.238048010316542], [0.23962514568067245, 0.23934111593706803, 0.23904127225636912, 0.23872592220432043, 0.23839556221830743, 0.23805089308385244, 0.2376928336133427, 0.23732253193318226, 0.2369413737568447, 0.2365509870097083, 0.23615324218153058, 0.235750247818457, 0.23534434063280085, 0.23493806980905768, 0.23453417522115913, 0.23413555944952227, 0.23374525369534507, 0.23336637792921566, 0.23300209587336315, 0.23265556569000292, 0.23232988751682135, 0.2320280492363019, 0.2317528720679828, 0.23150695771137395, 0.2312926388236002, 0.23111193457577633, 0.23096651288834139, 0.23085766069949554, 0.23078626328372062, 0.23075279323003156, 0.23075730924123938, 0.23079946446065303, 0.2308785236075265, 0.2309933878407641, 0.2311426259988442, 0.2313245106996834, 0.23153705773257902, 0.2317780672289889, 0.23204516524292018, 0.23233584458088288, 0.23264750396763653, 0.232977484889306, 0.23332310569522796, 0.23368169274541464, 0.23405060855029394, 0.2344272769593401, 0.2348092055177824, 0.23519400513319477, 0.23557940718685297, 0.2359632781998452], [0.23891014137680375, 0.2385612105673784, 0.23819274477859298, 0.23780514147880663, 0.23739903620192152, 0.23697532145812478, 0.23653516314114714, 0.23608001366103618, 0.235611621005874, 0.2351320329356671, 0.23464359554237954, 0.23414894547710094, 0.23365099525327868, 0.23315291118719916, 0.2326580837350054, 0.232170090228427, 0.23169265029469385, 0.2312295745614472, 0.23078470758205474, 0.2303618662531948, 0.22996477531331347, 0.2295970017828134, 0.22926189040838935, 0.22896250227967993, 0.22870155877532966, 0.2284813928541439, 0.2283039094322741, 0.22817055618911622, 0.2280823056463613, 0.22803964880251198, 0.22804260002487764, 0.22809071235288292, 0.22818310189921162, 0.2283184796895999, 0.22849518908504335, 0.22871124689148845, 0.22896438637286268, 0.22925210061786533, 0.22957168503098704, 0.229920278078862, 0.23029489977934667, 0.23069248773381557, 0.23110993074484734, 0.23154410021666194, 0.23199187960263293, 0.23245019215283147, 0.2329160271431961, 0.23338646465952975, 0.23385869888781663, 0.23433005974859364], [0.23872585383667005, 0.23836274256623968, 0.23797965978405464, 0.23757707658076452, 0.2371557117939778, 0.23671654970595055, 0.23626085474050793, 0.2357901823713031, 0.2353063854533174, 0.23481161522090793, 0.23430831626364862, 0.2337992148996329, 0.23328730051720334, 0.23277579965047654, 0.2322681427890687, 0.23176792419227435, 0.2312788552732025, 0.23080471242572323, 0.23034928046961542, 0.22991629316711826, 0.229509372495341, 0.22913196852165849, 0.22878730180319368, 0.22847831020104548, 0.22820760185627753, 0.22797741581823505, 0.22778959145768674, 0.22764554735989867, 0.2275462699084796, 0.22749231127965183, 0.22748379611177308, 0.22752043573793548, 0.22760154860458742, 0.2277260853683632, 0.2278926571732184, 0.22809956575024382, 0.22834483422738597, 0.22862623784823782, 0.2289413341341795, 0.2292874923387698, 0.22966192229976148, 0.2300617029658392, 0.23048381094934828, 0.23092514943432055, 0.23138257766513307, 0.23185294107846544, 0.23233310194822457, 0.2328199702186864, 0.23331053403092952, 0.23380188932129475], [0.23910537211489463, 0.23877950767737532, 0.23843611496174272, 0.23807563853003438, 0.23769873661868002, 0.23730629501417705, 0.23689943823787019, 0.23647953742259697, 0.23604821428083544, 0.2356073406072035, 0.2351590328304123, 0.2347056412326545, 0.23424973358794843, 0.23379407313329062, 0.23334159097355583, 0.23289535322643945, 0.23245852342855097, 0.23203432093697784, 0.23162597625947778, 0.23123668441722459, 0.23086955757303212, 0.23052757823288264, 0.2302135543397242, 0.22993007752026634, 0.22967948561752266, 0.22946383044970997, 0.2292848514916396, 0.22914395589534317, 0.2290422049741393, 0.22898030699269326, 0.22895861585853397, 0.22897713511844792, 0.22903552654084844, 0.22913312251934204, 0.22926894156108119, 0.22944170621509524, 0.22964986293227607, 0.22989160350695906, 0.2301648879054033, 0.23046746841626586, 0.23079691514464987, 0.23115064290400644, 0.2315259395368741, 0.23191999562187274, 0.23232993541296004, 0.23275284872441512, 0.2331858233398973, 0.23362597740389093, 0.23407049116358405, 0.2345166373789258], [0.23981438530695956, 0.23955229436148548, 0.239276164701278, 0.23898631330308429, 0.23868321846889087, 0.23836753072585637, 0.23804008196047208, 0.23770189237225783, 0.23735417483861926, 0.23699833630333822, 0.23663597583791157, 0.23626887907842703, 0.23589900881105047, 0.23552849156584946, 0.23515960018007168, 0.23479473240561077, 0.23443638575775014, 0.2340871289289615, 0.23374957021731346, 0.23342632353814544, 0.2331199726939425, 0.2328330346647999, 0.23256792274493682, 0.23232691038483091, 0.23211209660051502, 0.23192537378002542, 0.23176839865263324, 0.2316425670922315, 0.2315489933071209, 0.23148849383124934, 0.2314615765847584, 0.23146843512301246, 0.23150894805132566, 0.23158268345440308, 0.23168890808022588, 0.231826600930614, 0.23199447084542255, 0.23219097762249793, 0.23241435618767944, 0.23266264331392178, 0.23293370638153973, 0.2332252736688444, 0.23353496566149512, 0.2338603268687049, 0.2341988576355699, 0.2345480454450002, 0.23490539521260798, 0.23526845809619018, 0.23563485837049972, 0.23600231795935364], [0.2405616083564794, 0.24036296673946453, 0.2401534142259548, 0.23993312512307383, 0.23970239124290324, 0.239461631425561, 0.23921140010458528, 0.23895239460890438, 0.2386854608829528, 0.2384115973012484, 0.23813195625752387, 0.23784784322283345, 0.2375607129933281, 0.2372721628877799, 0.23698392270827215, 0.23669784134508493, 0.23641586998840833, 0.23614004200403016, 0.23587244963558313, 0.23561521780933126, 0.23537047543481782, 0.23514032471102178, 0.23492680905720612, 0.23473188038408047, 0.23455736649779543, 0.2344049394805164, 0.23427608591166518, 0.23417207977954504, 0.2340939588820885, 0.23404250542824934, 0.23401823143092398, 0.23402136933342263, 0.23405186814169213, 0.23410939515255455, 0.2341933431838192, 0.23430284303498483, 0.2344367807463403, 0.23459381908714108, 0.2347724225957542, 0.23497088541957398, 0.23518736116111827, 0.2354198939279343, 0.23566644980488172, 0.23592494801381358, 0.23619329109264933, 0.2364693935079679, 0.23675120820732828, 0.23703675071470165, 0.23732412047046542, 0.23761151921288717], [0.24118918103716938, 0.24104198806311025, 0.2408863409204864, 0.24072231382781056, 0.24055006835150525, 0.240369861945608, 0.24018205597660405, 0.2399871229783735, 0.2397856528602848, 0.23957835777469622, 0.23936607534035564, 0.2391497699173463, 0.23893053163922656, 0.2387095729306515, 0.2384882222755671, 0.2382679150530951, 0.23805018132591518, 0.23783663054889365, 0.2376289332625155, 0.2374287999438339, 0.2372379573034701, 0.23705812243584723, 0.23689097534549938, 0.23673813047842035, 0.23660110797710443, 0.2364813054444591, 0.2363799710390935, 0.23629817872785708, 0.2362368064879752, 0.23619651817998202, 0.23617774970565886, 0.23618069992663537, 0.23620532665580374, 0.2362513478537456, 0.23631824797572057, 0.23640528923168364, 0.2365115273522262, 0.2366358313061196, 0.23677690629737463, 0.23693331928630024, 0.23710352623233333, 0.23728590024636434, 0.23747875986454473, 0.23768039670992314, 0.23788910188712512, 0.23810319055226023, 0.23832102420865273, 0.23854103039240984, 0.2387617195244584, 0.2389816988125984], [0.241685457765255, 0.2415795616194928, 0.24146737751476763, 0.24134893606862368, 0.24122433225218223, 0.2410937322523485, 0.24095737999957065, 0.24081560315705297, 0.24066881834784384, 0.24051753538103174, 0.24036236022895086, 0.24020399650545302, 0.2400432452025434, 0.2398810024604617, 0.2397182551758167, 0.23955607429443354, 0.2393956056903778, 0.23923805859971778, 0.23908469165568816, 0.2389367966588653, 0.23879568030867115, 0.23866264421705258, 0.2385389636168756, 0.23842586526127352, 0.2383245050805365, 0.23823594621497382, 0.23816113807093608, 0.23810089704931758, 0.23805588956921397, 0.2380266179535336, 0.23801340965967405, 0.23801641023018522, 0.2380355802106856, 0.23807069614165335, 0.23812135558450556, 0.23818698599845686, 0.2382668571506832, 0.23836009662520932, 0.23846570790135127, 0.23858259040449825, 0.23870956089269468, 0.23884537553217092, 0.2389887520321879, 0.23913839125129885, 0.23929299774921958, 0.23945129883599803, 0.23961206175781738, 0.23977410875132854, 0.2399363297910516, 0.24009769294291886], [0.2420839202060437, 0.24201289622372696, 0.24193766718647125, 0.2418582587882801, 0.24177474056320172, 0.24168723040657009, 0.24159589882985752, 0.24150097280993216, 0.24140273908247736, 0.24130154672163054, 0.24119780884450995, 0.2410920032811888, 0.2409846720587413, 0.24087641956298023, 0.24076790926397068, 0.24065985892158093, 0.24055303422508897, 0.24044824086563327, 0.2403463150910231, 0.2402481128475509, 0.24015449767092328, 0.24006632754576893, 0.23998444100756874, 0.23990964280928337, 0.23984268951439738, 0.23978427540574765, 0.23973501911293943, 0.23969545135860898, 0.23966600420430448, 0.23964700214031168, 0.23963865531135878, 0.23964105510381367, 0.2396541722426619, 0.2396778574619137, 0.2397118447242987, 0.23975575687957454, 0.2398091135698031, 0.23987134111845612, 0.23994178408147065, 0.24001971809481018, 0.24010436362612694, 0.24019490022819664, 0.24029048089832422, 0.24039024616946297, 0.24049333759318764, 0.24059891031925162, 0.2407061445282928, 0.24081425553030072, 0.24092250239882107, 0.24103019506692183], [0.24239546691671354, 0.24235258682782496, 0.24230727234844524, 0.24225955222682222, 0.24220948141266282, 0.2421571434316466, 0.24210265255790236, 0.2420461557073663, 0.2419878339710916, 0.2419279037058307, 0.24186661709999058, 0.24180426213677572, 0.24174116188331005, 0.24167767304500784, 0.24161418373854618, 0.24155111045442387, 0.24148889420103223, 0.24142799584596722, 0.24136889069632295, 0.2413120623870632, 0.24125799617422242, 0.2412071717564487, 0.24116005577297522, 0.24111709414718205, 0.2410787044612139, 0.24104526855752603, 0.24101712556681687, 0.24099456555796286, 0.24097782399402826, 0.24096707715932403, 0.24096243869638667, 0.24096395735959597, 0.24097161605526193, 0.24098533219799087, 0.2410049593717755, 0.2410302902434267, 0.24106106063751376, 0.24109695464760358, 0.24113761062972972, 0.24118262790179965, 0.24123157395778483, 0.24128399199835326, 0.24133940858000205, 0.24139734119225387, 0.24145730558630554, 0.2415188226976047, 0.2415814250279696, 0.24164466237875323, 0.2417081068538757, 0.24177135707907474], [0.24261656209965388, 0.24259353984280813, 0.24256930215646702, 0.24254387394881335, 0.24251729363255556, 0.24248961412699102, 0.24246090373436677, 0.24243124685589168, 0.24240074451221982, 0.24236951463371395, 0.2423376920874555, 0.24230542841090244, 0.24227289122639092, 0.24224026331635173, 0.24220774134614512, 0.24217553422970844, 0.2421438611425974, 0.24211294919724619, 0.24208303080606844, 0.24205434076900004, 0.24202711313282768, 0.24200157787969917, 0.24197795751110454, 0.24195646360089756, 0.24193729339616774, 0.24192062654762667, 0.24190662205135957, 0.24189541548116067, 0.24188711658518489, 0.24188180731240622, 0.241879540323618, 0.24188033802880526, 0.24188419217814724, 0.2418910640182384, 0.2419008850089775, 0.2419135580806238, 0.24192895939540107, 0.24194694056434254, 0.24196733125833664, 0.24198994214297234, 0.24201456806008534, 0.24204099137503807, 0.24206898540774427, 0.2420983178671721, 0.2421287542132984, 0.24216006087692163, 0.24219200827597565, 0.24222437357657634, 0.24225694315751262, 0.24228951474780144]]}, {\"hoverinfo\": \"text\", \"legendgroup\": \"In-sample\", \"marker\": {\"color\": \"black\", \"opacity\": 0.5, \"symbol\": 1}, \"mode\": \"markers\", \"name\": \"In-sample\", \"text\": [\"0_0\", \"1_0\", \"2_0\", \"3_0\", \"4_0\", \"5_0\", \"6_0\", \"7_0\", \"8_0\", \"9_0\", \"10_0\", \"11_0\", \"12_0\", \"13_0\", \"14_0\", \"15_0\", \"16_0\", \"17_0\", \"18_0\", \"19_0\", \"20_0\", \"21_0\", \"22_0\", \"23_0\"], \"type\": \"scatter\", \"x\": [5, 43, 23, 45, 49, 43, 56, 34, 54, 18, 15, 38, 41, 42, 42, 41, 41, 40, 44, 38, 43, 42, 35, 46], \"xaxis\": \"x\", \"y\": [1.1034355229703196e-05, 4.105364690785442e-07, 0.014388260567730632, 0.024145430511910773, 1.053971740060733e-06, 0.004819812341693652, 3.616503292267924e-08, 6.533405868094214e-08, 3.886436376748688e-08, 1.2430719133522317e-08, 0.00012921158968318136, 9.683017012324612e-08, 0.009404069104362969, 0.007606856020702582, 0.0063379649975360474, 0.007421384415851708, 0.024050292831800598, 0.0062498785396539, 0.006671234132972485, 0.006993732048536658, 0.007270225627520383, 0.007139755710616323, 0.006940223310507879, 0.007321189680891077], \"yaxis\": \"y\"}, {\"hoverinfo\": \"text\", \"legendgroup\": \"In-sample\", \"marker\": {\"color\": \"black\", \"opacity\": 0.5, \"symbol\": 1}, \"mode\": \"markers\", \"name\": \"In-sample\", \"showlegend\": false, \"text\": [\"0_0\", \"1_0\", \"2_0\", \"3_0\", \"4_0\", \"5_0\", \"6_0\", \"7_0\", \"8_0\", \"9_0\", \"10_0\", \"11_0\", \"12_0\", \"13_0\", \"14_0\", \"15_0\", \"16_0\", \"17_0\", \"18_0\", \"19_0\", \"20_0\", \"21_0\", \"22_0\", \"23_0\"], \"type\": \"scatter\", \"x\": [5, 43, 23, 45, 49, 43, 56, 34, 54, 18, 15, 38, 41, 42, 42, 41, 41, 40, 44, 38, 43, 42, 35, 46], \"xaxis\": \"x2\", \"y\": [1.1034355229703196e-05, 4.105364690785442e-07, 0.014388260567730632, 0.024145430511910773, 1.053971740060733e-06, 0.004819812341693652, 3.616503292267924e-08, 6.533405868094214e-08, 3.886436376748688e-08, 1.2430719133522317e-08, 0.00012921158968318136, 9.683017012324612e-08, 0.009404069104362969, 0.007606856020702582, 0.0063379649975360474, 0.007421384415851708, 0.024050292831800598, 0.0062498785396539, 0.006671234132972485, 0.006993732048536658, 0.007270225627520383, 0.007139755710616323, 0.006940223310507879, 0.007321189680891077], \"yaxis\": \"y2\"}],\n",
              "                        {\"annotations\": [{\"font\": {\"size\": 14}, \"showarrow\": false, \"text\": \"Mean\", \"x\": 0.25, \"xanchor\": \"center\", \"xref\": \"paper\", \"y\": 1, \"yanchor\": \"bottom\", \"yref\": \"paper\"}, {\"font\": {\"size\": 14}, \"showarrow\": false, \"text\": \"Standard Error\", \"x\": 0.8, \"xanchor\": \"center\", \"xref\": \"paper\", \"y\": 1, \"yanchor\": \"bottom\", \"yref\": \"paper\"}], \"autosize\": false, \"height\": 450, \"hovermode\": \"closest\", \"legend\": {\"orientation\": \"h\", \"x\": 0, \"y\": -0.25}, \"margin\": {\"b\": 100, \"l\": 35, \"pad\": 0, \"r\": 35, \"t\": 35}, \"template\": {\"data\": {\"bar\": [{\"error_x\": {\"color\": \"#2a3f5f\"}, \"error_y\": {\"color\": \"#2a3f5f\"}, \"marker\": {\"line\": {\"color\": \"#E5ECF6\", \"width\": 0.5}}, \"type\": \"bar\"}], \"barpolar\": [{\"marker\": {\"line\": {\"color\": \"#E5ECF6\", \"width\": 0.5}}, \"type\": \"barpolar\"}], \"carpet\": [{\"aaxis\": {\"endlinecolor\": \"#2a3f5f\", \"gridcolor\": \"white\", \"linecolor\": \"white\", \"minorgridcolor\": \"white\", \"startlinecolor\": \"#2a3f5f\"}, \"baxis\": {\"endlinecolor\": \"#2a3f5f\", \"gridcolor\": \"white\", \"linecolor\": \"white\", \"minorgridcolor\": \"white\", \"startlinecolor\": \"#2a3f5f\"}, \"type\": \"carpet\"}], \"choropleth\": [{\"colorbar\": {\"outlinewidth\": 0, \"ticks\": \"\"}, \"type\": \"choropleth\"}], \"contour\": [{\"colorbar\": {\"outlinewidth\": 0, \"ticks\": \"\"}, \"colorscale\": [[0.0, \"#0d0887\"], [0.1111111111111111, \"#46039f\"], [0.2222222222222222, \"#7201a8\"], [0.3333333333333333, \"#9c179e\"], [0.4444444444444444, \"#bd3786\"], [0.5555555555555556, \"#d8576b\"], [0.6666666666666666, \"#ed7953\"], [0.7777777777777778, \"#fb9f3a\"], [0.8888888888888888, \"#fdca26\"], [1.0, \"#f0f921\"]], \"type\": \"contour\"}], \"contourcarpet\": [{\"colorbar\": {\"outlinewidth\": 0, \"ticks\": \"\"}, \"type\": \"contourcarpet\"}], \"heatmap\": [{\"colorbar\": {\"outlinewidth\": 0, \"ticks\": \"\"}, \"colorscale\": [[0.0, \"#0d0887\"], [0.1111111111111111, \"#46039f\"], [0.2222222222222222, \"#7201a8\"], [0.3333333333333333, \"#9c179e\"], [0.4444444444444444, \"#bd3786\"], [0.5555555555555556, \"#d8576b\"], [0.6666666666666666, \"#ed7953\"], [0.7777777777777778, \"#fb9f3a\"], [0.8888888888888888, \"#fdca26\"], [1.0, \"#f0f921\"]], \"type\": \"heatmap\"}], \"heatmapgl\": [{\"colorbar\": {\"outlinewidth\": 0, \"ticks\": \"\"}, \"colorscale\": [[0.0, \"#0d0887\"], [0.1111111111111111, \"#46039f\"], [0.2222222222222222, \"#7201a8\"], [0.3333333333333333, \"#9c179e\"], [0.4444444444444444, \"#bd3786\"], [0.5555555555555556, \"#d8576b\"], [0.6666666666666666, \"#ed7953\"], [0.7777777777777778, \"#fb9f3a\"], [0.8888888888888888, \"#fdca26\"], [1.0, \"#f0f921\"]], \"type\": \"heatmapgl\"}], \"histogram\": [{\"marker\": {\"colorbar\": {\"outlinewidth\": 0, \"ticks\": \"\"}}, \"type\": \"histogram\"}], \"histogram2d\": [{\"colorbar\": {\"outlinewidth\": 0, \"ticks\": \"\"}, \"colorscale\": [[0.0, \"#0d0887\"], [0.1111111111111111, \"#46039f\"], [0.2222222222222222, \"#7201a8\"], [0.3333333333333333, \"#9c179e\"], [0.4444444444444444, \"#bd3786\"], [0.5555555555555556, \"#d8576b\"], [0.6666666666666666, \"#ed7953\"], [0.7777777777777778, \"#fb9f3a\"], [0.8888888888888888, \"#fdca26\"], [1.0, \"#f0f921\"]], \"type\": \"histogram2d\"}], \"histogram2dcontour\": [{\"colorbar\": {\"outlinewidth\": 0, \"ticks\": \"\"}, \"colorscale\": [[0.0, \"#0d0887\"], [0.1111111111111111, \"#46039f\"], [0.2222222222222222, \"#7201a8\"], [0.3333333333333333, \"#9c179e\"], [0.4444444444444444, \"#bd3786\"], [0.5555555555555556, \"#d8576b\"], [0.6666666666666666, \"#ed7953\"], [0.7777777777777778, \"#fb9f3a\"], [0.8888888888888888, \"#fdca26\"], [1.0, \"#f0f921\"]], \"type\": \"histogram2dcontour\"}], \"mesh3d\": [{\"colorbar\": {\"outlinewidth\": 0, \"ticks\": \"\"}, \"type\": \"mesh3d\"}], \"parcoords\": [{\"line\": {\"colorbar\": {\"outlinewidth\": 0, \"ticks\": \"\"}}, \"type\": \"parcoords\"}], \"pie\": [{\"automargin\": true, \"type\": \"pie\"}], \"scatter\": [{\"marker\": {\"colorbar\": {\"outlinewidth\": 0, \"ticks\": \"\"}}, \"type\": \"scatter\"}], \"scatter3d\": [{\"line\": {\"colorbar\": {\"outlinewidth\": 0, \"ticks\": \"\"}}, \"marker\": {\"colorbar\": {\"outlinewidth\": 0, \"ticks\": \"\"}}, \"type\": \"scatter3d\"}], \"scattercarpet\": [{\"marker\": {\"colorbar\": {\"outlinewidth\": 0, \"ticks\": \"\"}}, \"type\": \"scattercarpet\"}], \"scattergeo\": [{\"marker\": {\"colorbar\": {\"outlinewidth\": 0, \"ticks\": \"\"}}, \"type\": \"scattergeo\"}], \"scattergl\": [{\"marker\": {\"colorbar\": {\"outlinewidth\": 0, \"ticks\": \"\"}}, \"type\": \"scattergl\"}], \"scattermapbox\": [{\"marker\": {\"colorbar\": {\"outlinewidth\": 0, \"ticks\": \"\"}}, \"type\": \"scattermapbox\"}], \"scatterpolar\": [{\"marker\": {\"colorbar\": {\"outlinewidth\": 0, \"ticks\": \"\"}}, \"type\": \"scatterpolar\"}], \"scatterpolargl\": [{\"marker\": {\"colorbar\": {\"outlinewidth\": 0, \"ticks\": \"\"}}, \"type\": \"scatterpolargl\"}], \"scatterternary\": [{\"marker\": {\"colorbar\": {\"outlinewidth\": 0, \"ticks\": \"\"}}, \"type\": \"scatterternary\"}], \"surface\": [{\"colorbar\": {\"outlinewidth\": 0, \"ticks\": \"\"}, \"colorscale\": [[0.0, \"#0d0887\"], [0.1111111111111111, \"#46039f\"], [0.2222222222222222, \"#7201a8\"], [0.3333333333333333, \"#9c179e\"], [0.4444444444444444, \"#bd3786\"], [0.5555555555555556, \"#d8576b\"], [0.6666666666666666, \"#ed7953\"], [0.7777777777777778, \"#fb9f3a\"], [0.8888888888888888, \"#fdca26\"], [1.0, \"#f0f921\"]], \"type\": \"surface\"}], \"table\": [{\"cells\": {\"fill\": {\"color\": \"#EBF0F8\"}, \"line\": {\"color\": \"white\"}}, \"header\": {\"fill\": {\"color\": \"#C8D4E3\"}, \"line\": {\"color\": \"white\"}}, \"type\": \"table\"}]}, \"layout\": {\"annotationdefaults\": {\"arrowcolor\": \"#2a3f5f\", \"arrowhead\": 0, \"arrowwidth\": 1}, \"coloraxis\": {\"colorbar\": {\"outlinewidth\": 0, \"ticks\": \"\"}}, \"colorscale\": {\"diverging\": [[0, \"#8e0152\"], [0.1, \"#c51b7d\"], [0.2, \"#de77ae\"], [0.3, \"#f1b6da\"], [0.4, \"#fde0ef\"], [0.5, \"#f7f7f7\"], [0.6, \"#e6f5d0\"], [0.7, \"#b8e186\"], [0.8, \"#7fbc41\"], [0.9, \"#4d9221\"], [1, \"#276419\"]], \"sequential\": [[0.0, \"#0d0887\"], [0.1111111111111111, \"#46039f\"], [0.2222222222222222, \"#7201a8\"], [0.3333333333333333, \"#9c179e\"], [0.4444444444444444, \"#bd3786\"], [0.5555555555555556, \"#d8576b\"], [0.6666666666666666, \"#ed7953\"], [0.7777777777777778, \"#fb9f3a\"], [0.8888888888888888, \"#fdca26\"], [1.0, \"#f0f921\"]], \"sequentialminus\": [[0.0, \"#0d0887\"], [0.1111111111111111, \"#46039f\"], [0.2222222222222222, \"#7201a8\"], [0.3333333333333333, \"#9c179e\"], [0.4444444444444444, \"#bd3786\"], [0.5555555555555556, \"#d8576b\"], [0.6666666666666666, \"#ed7953\"], [0.7777777777777778, \"#fb9f3a\"], [0.8888888888888888, \"#fdca26\"], [1.0, \"#f0f921\"]]}, \"colorway\": [\"#636efa\", \"#EF553B\", \"#00cc96\", \"#ab63fa\", \"#FFA15A\", \"#19d3f3\", \"#FF6692\", \"#B6E880\", \"#FF97FF\", \"#FECB52\"], \"font\": {\"color\": \"#2a3f5f\"}, \"geo\": {\"bgcolor\": \"white\", \"lakecolor\": \"white\", \"landcolor\": \"#E5ECF6\", \"showlakes\": true, \"showland\": true, \"subunitcolor\": \"white\"}, \"hoverlabel\": {\"align\": \"left\"}, \"hovermode\": \"closest\", \"mapbox\": {\"style\": \"light\"}, \"paper_bgcolor\": \"white\", \"plot_bgcolor\": \"#E5ECF6\", \"polar\": {\"angularaxis\": {\"gridcolor\": \"white\", \"linecolor\": \"white\", \"ticks\": \"\"}, \"bgcolor\": \"#E5ECF6\", \"radialaxis\": {\"gridcolor\": \"white\", \"linecolor\": \"white\", \"ticks\": \"\"}}, \"scene\": {\"xaxis\": {\"backgroundcolor\": \"#E5ECF6\", \"gridcolor\": \"white\", \"gridwidth\": 2, \"linecolor\": \"white\", \"showbackground\": true, \"ticks\": \"\", \"zerolinecolor\": \"white\"}, \"yaxis\": {\"backgroundcolor\": \"#E5ECF6\", \"gridcolor\": \"white\", \"gridwidth\": 2, \"linecolor\": \"white\", \"showbackground\": true, \"ticks\": \"\", \"zerolinecolor\": \"white\"}, \"zaxis\": {\"backgroundcolor\": \"#E5ECF6\", \"gridcolor\": \"white\", \"gridwidth\": 2, \"linecolor\": \"white\", \"showbackground\": true, \"ticks\": \"\", \"zerolinecolor\": \"white\"}}, \"shapedefaults\": {\"line\": {\"color\": \"#2a3f5f\"}}, \"ternary\": {\"aaxis\": {\"gridcolor\": \"white\", \"linecolor\": \"white\", \"ticks\": \"\"}, \"baxis\": {\"gridcolor\": \"white\", \"linecolor\": \"white\", \"ticks\": \"\"}, \"bgcolor\": \"#E5ECF6\", \"caxis\": {\"gridcolor\": \"white\", \"linecolor\": \"white\", \"ticks\": \"\"}}, \"title\": {\"x\": 0.05}, \"xaxis\": {\"automargin\": true, \"gridcolor\": \"white\", \"linecolor\": \"white\", \"ticks\": \"\", \"title\": {\"standoff\": 15}, \"zerolinecolor\": \"white\", \"zerolinewidth\": 2}, \"yaxis\": {\"automargin\": true, \"gridcolor\": \"white\", \"linecolor\": \"white\", \"ticks\": \"\", \"title\": {\"standoff\": 15}, \"zerolinecolor\": \"white\", \"zerolinewidth\": 2}}}, \"width\": 950, \"xaxis\": {\"anchor\": \"y\", \"autorange\": false, \"domain\": [0.05, 0.45], \"exponentformat\": \"e\", \"range\": [4.0, 64.0], \"tickfont\": {\"size\": 11}, \"tickmode\": \"auto\", \"title\": {\"text\": \"batch_size\"}, \"type\": \"linear\"}, \"xaxis2\": {\"anchor\": \"y2\", \"autorange\": false, \"domain\": [0.6, 1], \"exponentformat\": \"e\", \"range\": [4.0, 64.0], \"tickfont\": {\"size\": 11}, \"tickmode\": \"auto\", \"title\": {\"text\": \"batch_size\"}, \"type\": \"linear\"}, \"yaxis\": {\"anchor\": \"x\", \"autorange\": false, \"domain\": [0, 1], \"exponentformat\": \"e\", \"range\": [-8.0, -1.0], \"tickfont\": {\"size\": 11}, \"tickmode\": \"auto\", \"title\": {\"text\": \"lr\"}, \"type\": \"log\"}, \"yaxis2\": {\"anchor\": \"x2\", \"autorange\": false, \"domain\": [0, 1], \"exponentformat\": \"e\", \"range\": [-8.0, -1.0], \"tickfont\": {\"size\": 11}, \"tickmode\": \"auto\", \"type\": \"log\"}},\n",
              "                        {\"responsive\": true}\n",
              "                    ).then(function(){\n",
              "                            \n",
              "var gd = document.getElementById('47cda26f-8ed0-442a-855a-77ae797cc425');\n",
              "var x = new MutationObserver(function (mutations, observer) {{\n",
              "        var display = window.getComputedStyle(gd).display;\n",
              "        if (!display || display === 'none') {{\n",
              "            console.log([gd, 'removed!']);\n",
              "            Plotly.purge(gd);\n",
              "            observer.disconnect();\n",
              "        }}\n",
              "}});\n",
              "\n",
              "// Listen for the removal of the full notebook cells\n",
              "var notebookContainer = gd.closest('#notebook-container');\n",
              "if (notebookContainer) {{\n",
              "    x.observe(notebookContainer, {childList: true});\n",
              "}}\n",
              "\n",
              "// Listen for the clearing of the current output cell\n",
              "var outputEl = gd.closest('.output');\n",
              "if (outputEl) {{\n",
              "    x.observe(outputEl, {childList: true});\n",
              "}}\n",
              "\n",
              "                        })\n",
              "                };\n",
              "                \n",
              "            </script>\n",
              "        </div>\n",
              "</body>\n",
              "</html>"
            ]
          },
          "metadata": {}
        }
      ]
    },
    {
      "cell_type": "markdown",
      "metadata": {
        "id": "BpPflZ0bUwcC"
      },
      "source": [
        "# Ax-platform Optimized Run"
      ]
    }
  ]
}